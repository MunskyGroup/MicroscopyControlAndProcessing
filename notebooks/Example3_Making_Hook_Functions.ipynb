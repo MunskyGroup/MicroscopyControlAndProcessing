{
 "cells": [
  {
   "cell_type": "markdown",
   "metadata": {},
   "source": [
    "This Example code will walk you through the creation of PyroManager Hooks.\n",
    "\n",
    "These hooks are also called 'callback functions' which are functions passed into functions to be evaluated at different stages of the image acquisition loop.\n",
    "The stages are as follows:\n",
    "\n",
    "(1) Pre-Hardware Hook \n",
    "\n",
    "(2) Post Hardware Hook\n",
    "\n",
    "(3) Pre Camera Hook\n",
    "\n",
    "(4) Post Camera Hook\n",
    "\n",
    "(5) Image Processing Hook\n",
    "\n",
    "If a callback is used, the acqusition will cycle over (1~4) repeating for each image acquired. The image hook lives on its own thread.\n",
    "\n",
    "Each hook function requires the creation of a function with a very particular inputs, unique to each type of callback\n",
    "\n",
    "A HookSet is a wad of all the hook functions treated as a single object. Each hook is a variable of the HookSet."
   ]
  },
  {
   "cell_type": "markdown",
   "metadata": {},
   "source": [
    "Hello World Example:\n",
    "Below is an example of the creation of a Pre hardware hook that prints hello world after actuating the hardware"
   ]
  },
  {
   "cell_type": "code",
   "execution_count": 2,
   "metadata": {},
   "outputs": [],
   "source": [
    "import sys,os\n",
    "sys.path.append('source')"
   ]
  },
  {
   "cell_type": "code",
   "execution_count": 3,
   "metadata": {},
   "outputs": [
    {
     "name": "stderr",
     "output_type": "stream",
     "text": [
      "/Users/mpmay/Projects/MicroscopyControlAndProcessingMe/venv/lib/python3.10/site-packages/docstring_inheritance/docstring_inheritors/bases/inheritor.py:329: DocstringInheritanceWarning: File /Users/mpmay/Projects/MicroscopyControlAndProcessingMe/venv/lib/python3.10/site-packages/pycromanager/acquisitions.py:698: in XYTiledAcquisition.__init__: section Parameters: the docstring for the argument 'tile_overlap' is missing.\n",
      "  self._warn(\n",
      "/Users/mpmay/Projects/MicroscopyControlAndProcessingMe/venv/lib/python3.10/site-packages/docstring_inheritance/docstring_inheritors/bases/inheritor.py:329: DocstringInheritanceWarning: File /Users/mpmay/Projects/MicroscopyControlAndProcessingMe/venv/lib/python3.10/site-packages/pycromanager/acquisitions.py:698: in XYTiledAcquisition.__init__: section Parameters: the docstring for the argument 'directory' is missing.\n",
      "  self._warn(\n",
      "/Users/mpmay/Projects/MicroscopyControlAndProcessingMe/venv/lib/python3.10/site-packages/docstring_inheritance/docstring_inheritors/bases/inheritor.py:329: DocstringInheritanceWarning: File /Users/mpmay/Projects/MicroscopyControlAndProcessingMe/venv/lib/python3.10/site-packages/pycromanager/acquisitions.py:698: in XYTiledAcquisition.__init__: section Parameters: the docstring for the argument 'name' is missing.\n",
      "  self._warn(\n",
      "/Users/mpmay/Projects/MicroscopyControlAndProcessingMe/venv/lib/python3.10/site-packages/docstring_inheritance/docstring_inheritors/bases/inheritor.py:329: DocstringInheritanceWarning: File /Users/mpmay/Projects/MicroscopyControlAndProcessingMe/venv/lib/python3.10/site-packages/pycromanager/acquisitions.py:698: in XYTiledAcquisition.__init__: section Parameters: the docstring for the argument 'max_multi_res_index' is missing.\n",
      "  self._warn(\n",
      "/Users/mpmay/Projects/MicroscopyControlAndProcessingMe/venv/lib/python3.10/site-packages/docstring_inheritance/docstring_inheritors/bases/inheritor.py:329: DocstringInheritanceWarning: File /Users/mpmay/Projects/MicroscopyControlAndProcessingMe/venv/lib/python3.10/site-packages/pycromanager/acquisitions.py:698: in XYTiledAcquisition.__init__: section Parameters: the docstring for the argument 'image_process_fn' is missing.\n",
      "  self._warn(\n",
      "/Users/mpmay/Projects/MicroscopyControlAndProcessingMe/venv/lib/python3.10/site-packages/docstring_inheritance/docstring_inheritors/bases/inheritor.py:329: DocstringInheritanceWarning: File /Users/mpmay/Projects/MicroscopyControlAndProcessingMe/venv/lib/python3.10/site-packages/pycromanager/acquisitions.py:698: in XYTiledAcquisition.__init__: section Parameters: the docstring for the argument 'pre_hardware_hook_fn' is missing.\n",
      "  self._warn(\n",
      "/Users/mpmay/Projects/MicroscopyControlAndProcessingMe/venv/lib/python3.10/site-packages/docstring_inheritance/docstring_inheritors/bases/inheritor.py:329: DocstringInheritanceWarning: File /Users/mpmay/Projects/MicroscopyControlAndProcessingMe/venv/lib/python3.10/site-packages/pycromanager/acquisitions.py:698: in XYTiledAcquisition.__init__: section Parameters: the docstring for the argument 'post_hardware_hook_fn' is missing.\n",
      "  self._warn(\n",
      "/Users/mpmay/Projects/MicroscopyControlAndProcessingMe/venv/lib/python3.10/site-packages/docstring_inheritance/docstring_inheritors/bases/inheritor.py:329: DocstringInheritanceWarning: File /Users/mpmay/Projects/MicroscopyControlAndProcessingMe/venv/lib/python3.10/site-packages/pycromanager/acquisitions.py:698: in XYTiledAcquisition.__init__: section Parameters: the docstring for the argument 'post_camera_hook_fn' is missing.\n",
      "  self._warn(\n",
      "/Users/mpmay/Projects/MicroscopyControlAndProcessingMe/venv/lib/python3.10/site-packages/docstring_inheritance/docstring_inheritors/bases/inheritor.py:329: DocstringInheritanceWarning: File /Users/mpmay/Projects/MicroscopyControlAndProcessingMe/venv/lib/python3.10/site-packages/pycromanager/acquisitions.py:698: in XYTiledAcquisition.__init__: section Parameters: the docstring for the argument 'show_display' is missing.\n",
      "  self._warn(\n",
      "/Users/mpmay/Projects/MicroscopyControlAndProcessingMe/venv/lib/python3.10/site-packages/docstring_inheritance/docstring_inheritors/bases/inheritor.py:329: DocstringInheritanceWarning: File /Users/mpmay/Projects/MicroscopyControlAndProcessingMe/venv/lib/python3.10/site-packages/pycromanager/acquisitions.py:698: in XYTiledAcquisition.__init__: section Parameters: the docstring for the argument 'image_saved_fn' is missing.\n",
      "  self._warn(\n",
      "/Users/mpmay/Projects/MicroscopyControlAndProcessingMe/venv/lib/python3.10/site-packages/docstring_inheritance/docstring_inheritors/bases/inheritor.py:329: DocstringInheritanceWarning: File /Users/mpmay/Projects/MicroscopyControlAndProcessingMe/venv/lib/python3.10/site-packages/pycromanager/acquisitions.py:698: in XYTiledAcquisition.__init__: section Parameters: the docstring for the argument 'process' is missing.\n",
      "  self._warn(\n",
      "/Users/mpmay/Projects/MicroscopyControlAndProcessingMe/venv/lib/python3.10/site-packages/docstring_inheritance/docstring_inheritors/bases/inheritor.py:329: DocstringInheritanceWarning: File /Users/mpmay/Projects/MicroscopyControlAndProcessingMe/venv/lib/python3.10/site-packages/pycromanager/acquisitions.py:698: in XYTiledAcquisition.__init__: section Parameters: the docstring for the argument 'saving_queue_size' is missing.\n",
      "  self._warn(\n",
      "/Users/mpmay/Projects/MicroscopyControlAndProcessingMe/venv/lib/python3.10/site-packages/docstring_inheritance/docstring_inheritors/bases/inheritor.py:329: DocstringInheritanceWarning: File /Users/mpmay/Projects/MicroscopyControlAndProcessingMe/venv/lib/python3.10/site-packages/pycromanager/acquisitions.py:698: in XYTiledAcquisition.__init__: section Parameters: the docstring for the argument 'timeout' is missing.\n",
      "  self._warn(\n",
      "/Users/mpmay/Projects/MicroscopyControlAndProcessingMe/venv/lib/python3.10/site-packages/docstring_inheritance/docstring_inheritors/bases/inheritor.py:329: DocstringInheritanceWarning: File /Users/mpmay/Projects/MicroscopyControlAndProcessingMe/venv/lib/python3.10/site-packages/pycromanager/acquisitions.py:698: in XYTiledAcquisition.__init__: section Parameters: the docstring for the argument 'port' is missing.\n",
      "  self._warn(\n",
      "/Users/mpmay/Projects/MicroscopyControlAndProcessingMe/venv/lib/python3.10/site-packages/docstring_inheritance/docstring_inheritors/bases/inheritor.py:329: DocstringInheritanceWarning: File /Users/mpmay/Projects/MicroscopyControlAndProcessingMe/venv/lib/python3.10/site-packages/pycromanager/acquisitions.py:698: in XYTiledAcquisition.__init__: section Parameters: the docstring for the argument 'debug' is missing.\n",
      "  self._warn(\n",
      "/Users/mpmay/Projects/MicroscopyControlAndProcessingMe/venv/lib/python3.10/site-packages/docstring_inheritance/docstring_inheritors/bases/inheritor.py:329: DocstringInheritanceWarning: File /Users/mpmay/Projects/MicroscopyControlAndProcessingMe/venv/lib/python3.10/site-packages/pycromanager/acquisitions.py:698: in XYTiledAcquisition.__init__: section Parameters: the docstring for the argument 'core_log_debug' is missing.\n",
      "  self._warn(\n",
      "/Users/mpmay/Projects/MicroscopyControlAndProcessingMe/venv/lib/python3.10/site-packages/docstring_inheritance/docstring_inheritors/bases/inheritor.py:329: DocstringInheritanceWarning: File /Users/mpmay/Projects/MicroscopyControlAndProcessingMe/venv/lib/python3.10/site-packages/pycromanager/acquisitions.py:775: in ExploreAcquisition.__init__: section Parameters: the docstring for the argument 'directory' is missing.\n",
      "  self._warn(\n",
      "/Users/mpmay/Projects/MicroscopyControlAndProcessingMe/venv/lib/python3.10/site-packages/docstring_inheritance/docstring_inheritors/bases/inheritor.py:329: DocstringInheritanceWarning: File /Users/mpmay/Projects/MicroscopyControlAndProcessingMe/venv/lib/python3.10/site-packages/pycromanager/acquisitions.py:775: in ExploreAcquisition.__init__: section Parameters: the docstring for the argument 'name' is missing.\n",
      "  self._warn(\n",
      "/Users/mpmay/Projects/MicroscopyControlAndProcessingMe/venv/lib/python3.10/site-packages/docstring_inheritance/docstring_inheritors/bases/inheritor.py:329: DocstringInheritanceWarning: File /Users/mpmay/Projects/MicroscopyControlAndProcessingMe/venv/lib/python3.10/site-packages/pycromanager/acquisitions.py:775: in ExploreAcquisition.__init__: section Parameters: the docstring for the argument 'z_step_um' is missing.\n",
      "  self._warn(\n",
      "/Users/mpmay/Projects/MicroscopyControlAndProcessingMe/venv/lib/python3.10/site-packages/docstring_inheritance/docstring_inheritors/bases/inheritor.py:329: DocstringInheritanceWarning: File /Users/mpmay/Projects/MicroscopyControlAndProcessingMe/venv/lib/python3.10/site-packages/pycromanager/acquisitions.py:775: in ExploreAcquisition.__init__: section Parameters: the docstring for the argument 'tile_overlap' is missing.\n",
      "  self._warn(\n",
      "/Users/mpmay/Projects/MicroscopyControlAndProcessingMe/venv/lib/python3.10/site-packages/docstring_inheritance/docstring_inheritors/bases/inheritor.py:329: DocstringInheritanceWarning: File /Users/mpmay/Projects/MicroscopyControlAndProcessingMe/venv/lib/python3.10/site-packages/pycromanager/acquisitions.py:775: in ExploreAcquisition.__init__: section Parameters: the docstring for the argument 'channel_group' is missing.\n",
      "  self._warn(\n",
      "/Users/mpmay/Projects/MicroscopyControlAndProcessingMe/venv/lib/python3.10/site-packages/docstring_inheritance/docstring_inheritors/bases/inheritor.py:329: DocstringInheritanceWarning: File /Users/mpmay/Projects/MicroscopyControlAndProcessingMe/venv/lib/python3.10/site-packages/pycromanager/acquisitions.py:775: in ExploreAcquisition.__init__: section Parameters: the docstring for the argument 'image_process_fn' is missing.\n",
      "  self._warn(\n",
      "/Users/mpmay/Projects/MicroscopyControlAndProcessingMe/venv/lib/python3.10/site-packages/docstring_inheritance/docstring_inheritors/bases/inheritor.py:329: DocstringInheritanceWarning: File /Users/mpmay/Projects/MicroscopyControlAndProcessingMe/venv/lib/python3.10/site-packages/pycromanager/acquisitions.py:775: in ExploreAcquisition.__init__: section Parameters: the docstring for the argument 'pre_hardware_hook_fn' is missing.\n",
      "  self._warn(\n",
      "/Users/mpmay/Projects/MicroscopyControlAndProcessingMe/venv/lib/python3.10/site-packages/docstring_inheritance/docstring_inheritors/bases/inheritor.py:329: DocstringInheritanceWarning: File /Users/mpmay/Projects/MicroscopyControlAndProcessingMe/venv/lib/python3.10/site-packages/pycromanager/acquisitions.py:775: in ExploreAcquisition.__init__: section Parameters: the docstring for the argument 'post_hardware_hook_fn' is missing.\n",
      "  self._warn(\n",
      "/Users/mpmay/Projects/MicroscopyControlAndProcessingMe/venv/lib/python3.10/site-packages/docstring_inheritance/docstring_inheritors/bases/inheritor.py:329: DocstringInheritanceWarning: File /Users/mpmay/Projects/MicroscopyControlAndProcessingMe/venv/lib/python3.10/site-packages/pycromanager/acquisitions.py:775: in ExploreAcquisition.__init__: section Parameters: the docstring for the argument 'post_camera_hook_fn' is missing.\n",
      "  self._warn(\n",
      "/Users/mpmay/Projects/MicroscopyControlAndProcessingMe/venv/lib/python3.10/site-packages/docstring_inheritance/docstring_inheritors/bases/inheritor.py:329: DocstringInheritanceWarning: File /Users/mpmay/Projects/MicroscopyControlAndProcessingMe/venv/lib/python3.10/site-packages/pycromanager/acquisitions.py:775: in ExploreAcquisition.__init__: section Parameters: the docstring for the argument 'show_display' is missing.\n",
      "  self._warn(\n",
      "/Users/mpmay/Projects/MicroscopyControlAndProcessingMe/venv/lib/python3.10/site-packages/docstring_inheritance/docstring_inheritors/bases/inheritor.py:329: DocstringInheritanceWarning: File /Users/mpmay/Projects/MicroscopyControlAndProcessingMe/venv/lib/python3.10/site-packages/pycromanager/acquisitions.py:775: in ExploreAcquisition.__init__: section Parameters: the docstring for the argument 'image_saved_fn' is missing.\n",
      "  self._warn(\n",
      "/Users/mpmay/Projects/MicroscopyControlAndProcessingMe/venv/lib/python3.10/site-packages/docstring_inheritance/docstring_inheritors/bases/inheritor.py:329: DocstringInheritanceWarning: File /Users/mpmay/Projects/MicroscopyControlAndProcessingMe/venv/lib/python3.10/site-packages/pycromanager/acquisitions.py:775: in ExploreAcquisition.__init__: section Parameters: the docstring for the argument 'process' is missing.\n",
      "  self._warn(\n",
      "/Users/mpmay/Projects/MicroscopyControlAndProcessingMe/venv/lib/python3.10/site-packages/docstring_inheritance/docstring_inheritors/bases/inheritor.py:329: DocstringInheritanceWarning: File /Users/mpmay/Projects/MicroscopyControlAndProcessingMe/venv/lib/python3.10/site-packages/pycromanager/acquisitions.py:775: in ExploreAcquisition.__init__: section Parameters: the docstring for the argument 'saving_queue_size' is missing.\n",
      "  self._warn(\n",
      "/Users/mpmay/Projects/MicroscopyControlAndProcessingMe/venv/lib/python3.10/site-packages/docstring_inheritance/docstring_inheritors/bases/inheritor.py:329: DocstringInheritanceWarning: File /Users/mpmay/Projects/MicroscopyControlAndProcessingMe/venv/lib/python3.10/site-packages/pycromanager/acquisitions.py:775: in ExploreAcquisition.__init__: section Parameters: the docstring for the argument 'timeout' is missing.\n",
      "  self._warn(\n",
      "/Users/mpmay/Projects/MicroscopyControlAndProcessingMe/venv/lib/python3.10/site-packages/docstring_inheritance/docstring_inheritors/bases/inheritor.py:329: DocstringInheritanceWarning: File /Users/mpmay/Projects/MicroscopyControlAndProcessingMe/venv/lib/python3.10/site-packages/pycromanager/acquisitions.py:775: in ExploreAcquisition.__init__: section Parameters: the docstring for the argument 'port' is missing.\n",
      "  self._warn(\n",
      "/Users/mpmay/Projects/MicroscopyControlAndProcessingMe/venv/lib/python3.10/site-packages/docstring_inheritance/docstring_inheritors/bases/inheritor.py:329: DocstringInheritanceWarning: File /Users/mpmay/Projects/MicroscopyControlAndProcessingMe/venv/lib/python3.10/site-packages/pycromanager/acquisitions.py:775: in ExploreAcquisition.__init__: section Parameters: the docstring for the argument 'debug' is missing.\n",
      "  self._warn(\n",
      "/Users/mpmay/Projects/MicroscopyControlAndProcessingMe/venv/lib/python3.10/site-packages/docstring_inheritance/docstring_inheritors/bases/inheritor.py:329: DocstringInheritanceWarning: File /Users/mpmay/Projects/MicroscopyControlAndProcessingMe/venv/lib/python3.10/site-packages/pycromanager/acquisitions.py:775: in ExploreAcquisition.__init__: section Parameters: the docstring for the argument 'core_log_debug' is missing.\n",
      "  self._warn(\n",
      "/Users/mpmay/Projects/MicroscopyControlAndProcessingMe/venv/lib/python3.10/site-packages/docstring_inheritance/docstring_inheritors/bases/inheritor.py:329: DocstringInheritanceWarning: File /Users/mpmay/Projects/MicroscopyControlAndProcessingMe/venv/lib/python3.10/site-packages/pycromanager/acquisitions.py:845: in MagellanAcquisition.__init__: section Parameters: the docstring for the argument 'magellan_acq_index' is missing.\n",
      "  self._warn(\n",
      "/Users/mpmay/Projects/MicroscopyControlAndProcessingMe/venv/lib/python3.10/site-packages/docstring_inheritance/docstring_inheritors/bases/inheritor.py:329: DocstringInheritanceWarning: File /Users/mpmay/Projects/MicroscopyControlAndProcessingMe/venv/lib/python3.10/site-packages/pycromanager/acquisitions.py:845: in MagellanAcquisition.__init__: section Parameters: the docstring for the argument 'magellan_explore' is missing.\n",
      "  self._warn(\n",
      "/Users/mpmay/Projects/MicroscopyControlAndProcessingMe/venv/lib/python3.10/site-packages/docstring_inheritance/docstring_inheritors/bases/inheritor.py:329: DocstringInheritanceWarning: File /Users/mpmay/Projects/MicroscopyControlAndProcessingMe/venv/lib/python3.10/site-packages/pycromanager/acquisitions.py:845: in MagellanAcquisition.__init__: section Parameters: the docstring for the argument 'image_process_fn' is missing.\n",
      "  self._warn(\n",
      "/Users/mpmay/Projects/MicroscopyControlAndProcessingMe/venv/lib/python3.10/site-packages/docstring_inheritance/docstring_inheritors/bases/inheritor.py:329: DocstringInheritanceWarning: File /Users/mpmay/Projects/MicroscopyControlAndProcessingMe/venv/lib/python3.10/site-packages/pycromanager/acquisitions.py:845: in MagellanAcquisition.__init__: section Parameters: the docstring for the argument 'event_generation_hook_fn' is missing.\n",
      "  self._warn(\n",
      "/Users/mpmay/Projects/MicroscopyControlAndProcessingMe/venv/lib/python3.10/site-packages/docstring_inheritance/docstring_inheritors/bases/inheritor.py:329: DocstringInheritanceWarning: File /Users/mpmay/Projects/MicroscopyControlAndProcessingMe/venv/lib/python3.10/site-packages/pycromanager/acquisitions.py:845: in MagellanAcquisition.__init__: section Parameters: the docstring for the argument 'pre_hardware_hook_fn' is missing.\n",
      "  self._warn(\n",
      "/Users/mpmay/Projects/MicroscopyControlAndProcessingMe/venv/lib/python3.10/site-packages/docstring_inheritance/docstring_inheritors/bases/inheritor.py:329: DocstringInheritanceWarning: File /Users/mpmay/Projects/MicroscopyControlAndProcessingMe/venv/lib/python3.10/site-packages/pycromanager/acquisitions.py:845: in MagellanAcquisition.__init__: section Parameters: the docstring for the argument 'post_hardware_hook_fn' is missing.\n",
      "  self._warn(\n",
      "/Users/mpmay/Projects/MicroscopyControlAndProcessingMe/venv/lib/python3.10/site-packages/docstring_inheritance/docstring_inheritors/bases/inheritor.py:329: DocstringInheritanceWarning: File /Users/mpmay/Projects/MicroscopyControlAndProcessingMe/venv/lib/python3.10/site-packages/pycromanager/acquisitions.py:845: in MagellanAcquisition.__init__: section Parameters: the docstring for the argument 'post_camera_hook_fn' is missing.\n",
      "  self._warn(\n",
      "/Users/mpmay/Projects/MicroscopyControlAndProcessingMe/venv/lib/python3.10/site-packages/docstring_inheritance/docstring_inheritors/bases/inheritor.py:329: DocstringInheritanceWarning: File /Users/mpmay/Projects/MicroscopyControlAndProcessingMe/venv/lib/python3.10/site-packages/pycromanager/acquisitions.py:845: in MagellanAcquisition.__init__: section Parameters: the docstring for the argument 'image_saved_fn' is missing.\n",
      "  self._warn(\n",
      "/Users/mpmay/Projects/MicroscopyControlAndProcessingMe/venv/lib/python3.10/site-packages/docstring_inheritance/docstring_inheritors/bases/inheritor.py:329: DocstringInheritanceWarning: File /Users/mpmay/Projects/MicroscopyControlAndProcessingMe/venv/lib/python3.10/site-packages/pycromanager/acquisitions.py:845: in MagellanAcquisition.__init__: section Parameters: the docstring for the argument 'timeout' is missing.\n",
      "  self._warn(\n",
      "/Users/mpmay/Projects/MicroscopyControlAndProcessingMe/venv/lib/python3.10/site-packages/docstring_inheritance/docstring_inheritors/bases/inheritor.py:329: DocstringInheritanceWarning: File /Users/mpmay/Projects/MicroscopyControlAndProcessingMe/venv/lib/python3.10/site-packages/pycromanager/acquisitions.py:845: in MagellanAcquisition.__init__: section Parameters: the docstring for the argument 'port' is missing.\n",
      "  self._warn(\n",
      "/Users/mpmay/Projects/MicroscopyControlAndProcessingMe/venv/lib/python3.10/site-packages/docstring_inheritance/docstring_inheritors/bases/inheritor.py:329: DocstringInheritanceWarning: File /Users/mpmay/Projects/MicroscopyControlAndProcessingMe/venv/lib/python3.10/site-packages/pycromanager/acquisitions.py:845: in MagellanAcquisition.__init__: section Parameters: the docstring for the argument 'debug' is missing.\n",
      "  self._warn(\n",
      "/Users/mpmay/Projects/MicroscopyControlAndProcessingMe/venv/lib/python3.10/site-packages/docstring_inheritance/docstring_inheritors/bases/inheritor.py:329: DocstringInheritanceWarning: File /Users/mpmay/Projects/MicroscopyControlAndProcessingMe/venv/lib/python3.10/site-packages/pycromanager/acquisitions.py:845: in MagellanAcquisition.__init__: section Parameters: the docstring for the argument 'core_log_debug' is missing.\n",
      "  self._warn(\n"
     ]
    },
    {
     "name": "stdout",
     "output_type": "stream",
     "text": [
      "hello world\n",
      "Acquisition Complete\n"
     ]
    }
   ],
   "source": [
    "from source.apd import *\n",
    "from source.hooks import HookSet, Hook\n",
    "\n",
    "def helloWorldFunction(self,event,stack,**kwargs):\n",
    "    print('hello world')\n",
    "hooks=HookSet()\n",
    "hooks.hookPostHardware=Hook(function=helloWorldFunction)\n",
    "\n",
    "\n",
    "apdSystem = APDSystem(configFileName='myConfig.cfg', rootDataFolder='') #local\n",
    "lib = AcquisitionPluginLibrary()\n",
    "positions=[[0,0]] #a list of length 1 which will use the origin [0,0] only\n",
    "acquisition = lib.xySequence(positions)\n",
    "acquisition.hooks=hooks\n",
    "dataset=apdSystem.acquire(acquisition)"
   ]
  },
  {
   "cell_type": "markdown",
   "metadata": {},
   "source": [
    "Here is an example with an image processing hook that prints the dimensioins of the images.\n",
    "Image hooks use a different set of inputs than the others."
   ]
  },
  {
   "cell_type": "code",
   "execution_count": 9,
   "metadata": {},
   "outputs": [
    {
     "name": "stdout",
     "output_type": "stream",
     "text": [
      "hello world\n",
      "Acquisition Complete\n",
      "Acquisition Complete\n",
      "Acquisition Complete\n",
      "Acquisition Complete\n",
      "Acquisition Complete\n",
      "Acquisition Complete\n",
      "Acquisition Complete\n"
     ]
    }
   ],
   "source": [
    "from source.hooks import ImageHook\n",
    "def imageProcessFunction(self,image,metadata,**kwargs):\n",
    "    print(self)\n",
    "    print(image)\n",
    "    return image,metadata\n",
    "hooks=HookSet()\n",
    "hooks.hookImageProcess=ImageHook(function=helloWorldFunction)\n",
    "\n",
    "apdSystem = APDSystem(configFileName='myConfig.cfg', rootDataFolder='') #local\n",
    "lib = AcquisitionPluginLibrary()\n",
    "positions=[[0,0]] \n",
    "acquisition = lib.xySequence(positions)\n",
    "acquisition.hooks=hooks\n",
    "acquisition.settings.show_display=True\n",
    "dataset=apdSystem.acquire(acquisition)"
   ]
  }
 ],
 "metadata": {
  "kernelspec": {
   "display_name": "venv",
   "language": "python",
   "name": "python3"
  },
  "language_info": {
   "codemirror_mode": {
    "name": "ipython",
    "version": 3
   },
   "file_extension": ".py",
   "mimetype": "text/x-python",
   "name": "python",
   "nbconvert_exporter": "python",
   "pygments_lexer": "ipython3",
   "version": "3.10.11"
  }
 },
 "nbformat": 4,
 "nbformat_minor": 2
}
