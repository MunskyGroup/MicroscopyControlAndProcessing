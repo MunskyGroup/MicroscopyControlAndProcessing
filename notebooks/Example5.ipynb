{
 "cells": [
  {
   "cell_type": "markdown",
   "metadata": {},
   "source": [
    "Image emulations ere wdeveloped to create crealising microscopy images without the need for a real microscope"
   ]
  },
  {
   "cell_type": "code",
   "execution_count": 2,
   "metadata": {},
   "outputs": [],
   "source": [
    "import sys,os\n",
    "sys.path.append('source')"
   ]
  },
  {
   "cell_type": "code",
   "execution_count": 4,
   "metadata": {},
   "outputs": [
    {
     "ename": "Exception",
     "evalue": "exception in image processor: unsupported operand type(s) for +: 'int' and 'NoneType'",
     "output_type": "error",
     "traceback": [
      "\u001b[0;31m---------------------------------------------------------------------------\u001b[0m",
      "\u001b[0;31mException\u001b[0m                                 Traceback (most recent call last)",
      "\u001b[1;32m/Users/mpmay/Projects/MicroscopyControlAndProcessingMe/notebooks/Example5.ipynb Cell 3\u001b[0m line \u001b[0;36m9\n\u001b[1;32m      <a href='vscode-notebook-cell:/Users/mpmay/Projects/MicroscopyControlAndProcessingMe/notebooks/Example5.ipynb#W3sZmlsZQ%3D%3D?line=6'>7</a>\u001b[0m emulator\u001b[39m.\u001b[39msimulatePositions([\u001b[39m1000\u001b[39m,\u001b[39m1000\u001b[39m],\u001b[39m10\u001b[39m)\n\u001b[1;32m      <a href='vscode-notebook-cell:/Users/mpmay/Projects/MicroscopyControlAndProcessingMe/notebooks/Example5.ipynb#W3sZmlsZQ%3D%3D?line=7'>8</a>\u001b[0m acquisition \u001b[39m=\u001b[39m lib\u001b[39m.\u001b[39mxySequence(positions,emulator\u001b[39m=\u001b[39memulator)\n\u001b[0;32m----> <a href='vscode-notebook-cell:/Users/mpmay/Projects/MicroscopyControlAndProcessingMe/notebooks/Example5.ipynb#W3sZmlsZQ%3D%3D?line=8'>9</a>\u001b[0m dataset\u001b[39m=\u001b[39mapdSystem\u001b[39m.\u001b[39;49macquire(acquisition)\n",
      "File \u001b[0;32m~/Projects/MicroscopyControlAndProcessingMe/source/apd.py:100\u001b[0m, in \u001b[0;36mAPDSystem.acquire\u001b[0;34m(self, acquisition)\u001b[0m\n\u001b[1;32m     99\u001b[0m \u001b[39mdef\u001b[39;00m \u001b[39macquire\u001b[39m(\u001b[39mself\u001b[39m,acquisition):\n\u001b[0;32m--> 100\u001b[0m     dataset \u001b[39m=\u001b[39m \u001b[39mself\u001b[39;49m\u001b[39m.\u001b[39;49mbackend\u001b[39m.\u001b[39;49macquire(acquisition)\n\u001b[1;32m    101\u001b[0m     \u001b[39mreturn\u001b[39;00m dataset\n",
      "File \u001b[0;32m~/Projects/MicroscopyControlAndProcessingMe/source/environment.py:194\u001b[0m, in \u001b[0;36mBackend.acquire\u001b[0;34m(self, acquisition)\u001b[0m\n\u001b[1;32m    192\u001b[0m \u001b[39mif\u001b[39;00m acquisition\u001b[39m.\u001b[39msettings\u001b[39m.\u001b[39mdirectory \u001b[39m==\u001b[39m \u001b[39mNone\u001b[39;00m:\n\u001b[1;32m    193\u001b[0m     acquisition\u001b[39m.\u001b[39msettings\u001b[39m.\u001b[39mdirectory \u001b[39m=\u001b[39m \u001b[39mself\u001b[39m\u001b[39m.\u001b[39mglobals\u001b[39m.\u001b[39mDATA_ACQUISITION_PATH\n\u001b[0;32m--> 194\u001b[0m dataset \u001b[39m=\u001b[39m acquisition\u001b[39m.\u001b[39;49mrun()\n\u001b[1;32m    195\u001b[0m \u001b[39mself\u001b[39m\u001b[39m.\u001b[39mverbosity\u001b[39m.\u001b[39madd(\u001b[39m'\u001b[39m\u001b[39mAcquisition Complete\u001b[39m\u001b[39m'\u001b[39m)\n\u001b[1;32m    196\u001b[0m \u001b[39mself\u001b[39m\u001b[39m.\u001b[39mverbosity\u001b[39m.\u001b[39mprint()\n",
      "File \u001b[0;32m~/Projects/MicroscopyControlAndProcessingMe/source/acquisition.py:310\u001b[0m, in \u001b[0;36mAcquisitionPlugin.run\u001b[0;34m(self)\u001b[0m\n\u001b[1;32m    308\u001b[0m \u001b[39m#print('Number of events in schedule:{0}'.format(len(events)))\u001b[39;00m\n\u001b[1;32m    309\u001b[0m \u001b[39mif\u001b[39;00m \u001b[39mnot\u001b[39;00m \u001b[39mself\u001b[39m\u001b[39m.\u001b[39msettings\u001b[39m.\u001b[39mis_seeding:\n\u001b[0;32m--> 310\u001b[0m     \u001b[39mwith\u001b[39;00m  Acquisition(directory\u001b[39m=\u001b[39m\u001b[39mself\u001b[39m\u001b[39m.\u001b[39msettings\u001b[39m.\u001b[39mdirectory,\n\u001b[1;32m    311\u001b[0m                   name\u001b[39m=\u001b[39m\u001b[39mself\u001b[39m\u001b[39m.\u001b[39msettings\u001b[39m.\u001b[39mname,\n\u001b[1;32m    312\u001b[0m                   image_process_fn\u001b[39m=\u001b[39m\u001b[39mself\u001b[39m\u001b[39m.\u001b[39mhooks\u001b[39m.\u001b[39mhookImageProcess,\n\u001b[1;32m    313\u001b[0m                   \u001b[39m#event_generation_hook_fn=self.hooks.hookEventGeneration,\u001b[39;00m\n\u001b[1;32m    314\u001b[0m                   pre_hardware_hook_fn\u001b[39m=\u001b[39m\u001b[39mself\u001b[39m\u001b[39m.\u001b[39mhooks\u001b[39m.\u001b[39mhookPreHardware,\n\u001b[1;32m    315\u001b[0m                   post_hardware_hook_fn\u001b[39m=\u001b[39m\u001b[39mself\u001b[39m\u001b[39m.\u001b[39mhooks\u001b[39m.\u001b[39mhookPostHardware,\n\u001b[1;32m    316\u001b[0m                   post_camera_hook_fn\u001b[39m=\u001b[39m\u001b[39mself\u001b[39m\u001b[39m.\u001b[39mhooks\u001b[39m.\u001b[39mhookPostCamera,\n\u001b[1;32m    317\u001b[0m                   show_display\u001b[39m=\u001b[39m\u001b[39mself\u001b[39m\u001b[39m.\u001b[39msettings\u001b[39m.\u001b[39mshow_display,\n\u001b[1;32m    318\u001b[0m                   process\u001b[39m=\u001b[39m\u001b[39mself\u001b[39m\u001b[39m.\u001b[39msettings\u001b[39m.\u001b[39mprocess,\n\u001b[1;32m    319\u001b[0m                   saving_queue_size\u001b[39m=\u001b[39m\u001b[39mself\u001b[39m\u001b[39m.\u001b[39msettings\u001b[39m.\u001b[39msaving_queue_size,\n\u001b[1;32m    320\u001b[0m                   debug\u001b[39m=\u001b[39m\u001b[39mself\u001b[39m\u001b[39m.\u001b[39msettings\u001b[39m.\u001b[39mdebug,\n\u001b[1;32m    321\u001b[0m                   core_log_debug\u001b[39m=\u001b[39m\u001b[39mself\u001b[39m\u001b[39m.\u001b[39msettings\u001b[39m.\u001b[39mcore_log_debug,\n\u001b[1;32m    322\u001b[0m                   port\u001b[39m=\u001b[39m\u001b[39mself\u001b[39m\u001b[39m.\u001b[39msettings\u001b[39m.\u001b[39mport) \u001b[39mas\u001b[39;00m acq:\n\u001b[1;32m    323\u001b[0m         acq\u001b[39m.\u001b[39macquire(events)\n\u001b[1;32m    325\u001b[0m \u001b[39melse\u001b[39;00m:\n",
      "File \u001b[0;32m~/Projects/MicroscopyControlAndProcessingMe/venv/lib/python3.10/site-packages/pycromanager/acquisitions.py:476\u001b[0m, in \u001b[0;36mAcquisition.__exit__\u001b[0;34m(self, exc_type, exc_val, exc_tb)\u001b[0m\n\u001b[1;32m    474\u001b[0m \u001b[39mself\u001b[39m\u001b[39m.\u001b[39mmark_finished()\n\u001b[1;32m    475\u001b[0m \u001b[39m# now wait on it to finish\u001b[39;00m\n\u001b[0;32m--> 476\u001b[0m \u001b[39mself\u001b[39;49m\u001b[39m.\u001b[39;49mawait_completion()\n",
      "File \u001b[0;32m~/Projects/MicroscopyControlAndProcessingMe/venv/lib/python3.10/site-packages/pycromanager/acquisitions.py:401\u001b[0m, in \u001b[0;36mAcquisition.await_completion\u001b[0;34m(self)\u001b[0m\n\u001b[1;32m    398\u001b[0m \u001b[39mwhile\u001b[39;00m \u001b[39mnot\u001b[39;00m \u001b[39mself\u001b[39m\u001b[39m.\u001b[39m_remote_acq\u001b[39m.\u001b[39mare_events_finished() \u001b[39mor\u001b[39;00m (\n\u001b[1;32m    399\u001b[0m         \u001b[39mself\u001b[39m\u001b[39m.\u001b[39m_remote_acq\u001b[39m.\u001b[39mget_data_sink() \u001b[39mis\u001b[39;00m \u001b[39mnot\u001b[39;00m \u001b[39mNone\u001b[39;00m \u001b[39mand\u001b[39;00m \u001b[39mnot\u001b[39;00m \u001b[39mself\u001b[39m\u001b[39m.\u001b[39m_remote_acq\u001b[39m.\u001b[39mget_data_sink()\u001b[39m.\u001b[39mis_finished()):\n\u001b[1;32m    400\u001b[0m     time\u001b[39m.\u001b[39msleep(\u001b[39m1\u001b[39m \u001b[39mif\u001b[39;00m \u001b[39mself\u001b[39m\u001b[39m.\u001b[39m_debug \u001b[39melse\u001b[39;00m \u001b[39m0.05\u001b[39m)\n\u001b[0;32m--> 401\u001b[0m     \u001b[39mself\u001b[39;49m\u001b[39m.\u001b[39;49m_check_for_exceptions()\n\u001b[1;32m    403\u001b[0m \u001b[39m# Wait on all the other threads to shut down properly\u001b[39;00m\n\u001b[1;32m    404\u001b[0m \u001b[39mif\u001b[39;00m \u001b[39mhasattr\u001b[39m(\u001b[39mself\u001b[39m, \u001b[39m'\u001b[39m\u001b[39m_storage_monitor_thread\u001b[39m\u001b[39m'\u001b[39m):\n",
      "File \u001b[0;32m~/Projects/MicroscopyControlAndProcessingMe/venv/lib/python3.10/site-packages/pycromanager/acquisitions.py:524\u001b[0m, in \u001b[0;36mAcquisition._check_for_exceptions\u001b[0;34m(self)\u001b[0m\n\u001b[1;32m    522\u001b[0m \u001b[39mself\u001b[39m\u001b[39m.\u001b[39m_remote_acq\u001b[39m.\u001b[39mcheck_for_exceptions()\n\u001b[1;32m    523\u001b[0m \u001b[39mif\u001b[39;00m \u001b[39mself\u001b[39m\u001b[39m.\u001b[39m_exception \u001b[39mis\u001b[39;00m \u001b[39mnot\u001b[39;00m \u001b[39mNone\u001b[39;00m:\n\u001b[0;32m--> 524\u001b[0m     \u001b[39mraise\u001b[39;00m \u001b[39mself\u001b[39m\u001b[39m.\u001b[39m_exception\n",
      "\u001b[0;31mException\u001b[0m: exception in image processor: unsupported operand type(s) for +: 'int' and 'NoneType'"
     ]
    }
   ],
   "source": [
    "from source.apd import *\n",
    "from source.image_emulator import ImageEmulator2Channel\n",
    "apdSystem = APDSystem(configFileName='myConfig.cfg', rootDataFolder='') #local\n",
    "lib = AcquisitionPluginLibrary()\n",
    "positions=[[0,0]] \n",
    "emulator=ImageEmulator2Channel()\n",
    "emulator.simulatePositions([1000,1000],10)\n",
    "acquisition = lib.xySequence(positions,emulator=emulator)\n",
    "dataset=apdSystem.acquire(acquisition)"
   ]
  }
 ],
 "metadata": {
  "kernelspec": {
   "display_name": "venv",
   "language": "python",
   "name": "python3"
  },
  "language_info": {
   "codemirror_mode": {
    "name": "ipython",
    "version": 3
   },
   "file_extension": ".py",
   "mimetype": "text/x-python",
   "name": "python",
   "nbconvert_exporter": "python",
   "pygments_lexer": "ipython3",
   "version": "3.10.11"
  }
 },
 "nbformat": 4,
 "nbformat_minor": 2
}
