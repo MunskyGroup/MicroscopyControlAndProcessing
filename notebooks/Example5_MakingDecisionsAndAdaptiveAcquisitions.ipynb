{
 "cells": [
  {
   "cell_type": "markdown",
   "metadata": {},
   "source": [
    "# Notebook 5: Making Decisions And Adaptive Acquisitions\n",
    "\n",
    "Decisions are a type of object that takes in Processed Data and returns a suggested Acquisition which will be acquired.\n",
    "Decisions have a propose function which takes in data and the previous acqusition and created a new one.\n",
    "If a decision returns a AcquisitionPlugin type, then it will be acquired and if it returns a None type no acuisition occurs.\n",
    "\n",
    "**DecisionNull** is a decision which always returns None (ie: does nothing)\n",
    "\n",
    "**DecisionRepeat** is a decision which always returns the origional acquisition\n",
    "\n",
    "**DecisionSelectOptimalZPlaneFromSharpestZ** returns an acquisition which containes the sharpect Z-Plane only. requires data that has the 'sharpest' data processed on it.\n",
    "\n",
    "**DecisionPickROIFromXYSpotLocations** picks images which contain a certain threshhold of spots\n",
    "\n",
    "**Decision** is a an object with some simple logic that can be created ad-Hoc\n",
    "\n",
    "**DecisionFromCallback** is the most customizable version which enables any function to be written for making decisions.\n"
   ]
  },
  {
   "cell_type": "code",
   "execution_count": 2,
   "metadata": {},
   "outputs": [],
   "source": [
    "import sys,os\n",
    "sys.path.append('source')"
   ]
  },
  {
   "cell_type": "markdown",
   "metadata": {},
   "source": [
    "  ## Example 5.1: Making A decision that repeats the previous acquisition.\n",
    "\n",
    "  Decisions follow a similar structure to Image Processing."
   ]
  },
  {
   "cell_type": "code",
   "execution_count": 3,
   "metadata": {},
   "outputs": [],
   "source": [
    "from source.decision import *\n",
    "\n",
    "data=[]\n",
    "acq=AcquisitionPlugin()\n",
    "decision=DecisionNull()\n",
    "new_acq=decision.propose(data,acq)\n"
   ]
  },
  {
   "cell_type": "code",
   "execution_count": 4,
   "metadata": {},
   "outputs": [],
   "source": [
    "decision=DecisionRepeatAcquisition()\n",
    "new_acq=decision.propose(data,acq)"
   ]
  },
  {
   "cell_type": "code",
   "execution_count": 5,
   "metadata": {},
   "outputs": [
    {
     "name": "stdout",
     "output_type": "stream",
     "text": [
      "Dataset opened                 \n",
      "{frozenset({('channel', 'DAPI'), ('position', 0)}): [{'channel': 'DAPI', 'z': 0, 'position': 0}]}\n",
      "{frozenset({('channel', 'DAPI'), ('position', 0)}): [{'channel': 'DAPI', 'z': 0, 'position': 0}], frozenset({('position', 0), ('channel', 'Cy5')}): [{'position': 0, 'z': 0, 'channel': 'Cy5'}]}\n",
      "frozenset({('channel', 'DAPI'), ('position', 0)}) maps to {'sharpest_value': 170796866.0, 'sharpest_index': 0}\n",
      "frozenset({('position', 0), ('channel', 'Cy5')}) maps to {'sharpest_value': 137480784.0, 'sharpest_index': 0}\n",
      "\n"
     ]
    }
   ],
   "source": [
    "from source.postprocessors import *\n",
    "data=NDTiffDataset('data/core/xyLooseGrid_5')\n",
    "acq=AcquisitionPlugin()\n",
    "processor=PostProcessPipeline()\n",
    "processor.add('sharpest',squish_axes='z')\n",
    "processedData=processor.process(data,acq)\n",
    "decision=DecisionSelectOptimalZPlaneFromSharpestZ()\n",
    "new_acq=decision.propose(processedData,acq)"
   ]
  },
  {
   "cell_type": "code",
   "execution_count": 9,
   "metadata": {},
   "outputs": [
    {
     "ename": "NameError",
     "evalue": "name 'ProcessedData' is not defined",
     "output_type": "error",
     "traceback": [
      "\u001b[0;31m---------------------------------------------------------------------------\u001b[0m",
      "\u001b[0;31mNameError\u001b[0m                                 Traceback (most recent call last)",
      "\u001b[1;32m/Users/mpmay/Projects/MicroscopyControlAndProcessingMe/notebooks/Example5_MakingDecisionsAndAdaptiveAcquisitions.ipynb Cell 7\u001b[0m line \u001b[0;36m2\n\u001b[1;32m      <a href='vscode-notebook-cell:/Users/mpmay/Projects/MicroscopyControlAndProcessingMe/notebooks/Example5_MakingDecisionsAndAdaptiveAcquisitions.ipynb#W6sZmlsZQ%3D%3D?line=0'>1</a>\u001b[0m decision\u001b[39m=\u001b[39mDecisionPickROIFromXYSpotLocations()\n\u001b[0;32m----> <a href='vscode-notebook-cell:/Users/mpmay/Projects/MicroscopyControlAndProcessingMe/notebooks/Example5_MakingDecisionsAndAdaptiveAcquisitions.ipynb#W6sZmlsZQ%3D%3D?line=1'>2</a>\u001b[0m new_acq\u001b[39m=\u001b[39mdecision\u001b[39m.\u001b[39;49mpropose(data,acq)\n",
      "File \u001b[0;32m~/Projects/MicroscopyControlAndProcessingMe/source/decision.py:180\u001b[0m, in \u001b[0;36mDecisionPickROIFromXYSpotLocations.propose\u001b[0;34m(self, processed_data, acquisition, zRange, timeRange, channels)\u001b[0m\n\u001b[1;32m    179\u001b[0m \u001b[39mdef\u001b[39;00m \u001b[39mpropose\u001b[39m(\u001b[39mself\u001b[39m, processed_data, acquisition,zRange\u001b[39m=\u001b[39m\u001b[39mNone\u001b[39;00m,timeRange\u001b[39m=\u001b[39m\u001b[39mNone\u001b[39;00m,channels\u001b[39m=\u001b[39m\u001b[39mNone\u001b[39;00m):\n\u001b[0;32m--> 180\u001b[0m     \u001b[39mif\u001b[39;00m \u001b[39mnot\u001b[39;00m \u001b[39misinstance\u001b[39m(processed_data,ProcessedData):\n\u001b[1;32m    181\u001b[0m         \u001b[39mraise\u001b[39;00m \u001b[39mTypeError\u001b[39;00m\n\u001b[1;32m    182\u001b[0m     \u001b[39mif\u001b[39;00m \u001b[39mnot\u001b[39;00m \u001b[39misinstance\u001b[39m(acquisition,AcquisitionPlugin):\n",
      "\u001b[0;31mNameError\u001b[0m: name 'ProcessedData' is not defined"
     ]
    }
   ],
   "source": [
    "decision=DecisionPickROIFromXYSpotLocations()\n",
    "new_acq=decision.propose(data,acq)"
   ]
  },
  {
   "cell_type": "code",
   "execution_count": 8,
   "metadata": {},
   "outputs": [],
   "source": [
    "from source.decision import *\n",
    "\n",
    "data=[]\n",
    "acq=AcquisitionPlugin()\n",
    "\n",
    "decision=DecisionNull()\n",
    "new_acq=decision.propose(data,acq)\n",
    "\n",
    "decision=DecisionRepeatAcquisition()\n",
    "new_acq=decision.propose(data,acq)\n",
    "\n",
    "#decision=DecisionIfThen().IfThreshHoldGreaterThan('mean',10).thenRemoveElement()\n",
    "#decision=DecisionIfThen().IfThreshHoldLessThan('mean',10).thenChangeSetting('channelRange',['channel',['Cy5'],[100]])"
   ]
  },
  {
   "cell_type": "code",
   "execution_count": null,
   "metadata": {},
   "outputs": [],
   "source": [
    "decision=DecisionRepeatAcquisition()\n",
    "new_acq=decision.propose(data,acq)"
   ]
  },
  {
   "cell_type": "markdown",
   "metadata": {},
   "source": [
    "## Example X.X: Making your own decision\n",
    "\n",
    "DecisionFromCallback is a class that takes in a function and makes it a decision, the callback needs a particular structure to work."
   ]
  },
  {
   "cell_type": "code",
   "execution_count": null,
   "metadata": {},
   "outputs": [],
   "source": [
    "def function(self,processed_data,acq):\n",
    "    print('hello world')\n",
    "    return None\n",
    "\n",
    "decision=DecisionFromCallback(function=function)\n",
    "new_acq=decision.propose(data,acq)"
   ]
  },
  {
   "cell_type": "code",
   "execution_count": null,
   "metadata": {},
   "outputs": [],
   "source": [
    "def helloFunction(self,processed_data,acq):\n",
    "    print('hello world')\n",
    "    return None\n",
    "\n",
    "decision=Decision(function=helloFunction)\n",
    "new_acq=decision.propose(data,acq)"
   ]
  },
  {
   "cell_type": "code",
   "execution_count": null,
   "metadata": {},
   "outputs": [],
   "source": [
    "def paddingFunction(self,processed_data,acq,padding=None):\n",
    "    # todo\n",
    "    return None\n",
    "\n",
    "decision=Decision(function=paddingFunction,padding=10)\n",
    "new_acq=decision.propose(data,acq)"
   ]
  },
  {
   "cell_type": "code",
   "execution_count": null,
   "metadata": {},
   "outputs": [],
   "source": [
    "def countingFunction(self,processed_data,acq,padding=None):\n",
    "    # todo\n",
    "    self.counter=self.counter+1\n",
    "    if self.counter==5:\n",
    "        return acq\n",
    "    return None\n",
    "\n",
    "decision=Decision(function=countingFunction,padding=10)\n",
    "new_acq=decision.propose(data,acq)"
   ]
  },
  {
   "cell_type": "code",
   "execution_count": null,
   "metadata": {},
   "outputs": [],
   "source": [
    "from source.apd import *\n",
    "acqLibrary=AcquisitionPluginLibrary()\n",
    "acquisition=acqLibrary.xySequence([[0,0]])\n",
    "\n",
    "process=PostProcessPipeline()\n",
    "process.add('mean')\n",
    "\n",
    "decision=DecisionRepeatAcquisition()\n",
    "\n",
    "apdSystem = APDSystem(configFileName='myConfig.cfg', rootDataFolder='') \n",
    "apdSystem.linkAPD(acquisition=acquisition,process=process,decision=DecisionRepeatAcquisition())\n",
    "apdSystem.run()"
   ]
  }
 ],
 "metadata": {
  "kernelspec": {
   "display_name": "venv",
   "language": "python",
   "name": "python3"
  },
  "language_info": {
   "codemirror_mode": {
    "name": "ipython",
    "version": 3
   },
   "file_extension": ".py",
   "mimetype": "text/x-python",
   "name": "python",
   "nbconvert_exporter": "python",
   "pygments_lexer": "ipython3",
   "version": "3.10.11"
  }
 },
 "nbformat": 4,
 "nbformat_minor": 2
}
