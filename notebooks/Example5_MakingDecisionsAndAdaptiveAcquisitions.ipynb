{
 "cells": [
  {
   "cell_type": "markdown",
   "metadata": {},
   "source": [
    "# Notebook 5: Making Decisions And Adaptive Acquisitions\n",
    "\n",
    "Decisions are a type of object that takes in Processed Data and returns a suggested Acquisition which will be acquired.\n",
    "\n"
   ]
  },
  {
   "cell_type": "code",
   "execution_count": 1,
   "metadata": {},
   "outputs": [],
   "source": [
    "import sys,os\n",
    "sys.path.append('source')"
   ]
  },
  {
   "cell_type": "markdown",
   "metadata": {},
   "source": [
    "  ## Example 5.1: Making A decision that repeats the previous acquisition.\n",
    "\n",
    "  Decisions follow a similar structure to Image Processing."
   ]
  },
  {
   "cell_type": "code",
   "execution_count": 4,
   "metadata": {},
   "outputs": [],
   "source": [
    "from source.decision import *\n",
    "\n",
    "data=[]\n",
    "acq=AcquisitionPlugin()\n",
    "\n",
    "decision=DecisionNull()\n",
    "new_acq=decision.propose(data,acq)\n",
    "\n",
    "decision=DecisionRepeatAcquisition()\n",
    "new_acq=decision.propose(data,acq)\n",
    "DecisionThreshHoldGreaterThan(key,value)\n",
    "DecisionThreshHoldLessThan(key,value)"
   ]
  },
  {
   "cell_type": "code",
   "execution_count": null,
   "metadata": {},
   "outputs": [],
   "source": [
    "decision=DecisionRepeatAcquisition()\n",
    "new_acq=decision.propose(data,acq)"
   ]
  }
 ],
 "metadata": {
  "kernelspec": {
   "display_name": "venv",
   "language": "python",
   "name": "python3"
  },
  "language_info": {
   "codemirror_mode": {
    "name": "ipython",
    "version": 3
   },
   "file_extension": ".py",
   "mimetype": "text/x-python",
   "name": "python",
   "nbconvert_exporter": "python",
   "pygments_lexer": "ipython3",
   "version": "3.10.11"
  }
 },
 "nbformat": 4,
 "nbformat_minor": 2
}
