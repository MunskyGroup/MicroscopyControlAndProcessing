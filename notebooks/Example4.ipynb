{
 "cells": [
  {
   "cell_type": "markdown",
   "metadata": {},
   "source": [
    "Example: Acquire Process Decide\n",
    "Acquisitions, Processes, and decisions cann be prebuilt from libraries and stiched together"
   ]
  },
  {
   "cell_type": "code",
   "execution_count": 4,
   "metadata": {},
   "outputs": [],
   "source": [
    "import sys,os\n",
    "sys.path.append('source')"
   ]
  },
  {
   "cell_type": "code",
   "execution_count": 5,
   "metadata": {},
   "outputs": [
    {
     "name": "stderr",
     "output_type": "stream",
     "text": [
      "/Users/mpmay/Projects/MicroscopyControlAndProcessingMe/venv/lib/python3.10/site-packages/docstring_inheritance/docstring_inheritors/bases/inheritor.py:329: DocstringInheritanceWarning: File /Users/mpmay/Projects/MicroscopyControlAndProcessingMe/venv/lib/python3.10/site-packages/pycromanager/acquisitions.py:698: in XYTiledAcquisition.__init__: section Parameters: the docstring for the argument 'tile_overlap' is missing.\n",
      "  self._warn(\n",
      "/Users/mpmay/Projects/MicroscopyControlAndProcessingMe/venv/lib/python3.10/site-packages/docstring_inheritance/docstring_inheritors/bases/inheritor.py:329: DocstringInheritanceWarning: File /Users/mpmay/Projects/MicroscopyControlAndProcessingMe/venv/lib/python3.10/site-packages/pycromanager/acquisitions.py:698: in XYTiledAcquisition.__init__: section Parameters: the docstring for the argument 'directory' is missing.\n",
      "  self._warn(\n",
      "/Users/mpmay/Projects/MicroscopyControlAndProcessingMe/venv/lib/python3.10/site-packages/docstring_inheritance/docstring_inheritors/bases/inheritor.py:329: DocstringInheritanceWarning: File /Users/mpmay/Projects/MicroscopyControlAndProcessingMe/venv/lib/python3.10/site-packages/pycromanager/acquisitions.py:698: in XYTiledAcquisition.__init__: section Parameters: the docstring for the argument 'name' is missing.\n",
      "  self._warn(\n",
      "/Users/mpmay/Projects/MicroscopyControlAndProcessingMe/venv/lib/python3.10/site-packages/docstring_inheritance/docstring_inheritors/bases/inheritor.py:329: DocstringInheritanceWarning: File /Users/mpmay/Projects/MicroscopyControlAndProcessingMe/venv/lib/python3.10/site-packages/pycromanager/acquisitions.py:698: in XYTiledAcquisition.__init__: section Parameters: the docstring for the argument 'max_multi_res_index' is missing.\n",
      "  self._warn(\n",
      "/Users/mpmay/Projects/MicroscopyControlAndProcessingMe/venv/lib/python3.10/site-packages/docstring_inheritance/docstring_inheritors/bases/inheritor.py:329: DocstringInheritanceWarning: File /Users/mpmay/Projects/MicroscopyControlAndProcessingMe/venv/lib/python3.10/site-packages/pycromanager/acquisitions.py:698: in XYTiledAcquisition.__init__: section Parameters: the docstring for the argument 'image_process_fn' is missing.\n",
      "  self._warn(\n",
      "/Users/mpmay/Projects/MicroscopyControlAndProcessingMe/venv/lib/python3.10/site-packages/docstring_inheritance/docstring_inheritors/bases/inheritor.py:329: DocstringInheritanceWarning: File /Users/mpmay/Projects/MicroscopyControlAndProcessingMe/venv/lib/python3.10/site-packages/pycromanager/acquisitions.py:698: in XYTiledAcquisition.__init__: section Parameters: the docstring for the argument 'pre_hardware_hook_fn' is missing.\n",
      "  self._warn(\n",
      "/Users/mpmay/Projects/MicroscopyControlAndProcessingMe/venv/lib/python3.10/site-packages/docstring_inheritance/docstring_inheritors/bases/inheritor.py:329: DocstringInheritanceWarning: File /Users/mpmay/Projects/MicroscopyControlAndProcessingMe/venv/lib/python3.10/site-packages/pycromanager/acquisitions.py:698: in XYTiledAcquisition.__init__: section Parameters: the docstring for the argument 'post_hardware_hook_fn' is missing.\n",
      "  self._warn(\n",
      "/Users/mpmay/Projects/MicroscopyControlAndProcessingMe/venv/lib/python3.10/site-packages/docstring_inheritance/docstring_inheritors/bases/inheritor.py:329: DocstringInheritanceWarning: File /Users/mpmay/Projects/MicroscopyControlAndProcessingMe/venv/lib/python3.10/site-packages/pycromanager/acquisitions.py:698: in XYTiledAcquisition.__init__: section Parameters: the docstring for the argument 'post_camera_hook_fn' is missing.\n",
      "  self._warn(\n",
      "/Users/mpmay/Projects/MicroscopyControlAndProcessingMe/venv/lib/python3.10/site-packages/docstring_inheritance/docstring_inheritors/bases/inheritor.py:329: DocstringInheritanceWarning: File /Users/mpmay/Projects/MicroscopyControlAndProcessingMe/venv/lib/python3.10/site-packages/pycromanager/acquisitions.py:698: in XYTiledAcquisition.__init__: section Parameters: the docstring for the argument 'show_display' is missing.\n",
      "  self._warn(\n",
      "/Users/mpmay/Projects/MicroscopyControlAndProcessingMe/venv/lib/python3.10/site-packages/docstring_inheritance/docstring_inheritors/bases/inheritor.py:329: DocstringInheritanceWarning: File /Users/mpmay/Projects/MicroscopyControlAndProcessingMe/venv/lib/python3.10/site-packages/pycromanager/acquisitions.py:698: in XYTiledAcquisition.__init__: section Parameters: the docstring for the argument 'image_saved_fn' is missing.\n",
      "  self._warn(\n",
      "/Users/mpmay/Projects/MicroscopyControlAndProcessingMe/venv/lib/python3.10/site-packages/docstring_inheritance/docstring_inheritors/bases/inheritor.py:329: DocstringInheritanceWarning: File /Users/mpmay/Projects/MicroscopyControlAndProcessingMe/venv/lib/python3.10/site-packages/pycromanager/acquisitions.py:698: in XYTiledAcquisition.__init__: section Parameters: the docstring for the argument 'process' is missing.\n",
      "  self._warn(\n",
      "/Users/mpmay/Projects/MicroscopyControlAndProcessingMe/venv/lib/python3.10/site-packages/docstring_inheritance/docstring_inheritors/bases/inheritor.py:329: DocstringInheritanceWarning: File /Users/mpmay/Projects/MicroscopyControlAndProcessingMe/venv/lib/python3.10/site-packages/pycromanager/acquisitions.py:698: in XYTiledAcquisition.__init__: section Parameters: the docstring for the argument 'saving_queue_size' is missing.\n",
      "  self._warn(\n",
      "/Users/mpmay/Projects/MicroscopyControlAndProcessingMe/venv/lib/python3.10/site-packages/docstring_inheritance/docstring_inheritors/bases/inheritor.py:329: DocstringInheritanceWarning: File /Users/mpmay/Projects/MicroscopyControlAndProcessingMe/venv/lib/python3.10/site-packages/pycromanager/acquisitions.py:698: in XYTiledAcquisition.__init__: section Parameters: the docstring for the argument 'timeout' is missing.\n",
      "  self._warn(\n",
      "/Users/mpmay/Projects/MicroscopyControlAndProcessingMe/venv/lib/python3.10/site-packages/docstring_inheritance/docstring_inheritors/bases/inheritor.py:329: DocstringInheritanceWarning: File /Users/mpmay/Projects/MicroscopyControlAndProcessingMe/venv/lib/python3.10/site-packages/pycromanager/acquisitions.py:698: in XYTiledAcquisition.__init__: section Parameters: the docstring for the argument 'port' is missing.\n",
      "  self._warn(\n",
      "/Users/mpmay/Projects/MicroscopyControlAndProcessingMe/venv/lib/python3.10/site-packages/docstring_inheritance/docstring_inheritors/bases/inheritor.py:329: DocstringInheritanceWarning: File /Users/mpmay/Projects/MicroscopyControlAndProcessingMe/venv/lib/python3.10/site-packages/pycromanager/acquisitions.py:698: in XYTiledAcquisition.__init__: section Parameters: the docstring for the argument 'debug' is missing.\n",
      "  self._warn(\n",
      "/Users/mpmay/Projects/MicroscopyControlAndProcessingMe/venv/lib/python3.10/site-packages/docstring_inheritance/docstring_inheritors/bases/inheritor.py:329: DocstringInheritanceWarning: File /Users/mpmay/Projects/MicroscopyControlAndProcessingMe/venv/lib/python3.10/site-packages/pycromanager/acquisitions.py:698: in XYTiledAcquisition.__init__: section Parameters: the docstring for the argument 'core_log_debug' is missing.\n",
      "  self._warn(\n",
      "/Users/mpmay/Projects/MicroscopyControlAndProcessingMe/venv/lib/python3.10/site-packages/docstring_inheritance/docstring_inheritors/bases/inheritor.py:329: DocstringInheritanceWarning: File /Users/mpmay/Projects/MicroscopyControlAndProcessingMe/venv/lib/python3.10/site-packages/pycromanager/acquisitions.py:775: in ExploreAcquisition.__init__: section Parameters: the docstring for the argument 'directory' is missing.\n",
      "  self._warn(\n",
      "/Users/mpmay/Projects/MicroscopyControlAndProcessingMe/venv/lib/python3.10/site-packages/docstring_inheritance/docstring_inheritors/bases/inheritor.py:329: DocstringInheritanceWarning: File /Users/mpmay/Projects/MicroscopyControlAndProcessingMe/venv/lib/python3.10/site-packages/pycromanager/acquisitions.py:775: in ExploreAcquisition.__init__: section Parameters: the docstring for the argument 'name' is missing.\n",
      "  self._warn(\n",
      "/Users/mpmay/Projects/MicroscopyControlAndProcessingMe/venv/lib/python3.10/site-packages/docstring_inheritance/docstring_inheritors/bases/inheritor.py:329: DocstringInheritanceWarning: File /Users/mpmay/Projects/MicroscopyControlAndProcessingMe/venv/lib/python3.10/site-packages/pycromanager/acquisitions.py:775: in ExploreAcquisition.__init__: section Parameters: the docstring for the argument 'z_step_um' is missing.\n",
      "  self._warn(\n",
      "/Users/mpmay/Projects/MicroscopyControlAndProcessingMe/venv/lib/python3.10/site-packages/docstring_inheritance/docstring_inheritors/bases/inheritor.py:329: DocstringInheritanceWarning: File /Users/mpmay/Projects/MicroscopyControlAndProcessingMe/venv/lib/python3.10/site-packages/pycromanager/acquisitions.py:775: in ExploreAcquisition.__init__: section Parameters: the docstring for the argument 'tile_overlap' is missing.\n",
      "  self._warn(\n",
      "/Users/mpmay/Projects/MicroscopyControlAndProcessingMe/venv/lib/python3.10/site-packages/docstring_inheritance/docstring_inheritors/bases/inheritor.py:329: DocstringInheritanceWarning: File /Users/mpmay/Projects/MicroscopyControlAndProcessingMe/venv/lib/python3.10/site-packages/pycromanager/acquisitions.py:775: in ExploreAcquisition.__init__: section Parameters: the docstring for the argument 'channel_group' is missing.\n",
      "  self._warn(\n",
      "/Users/mpmay/Projects/MicroscopyControlAndProcessingMe/venv/lib/python3.10/site-packages/docstring_inheritance/docstring_inheritors/bases/inheritor.py:329: DocstringInheritanceWarning: File /Users/mpmay/Projects/MicroscopyControlAndProcessingMe/venv/lib/python3.10/site-packages/pycromanager/acquisitions.py:775: in ExploreAcquisition.__init__: section Parameters: the docstring for the argument 'image_process_fn' is missing.\n",
      "  self._warn(\n",
      "/Users/mpmay/Projects/MicroscopyControlAndProcessingMe/venv/lib/python3.10/site-packages/docstring_inheritance/docstring_inheritors/bases/inheritor.py:329: DocstringInheritanceWarning: File /Users/mpmay/Projects/MicroscopyControlAndProcessingMe/venv/lib/python3.10/site-packages/pycromanager/acquisitions.py:775: in ExploreAcquisition.__init__: section Parameters: the docstring for the argument 'pre_hardware_hook_fn' is missing.\n",
      "  self._warn(\n",
      "/Users/mpmay/Projects/MicroscopyControlAndProcessingMe/venv/lib/python3.10/site-packages/docstring_inheritance/docstring_inheritors/bases/inheritor.py:329: DocstringInheritanceWarning: File /Users/mpmay/Projects/MicroscopyControlAndProcessingMe/venv/lib/python3.10/site-packages/pycromanager/acquisitions.py:775: in ExploreAcquisition.__init__: section Parameters: the docstring for the argument 'post_hardware_hook_fn' is missing.\n",
      "  self._warn(\n",
      "/Users/mpmay/Projects/MicroscopyControlAndProcessingMe/venv/lib/python3.10/site-packages/docstring_inheritance/docstring_inheritors/bases/inheritor.py:329: DocstringInheritanceWarning: File /Users/mpmay/Projects/MicroscopyControlAndProcessingMe/venv/lib/python3.10/site-packages/pycromanager/acquisitions.py:775: in ExploreAcquisition.__init__: section Parameters: the docstring for the argument 'post_camera_hook_fn' is missing.\n",
      "  self._warn(\n",
      "/Users/mpmay/Projects/MicroscopyControlAndProcessingMe/venv/lib/python3.10/site-packages/docstring_inheritance/docstring_inheritors/bases/inheritor.py:329: DocstringInheritanceWarning: File /Users/mpmay/Projects/MicroscopyControlAndProcessingMe/venv/lib/python3.10/site-packages/pycromanager/acquisitions.py:775: in ExploreAcquisition.__init__: section Parameters: the docstring for the argument 'show_display' is missing.\n",
      "  self._warn(\n",
      "/Users/mpmay/Projects/MicroscopyControlAndProcessingMe/venv/lib/python3.10/site-packages/docstring_inheritance/docstring_inheritors/bases/inheritor.py:329: DocstringInheritanceWarning: File /Users/mpmay/Projects/MicroscopyControlAndProcessingMe/venv/lib/python3.10/site-packages/pycromanager/acquisitions.py:775: in ExploreAcquisition.__init__: section Parameters: the docstring for the argument 'image_saved_fn' is missing.\n",
      "  self._warn(\n",
      "/Users/mpmay/Projects/MicroscopyControlAndProcessingMe/venv/lib/python3.10/site-packages/docstring_inheritance/docstring_inheritors/bases/inheritor.py:329: DocstringInheritanceWarning: File /Users/mpmay/Projects/MicroscopyControlAndProcessingMe/venv/lib/python3.10/site-packages/pycromanager/acquisitions.py:775: in ExploreAcquisition.__init__: section Parameters: the docstring for the argument 'process' is missing.\n",
      "  self._warn(\n",
      "/Users/mpmay/Projects/MicroscopyControlAndProcessingMe/venv/lib/python3.10/site-packages/docstring_inheritance/docstring_inheritors/bases/inheritor.py:329: DocstringInheritanceWarning: File /Users/mpmay/Projects/MicroscopyControlAndProcessingMe/venv/lib/python3.10/site-packages/pycromanager/acquisitions.py:775: in ExploreAcquisition.__init__: section Parameters: the docstring for the argument 'saving_queue_size' is missing.\n",
      "  self._warn(\n",
      "/Users/mpmay/Projects/MicroscopyControlAndProcessingMe/venv/lib/python3.10/site-packages/docstring_inheritance/docstring_inheritors/bases/inheritor.py:329: DocstringInheritanceWarning: File /Users/mpmay/Projects/MicroscopyControlAndProcessingMe/venv/lib/python3.10/site-packages/pycromanager/acquisitions.py:775: in ExploreAcquisition.__init__: section Parameters: the docstring for the argument 'timeout' is missing.\n",
      "  self._warn(\n",
      "/Users/mpmay/Projects/MicroscopyControlAndProcessingMe/venv/lib/python3.10/site-packages/docstring_inheritance/docstring_inheritors/bases/inheritor.py:329: DocstringInheritanceWarning: File /Users/mpmay/Projects/MicroscopyControlAndProcessingMe/venv/lib/python3.10/site-packages/pycromanager/acquisitions.py:775: in ExploreAcquisition.__init__: section Parameters: the docstring for the argument 'port' is missing.\n",
      "  self._warn(\n",
      "/Users/mpmay/Projects/MicroscopyControlAndProcessingMe/venv/lib/python3.10/site-packages/docstring_inheritance/docstring_inheritors/bases/inheritor.py:329: DocstringInheritanceWarning: File /Users/mpmay/Projects/MicroscopyControlAndProcessingMe/venv/lib/python3.10/site-packages/pycromanager/acquisitions.py:775: in ExploreAcquisition.__init__: section Parameters: the docstring for the argument 'debug' is missing.\n",
      "  self._warn(\n",
      "/Users/mpmay/Projects/MicroscopyControlAndProcessingMe/venv/lib/python3.10/site-packages/docstring_inheritance/docstring_inheritors/bases/inheritor.py:329: DocstringInheritanceWarning: File /Users/mpmay/Projects/MicroscopyControlAndProcessingMe/venv/lib/python3.10/site-packages/pycromanager/acquisitions.py:775: in ExploreAcquisition.__init__: section Parameters: the docstring for the argument 'core_log_debug' is missing.\n",
      "  self._warn(\n",
      "/Users/mpmay/Projects/MicroscopyControlAndProcessingMe/venv/lib/python3.10/site-packages/docstring_inheritance/docstring_inheritors/bases/inheritor.py:329: DocstringInheritanceWarning: File /Users/mpmay/Projects/MicroscopyControlAndProcessingMe/venv/lib/python3.10/site-packages/pycromanager/acquisitions.py:845: in MagellanAcquisition.__init__: section Parameters: the docstring for the argument 'magellan_acq_index' is missing.\n",
      "  self._warn(\n",
      "/Users/mpmay/Projects/MicroscopyControlAndProcessingMe/venv/lib/python3.10/site-packages/docstring_inheritance/docstring_inheritors/bases/inheritor.py:329: DocstringInheritanceWarning: File /Users/mpmay/Projects/MicroscopyControlAndProcessingMe/venv/lib/python3.10/site-packages/pycromanager/acquisitions.py:845: in MagellanAcquisition.__init__: section Parameters: the docstring for the argument 'magellan_explore' is missing.\n",
      "  self._warn(\n",
      "/Users/mpmay/Projects/MicroscopyControlAndProcessingMe/venv/lib/python3.10/site-packages/docstring_inheritance/docstring_inheritors/bases/inheritor.py:329: DocstringInheritanceWarning: File /Users/mpmay/Projects/MicroscopyControlAndProcessingMe/venv/lib/python3.10/site-packages/pycromanager/acquisitions.py:845: in MagellanAcquisition.__init__: section Parameters: the docstring for the argument 'image_process_fn' is missing.\n",
      "  self._warn(\n",
      "/Users/mpmay/Projects/MicroscopyControlAndProcessingMe/venv/lib/python3.10/site-packages/docstring_inheritance/docstring_inheritors/bases/inheritor.py:329: DocstringInheritanceWarning: File /Users/mpmay/Projects/MicroscopyControlAndProcessingMe/venv/lib/python3.10/site-packages/pycromanager/acquisitions.py:845: in MagellanAcquisition.__init__: section Parameters: the docstring for the argument 'event_generation_hook_fn' is missing.\n",
      "  self._warn(\n",
      "/Users/mpmay/Projects/MicroscopyControlAndProcessingMe/venv/lib/python3.10/site-packages/docstring_inheritance/docstring_inheritors/bases/inheritor.py:329: DocstringInheritanceWarning: File /Users/mpmay/Projects/MicroscopyControlAndProcessingMe/venv/lib/python3.10/site-packages/pycromanager/acquisitions.py:845: in MagellanAcquisition.__init__: section Parameters: the docstring for the argument 'pre_hardware_hook_fn' is missing.\n",
      "  self._warn(\n",
      "/Users/mpmay/Projects/MicroscopyControlAndProcessingMe/venv/lib/python3.10/site-packages/docstring_inheritance/docstring_inheritors/bases/inheritor.py:329: DocstringInheritanceWarning: File /Users/mpmay/Projects/MicroscopyControlAndProcessingMe/venv/lib/python3.10/site-packages/pycromanager/acquisitions.py:845: in MagellanAcquisition.__init__: section Parameters: the docstring for the argument 'post_hardware_hook_fn' is missing.\n",
      "  self._warn(\n",
      "/Users/mpmay/Projects/MicroscopyControlAndProcessingMe/venv/lib/python3.10/site-packages/docstring_inheritance/docstring_inheritors/bases/inheritor.py:329: DocstringInheritanceWarning: File /Users/mpmay/Projects/MicroscopyControlAndProcessingMe/venv/lib/python3.10/site-packages/pycromanager/acquisitions.py:845: in MagellanAcquisition.__init__: section Parameters: the docstring for the argument 'post_camera_hook_fn' is missing.\n",
      "  self._warn(\n",
      "/Users/mpmay/Projects/MicroscopyControlAndProcessingMe/venv/lib/python3.10/site-packages/docstring_inheritance/docstring_inheritors/bases/inheritor.py:329: DocstringInheritanceWarning: File /Users/mpmay/Projects/MicroscopyControlAndProcessingMe/venv/lib/python3.10/site-packages/pycromanager/acquisitions.py:845: in MagellanAcquisition.__init__: section Parameters: the docstring for the argument 'image_saved_fn' is missing.\n",
      "  self._warn(\n",
      "/Users/mpmay/Projects/MicroscopyControlAndProcessingMe/venv/lib/python3.10/site-packages/docstring_inheritance/docstring_inheritors/bases/inheritor.py:329: DocstringInheritanceWarning: File /Users/mpmay/Projects/MicroscopyControlAndProcessingMe/venv/lib/python3.10/site-packages/pycromanager/acquisitions.py:845: in MagellanAcquisition.__init__: section Parameters: the docstring for the argument 'timeout' is missing.\n",
      "  self._warn(\n",
      "/Users/mpmay/Projects/MicroscopyControlAndProcessingMe/venv/lib/python3.10/site-packages/docstring_inheritance/docstring_inheritors/bases/inheritor.py:329: DocstringInheritanceWarning: File /Users/mpmay/Projects/MicroscopyControlAndProcessingMe/venv/lib/python3.10/site-packages/pycromanager/acquisitions.py:845: in MagellanAcquisition.__init__: section Parameters: the docstring for the argument 'port' is missing.\n",
      "  self._warn(\n",
      "/Users/mpmay/Projects/MicroscopyControlAndProcessingMe/venv/lib/python3.10/site-packages/docstring_inheritance/docstring_inheritors/bases/inheritor.py:329: DocstringInheritanceWarning: File /Users/mpmay/Projects/MicroscopyControlAndProcessingMe/venv/lib/python3.10/site-packages/pycromanager/acquisitions.py:845: in MagellanAcquisition.__init__: section Parameters: the docstring for the argument 'debug' is missing.\n",
      "  self._warn(\n",
      "/Users/mpmay/Projects/MicroscopyControlAndProcessingMe/venv/lib/python3.10/site-packages/docstring_inheritance/docstring_inheritors/bases/inheritor.py:329: DocstringInheritanceWarning: File /Users/mpmay/Projects/MicroscopyControlAndProcessingMe/venv/lib/python3.10/site-packages/pycromanager/acquisitions.py:845: in MagellanAcquisition.__init__: section Parameters: the docstring for the argument 'core_log_debug' is missing.\n",
      "  self._warn(\n"
     ]
    }
   ],
   "source": [
    "from source.apd import *"
   ]
  },
  {
   "cell_type": "markdown",
   "metadata": {},
   "source": []
  },
  {
   "cell_type": "code",
   "execution_count": 9,
   "metadata": {},
   "outputs": [
    {
     "ename": "TypeError",
     "evalue": "APDSystem.run() takes 1 positional argument but 2 were given",
     "output_type": "error",
     "traceback": [
      "\u001b[0;31m---------------------------------------------------------------------------\u001b[0m",
      "\u001b[0;31mTypeError\u001b[0m                                 Traceback (most recent call last)",
      "\u001b[1;32m/Users/mpmay/Projects/MicroscopyControlAndProcessingMe/notebooks/Example4.ipynb Cell 5\u001b[0m line \u001b[0;36m1\n\u001b[1;32m      <a href='vscode-notebook-cell:/Users/mpmay/Projects/MicroscopyControlAndProcessingMe/notebooks/Example4.ipynb#W3sZmlsZQ%3D%3D?line=6'>7</a>\u001b[0m decision\u001b[39m=\u001b[39mDecisionRepeatAcquisition()\n\u001b[1;32m      <a href='vscode-notebook-cell:/Users/mpmay/Projects/MicroscopyControlAndProcessingMe/notebooks/Example4.ipynb#W3sZmlsZQ%3D%3D?line=8'>9</a>\u001b[0m apdSystem \u001b[39m=\u001b[39m APDSystem(configFileName\u001b[39m=\u001b[39m\u001b[39m'\u001b[39m\u001b[39mmyConfig.cfg\u001b[39m\u001b[39m'\u001b[39m, rootDataFolder\u001b[39m=\u001b[39m\u001b[39m'\u001b[39m\u001b[39m'\u001b[39m) \n\u001b[0;32m---> <a href='vscode-notebook-cell:/Users/mpmay/Projects/MicroscopyControlAndProcessingMe/notebooks/Example4.ipynb#W3sZmlsZQ%3D%3D?line=9'>10</a>\u001b[0m apdSystem\u001b[39m.\u001b[39;49mrun((acquisition,process,decision))\n",
      "\u001b[0;31mTypeError\u001b[0m: APDSystem.run() takes 1 positional argument but 2 were given"
     ]
    }
   ],
   "source": [
    "acqLibrary=AcquisitionPluginLibrary()\n",
    "acquisition=acqLibrary.xySequence([[0,0]])\n",
    "\n",
    "process=PostProcessor()\n",
    "process.add('fovMeanIntensity')\n",
    "\n",
    "decision=DecisionRepeatAcquisition()\n",
    "\n",
    "apdSystem = APDSystem(configFileName='myConfig.cfg', rootDataFolder='') \n",
    "apdSystem.run((acquisition,process,decision))\n"
   ]
  }
 ],
 "metadata": {
  "kernelspec": {
   "display_name": "venv",
   "language": "python",
   "name": "python3"
  },
  "language_info": {
   "codemirror_mode": {
    "name": "ipython",
    "version": 3
   },
   "file_extension": ".py",
   "mimetype": "text/x-python",
   "name": "python",
   "nbconvert_exporter": "python",
   "pygments_lexer": "ipython3",
   "version": "3.10.11"
  }
 },
 "nbformat": 4,
 "nbformat_minor": 2
}
