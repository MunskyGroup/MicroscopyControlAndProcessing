{
 "cells": [
  {
   "cell_type": "markdown",
   "metadata": {},
   "source": [
    "Take a grid of images by using the library of prebuilt acquisitons:\n",
    "default: Takes an image at the origin.\n",
    "xySequence: Takes an aquisition from a series of xy positions and optional arguements for Z, Time, and Channel\n",
    "xyzSequence: Takes an acquisition from a series of xyz positions (zRange is not possible for this acquistiion).\n",
    "xyLooseGrid: Takes a loose grid of images with xRange,yRange,and xyOrigin as arguements\n"
   ]
  },
  {
   "cell_type": "code",
   "execution_count": 2,
   "metadata": {},
   "outputs": [],
   "source": [
    "import sys,os\n",
    "sys.path.append('source')"
   ]
  },
  {
   "cell_type": "code",
   "execution_count": 5,
   "metadata": {},
   "outputs": [
    {
     "name": "stdout",
     "output_type": "stream",
     "text": [
      "Acquisition Complete\n",
      "Acquisition Complete\n"
     ]
    }
   ],
   "source": [
    "from source.apd import *\n",
    "apdSystem = APDSystem(configFileName='myConfig.cfg', rootDataFolder='') #local\n",
    "lib = AcquisitionPluginLibrary()\n",
    "xRange=[0,10,20]\n",
    "yRange=[-10,0,10]\n",
    "xyOrigin=[0,0]\n",
    "acquisition = lib.xyLooseGrid(xRange,yRange,xyOrigin)\n",
    "dataset=apdSystem.acquire(acquisition)"
   ]
  },
  {
   "cell_type": "markdown",
   "metadata": {},
   "source": [
    "Different types of acqusitions are av aiable in the AcquisitionLibrary:\n",
    "xySequence\n",
    "xyzSequence\n",
    "xyLooseGrid\n",
    "xyTightGrid"
   ]
  },
  {
   "cell_type": "code",
   "execution_count": 3,
   "metadata": {},
   "outputs": [
    {
     "name": "stderr",
     "output_type": "stream",
     "text": [
      "/Users/mpmay/Projects/MicroscopyControlAndProcessingMe/venv/lib/python3.10/site-packages/docstring_inheritance/docstring_inheritors/bases/inheritor.py:329: DocstringInheritanceWarning: File /Users/mpmay/Projects/MicroscopyControlAndProcessingMe/venv/lib/python3.10/site-packages/pycromanager/acquisitions.py:698: in XYTiledAcquisition.__init__: section Parameters: the docstring for the argument 'tile_overlap' is missing.\n",
      "  self._warn(\n",
      "/Users/mpmay/Projects/MicroscopyControlAndProcessingMe/venv/lib/python3.10/site-packages/docstring_inheritance/docstring_inheritors/bases/inheritor.py:329: DocstringInheritanceWarning: File /Users/mpmay/Projects/MicroscopyControlAndProcessingMe/venv/lib/python3.10/site-packages/pycromanager/acquisitions.py:698: in XYTiledAcquisition.__init__: section Parameters: the docstring for the argument 'directory' is missing.\n",
      "  self._warn(\n",
      "/Users/mpmay/Projects/MicroscopyControlAndProcessingMe/venv/lib/python3.10/site-packages/docstring_inheritance/docstring_inheritors/bases/inheritor.py:329: DocstringInheritanceWarning: File /Users/mpmay/Projects/MicroscopyControlAndProcessingMe/venv/lib/python3.10/site-packages/pycromanager/acquisitions.py:698: in XYTiledAcquisition.__init__: section Parameters: the docstring for the argument 'name' is missing.\n",
      "  self._warn(\n",
      "/Users/mpmay/Projects/MicroscopyControlAndProcessingMe/venv/lib/python3.10/site-packages/docstring_inheritance/docstring_inheritors/bases/inheritor.py:329: DocstringInheritanceWarning: File /Users/mpmay/Projects/MicroscopyControlAndProcessingMe/venv/lib/python3.10/site-packages/pycromanager/acquisitions.py:698: in XYTiledAcquisition.__init__: section Parameters: the docstring for the argument 'max_multi_res_index' is missing.\n",
      "  self._warn(\n",
      "/Users/mpmay/Projects/MicroscopyControlAndProcessingMe/venv/lib/python3.10/site-packages/docstring_inheritance/docstring_inheritors/bases/inheritor.py:329: DocstringInheritanceWarning: File /Users/mpmay/Projects/MicroscopyControlAndProcessingMe/venv/lib/python3.10/site-packages/pycromanager/acquisitions.py:698: in XYTiledAcquisition.__init__: section Parameters: the docstring for the argument 'image_process_fn' is missing.\n",
      "  self._warn(\n",
      "/Users/mpmay/Projects/MicroscopyControlAndProcessingMe/venv/lib/python3.10/site-packages/docstring_inheritance/docstring_inheritors/bases/inheritor.py:329: DocstringInheritanceWarning: File /Users/mpmay/Projects/MicroscopyControlAndProcessingMe/venv/lib/python3.10/site-packages/pycromanager/acquisitions.py:698: in XYTiledAcquisition.__init__: section Parameters: the docstring for the argument 'pre_hardware_hook_fn' is missing.\n",
      "  self._warn(\n",
      "/Users/mpmay/Projects/MicroscopyControlAndProcessingMe/venv/lib/python3.10/site-packages/docstring_inheritance/docstring_inheritors/bases/inheritor.py:329: DocstringInheritanceWarning: File /Users/mpmay/Projects/MicroscopyControlAndProcessingMe/venv/lib/python3.10/site-packages/pycromanager/acquisitions.py:698: in XYTiledAcquisition.__init__: section Parameters: the docstring for the argument 'post_hardware_hook_fn' is missing.\n",
      "  self._warn(\n",
      "/Users/mpmay/Projects/MicroscopyControlAndProcessingMe/venv/lib/python3.10/site-packages/docstring_inheritance/docstring_inheritors/bases/inheritor.py:329: DocstringInheritanceWarning: File /Users/mpmay/Projects/MicroscopyControlAndProcessingMe/venv/lib/python3.10/site-packages/pycromanager/acquisitions.py:698: in XYTiledAcquisition.__init__: section Parameters: the docstring for the argument 'post_camera_hook_fn' is missing.\n",
      "  self._warn(\n",
      "/Users/mpmay/Projects/MicroscopyControlAndProcessingMe/venv/lib/python3.10/site-packages/docstring_inheritance/docstring_inheritors/bases/inheritor.py:329: DocstringInheritanceWarning: File /Users/mpmay/Projects/MicroscopyControlAndProcessingMe/venv/lib/python3.10/site-packages/pycromanager/acquisitions.py:698: in XYTiledAcquisition.__init__: section Parameters: the docstring for the argument 'show_display' is missing.\n",
      "  self._warn(\n",
      "/Users/mpmay/Projects/MicroscopyControlAndProcessingMe/venv/lib/python3.10/site-packages/docstring_inheritance/docstring_inheritors/bases/inheritor.py:329: DocstringInheritanceWarning: File /Users/mpmay/Projects/MicroscopyControlAndProcessingMe/venv/lib/python3.10/site-packages/pycromanager/acquisitions.py:698: in XYTiledAcquisition.__init__: section Parameters: the docstring for the argument 'image_saved_fn' is missing.\n",
      "  self._warn(\n",
      "/Users/mpmay/Projects/MicroscopyControlAndProcessingMe/venv/lib/python3.10/site-packages/docstring_inheritance/docstring_inheritors/bases/inheritor.py:329: DocstringInheritanceWarning: File /Users/mpmay/Projects/MicroscopyControlAndProcessingMe/venv/lib/python3.10/site-packages/pycromanager/acquisitions.py:698: in XYTiledAcquisition.__init__: section Parameters: the docstring for the argument 'process' is missing.\n",
      "  self._warn(\n",
      "/Users/mpmay/Projects/MicroscopyControlAndProcessingMe/venv/lib/python3.10/site-packages/docstring_inheritance/docstring_inheritors/bases/inheritor.py:329: DocstringInheritanceWarning: File /Users/mpmay/Projects/MicroscopyControlAndProcessingMe/venv/lib/python3.10/site-packages/pycromanager/acquisitions.py:698: in XYTiledAcquisition.__init__: section Parameters: the docstring for the argument 'saving_queue_size' is missing.\n",
      "  self._warn(\n",
      "/Users/mpmay/Projects/MicroscopyControlAndProcessingMe/venv/lib/python3.10/site-packages/docstring_inheritance/docstring_inheritors/bases/inheritor.py:329: DocstringInheritanceWarning: File /Users/mpmay/Projects/MicroscopyControlAndProcessingMe/venv/lib/python3.10/site-packages/pycromanager/acquisitions.py:698: in XYTiledAcquisition.__init__: section Parameters: the docstring for the argument 'timeout' is missing.\n",
      "  self._warn(\n",
      "/Users/mpmay/Projects/MicroscopyControlAndProcessingMe/venv/lib/python3.10/site-packages/docstring_inheritance/docstring_inheritors/bases/inheritor.py:329: DocstringInheritanceWarning: File /Users/mpmay/Projects/MicroscopyControlAndProcessingMe/venv/lib/python3.10/site-packages/pycromanager/acquisitions.py:698: in XYTiledAcquisition.__init__: section Parameters: the docstring for the argument 'port' is missing.\n",
      "  self._warn(\n",
      "/Users/mpmay/Projects/MicroscopyControlAndProcessingMe/venv/lib/python3.10/site-packages/docstring_inheritance/docstring_inheritors/bases/inheritor.py:329: DocstringInheritanceWarning: File /Users/mpmay/Projects/MicroscopyControlAndProcessingMe/venv/lib/python3.10/site-packages/pycromanager/acquisitions.py:698: in XYTiledAcquisition.__init__: section Parameters: the docstring for the argument 'debug' is missing.\n",
      "  self._warn(\n",
      "/Users/mpmay/Projects/MicroscopyControlAndProcessingMe/venv/lib/python3.10/site-packages/docstring_inheritance/docstring_inheritors/bases/inheritor.py:329: DocstringInheritanceWarning: File /Users/mpmay/Projects/MicroscopyControlAndProcessingMe/venv/lib/python3.10/site-packages/pycromanager/acquisitions.py:698: in XYTiledAcquisition.__init__: section Parameters: the docstring for the argument 'core_log_debug' is missing.\n",
      "  self._warn(\n",
      "/Users/mpmay/Projects/MicroscopyControlAndProcessingMe/venv/lib/python3.10/site-packages/docstring_inheritance/docstring_inheritors/bases/inheritor.py:329: DocstringInheritanceWarning: File /Users/mpmay/Projects/MicroscopyControlAndProcessingMe/venv/lib/python3.10/site-packages/pycromanager/acquisitions.py:775: in ExploreAcquisition.__init__: section Parameters: the docstring for the argument 'directory' is missing.\n",
      "  self._warn(\n",
      "/Users/mpmay/Projects/MicroscopyControlAndProcessingMe/venv/lib/python3.10/site-packages/docstring_inheritance/docstring_inheritors/bases/inheritor.py:329: DocstringInheritanceWarning: File /Users/mpmay/Projects/MicroscopyControlAndProcessingMe/venv/lib/python3.10/site-packages/pycromanager/acquisitions.py:775: in ExploreAcquisition.__init__: section Parameters: the docstring for the argument 'name' is missing.\n",
      "  self._warn(\n",
      "/Users/mpmay/Projects/MicroscopyControlAndProcessingMe/venv/lib/python3.10/site-packages/docstring_inheritance/docstring_inheritors/bases/inheritor.py:329: DocstringInheritanceWarning: File /Users/mpmay/Projects/MicroscopyControlAndProcessingMe/venv/lib/python3.10/site-packages/pycromanager/acquisitions.py:775: in ExploreAcquisition.__init__: section Parameters: the docstring for the argument 'z_step_um' is missing.\n",
      "  self._warn(\n",
      "/Users/mpmay/Projects/MicroscopyControlAndProcessingMe/venv/lib/python3.10/site-packages/docstring_inheritance/docstring_inheritors/bases/inheritor.py:329: DocstringInheritanceWarning: File /Users/mpmay/Projects/MicroscopyControlAndProcessingMe/venv/lib/python3.10/site-packages/pycromanager/acquisitions.py:775: in ExploreAcquisition.__init__: section Parameters: the docstring for the argument 'tile_overlap' is missing.\n",
      "  self._warn(\n",
      "/Users/mpmay/Projects/MicroscopyControlAndProcessingMe/venv/lib/python3.10/site-packages/docstring_inheritance/docstring_inheritors/bases/inheritor.py:329: DocstringInheritanceWarning: File /Users/mpmay/Projects/MicroscopyControlAndProcessingMe/venv/lib/python3.10/site-packages/pycromanager/acquisitions.py:775: in ExploreAcquisition.__init__: section Parameters: the docstring for the argument 'channel_group' is missing.\n",
      "  self._warn(\n",
      "/Users/mpmay/Projects/MicroscopyControlAndProcessingMe/venv/lib/python3.10/site-packages/docstring_inheritance/docstring_inheritors/bases/inheritor.py:329: DocstringInheritanceWarning: File /Users/mpmay/Projects/MicroscopyControlAndProcessingMe/venv/lib/python3.10/site-packages/pycromanager/acquisitions.py:775: in ExploreAcquisition.__init__: section Parameters: the docstring for the argument 'image_process_fn' is missing.\n",
      "  self._warn(\n",
      "/Users/mpmay/Projects/MicroscopyControlAndProcessingMe/venv/lib/python3.10/site-packages/docstring_inheritance/docstring_inheritors/bases/inheritor.py:329: DocstringInheritanceWarning: File /Users/mpmay/Projects/MicroscopyControlAndProcessingMe/venv/lib/python3.10/site-packages/pycromanager/acquisitions.py:775: in ExploreAcquisition.__init__: section Parameters: the docstring for the argument 'pre_hardware_hook_fn' is missing.\n",
      "  self._warn(\n",
      "/Users/mpmay/Projects/MicroscopyControlAndProcessingMe/venv/lib/python3.10/site-packages/docstring_inheritance/docstring_inheritors/bases/inheritor.py:329: DocstringInheritanceWarning: File /Users/mpmay/Projects/MicroscopyControlAndProcessingMe/venv/lib/python3.10/site-packages/pycromanager/acquisitions.py:775: in ExploreAcquisition.__init__: section Parameters: the docstring for the argument 'post_hardware_hook_fn' is missing.\n",
      "  self._warn(\n",
      "/Users/mpmay/Projects/MicroscopyControlAndProcessingMe/venv/lib/python3.10/site-packages/docstring_inheritance/docstring_inheritors/bases/inheritor.py:329: DocstringInheritanceWarning: File /Users/mpmay/Projects/MicroscopyControlAndProcessingMe/venv/lib/python3.10/site-packages/pycromanager/acquisitions.py:775: in ExploreAcquisition.__init__: section Parameters: the docstring for the argument 'post_camera_hook_fn' is missing.\n",
      "  self._warn(\n",
      "/Users/mpmay/Projects/MicroscopyControlAndProcessingMe/venv/lib/python3.10/site-packages/docstring_inheritance/docstring_inheritors/bases/inheritor.py:329: DocstringInheritanceWarning: File /Users/mpmay/Projects/MicroscopyControlAndProcessingMe/venv/lib/python3.10/site-packages/pycromanager/acquisitions.py:775: in ExploreAcquisition.__init__: section Parameters: the docstring for the argument 'show_display' is missing.\n",
      "  self._warn(\n",
      "/Users/mpmay/Projects/MicroscopyControlAndProcessingMe/venv/lib/python3.10/site-packages/docstring_inheritance/docstring_inheritors/bases/inheritor.py:329: DocstringInheritanceWarning: File /Users/mpmay/Projects/MicroscopyControlAndProcessingMe/venv/lib/python3.10/site-packages/pycromanager/acquisitions.py:775: in ExploreAcquisition.__init__: section Parameters: the docstring for the argument 'image_saved_fn' is missing.\n",
      "  self._warn(\n",
      "/Users/mpmay/Projects/MicroscopyControlAndProcessingMe/venv/lib/python3.10/site-packages/docstring_inheritance/docstring_inheritors/bases/inheritor.py:329: DocstringInheritanceWarning: File /Users/mpmay/Projects/MicroscopyControlAndProcessingMe/venv/lib/python3.10/site-packages/pycromanager/acquisitions.py:775: in ExploreAcquisition.__init__: section Parameters: the docstring for the argument 'process' is missing.\n",
      "  self._warn(\n",
      "/Users/mpmay/Projects/MicroscopyControlAndProcessingMe/venv/lib/python3.10/site-packages/docstring_inheritance/docstring_inheritors/bases/inheritor.py:329: DocstringInheritanceWarning: File /Users/mpmay/Projects/MicroscopyControlAndProcessingMe/venv/lib/python3.10/site-packages/pycromanager/acquisitions.py:775: in ExploreAcquisition.__init__: section Parameters: the docstring for the argument 'saving_queue_size' is missing.\n",
      "  self._warn(\n",
      "/Users/mpmay/Projects/MicroscopyControlAndProcessingMe/venv/lib/python3.10/site-packages/docstring_inheritance/docstring_inheritors/bases/inheritor.py:329: DocstringInheritanceWarning: File /Users/mpmay/Projects/MicroscopyControlAndProcessingMe/venv/lib/python3.10/site-packages/pycromanager/acquisitions.py:775: in ExploreAcquisition.__init__: section Parameters: the docstring for the argument 'timeout' is missing.\n",
      "  self._warn(\n",
      "/Users/mpmay/Projects/MicroscopyControlAndProcessingMe/venv/lib/python3.10/site-packages/docstring_inheritance/docstring_inheritors/bases/inheritor.py:329: DocstringInheritanceWarning: File /Users/mpmay/Projects/MicroscopyControlAndProcessingMe/venv/lib/python3.10/site-packages/pycromanager/acquisitions.py:775: in ExploreAcquisition.__init__: section Parameters: the docstring for the argument 'port' is missing.\n",
      "  self._warn(\n",
      "/Users/mpmay/Projects/MicroscopyControlAndProcessingMe/venv/lib/python3.10/site-packages/docstring_inheritance/docstring_inheritors/bases/inheritor.py:329: DocstringInheritanceWarning: File /Users/mpmay/Projects/MicroscopyControlAndProcessingMe/venv/lib/python3.10/site-packages/pycromanager/acquisitions.py:775: in ExploreAcquisition.__init__: section Parameters: the docstring for the argument 'debug' is missing.\n",
      "  self._warn(\n",
      "/Users/mpmay/Projects/MicroscopyControlAndProcessingMe/venv/lib/python3.10/site-packages/docstring_inheritance/docstring_inheritors/bases/inheritor.py:329: DocstringInheritanceWarning: File /Users/mpmay/Projects/MicroscopyControlAndProcessingMe/venv/lib/python3.10/site-packages/pycromanager/acquisitions.py:775: in ExploreAcquisition.__init__: section Parameters: the docstring for the argument 'core_log_debug' is missing.\n",
      "  self._warn(\n",
      "/Users/mpmay/Projects/MicroscopyControlAndProcessingMe/venv/lib/python3.10/site-packages/docstring_inheritance/docstring_inheritors/bases/inheritor.py:329: DocstringInheritanceWarning: File /Users/mpmay/Projects/MicroscopyControlAndProcessingMe/venv/lib/python3.10/site-packages/pycromanager/acquisitions.py:845: in MagellanAcquisition.__init__: section Parameters: the docstring for the argument 'magellan_acq_index' is missing.\n",
      "  self._warn(\n",
      "/Users/mpmay/Projects/MicroscopyControlAndProcessingMe/venv/lib/python3.10/site-packages/docstring_inheritance/docstring_inheritors/bases/inheritor.py:329: DocstringInheritanceWarning: File /Users/mpmay/Projects/MicroscopyControlAndProcessingMe/venv/lib/python3.10/site-packages/pycromanager/acquisitions.py:845: in MagellanAcquisition.__init__: section Parameters: the docstring for the argument 'magellan_explore' is missing.\n",
      "  self._warn(\n",
      "/Users/mpmay/Projects/MicroscopyControlAndProcessingMe/venv/lib/python3.10/site-packages/docstring_inheritance/docstring_inheritors/bases/inheritor.py:329: DocstringInheritanceWarning: File /Users/mpmay/Projects/MicroscopyControlAndProcessingMe/venv/lib/python3.10/site-packages/pycromanager/acquisitions.py:845: in MagellanAcquisition.__init__: section Parameters: the docstring for the argument 'image_process_fn' is missing.\n",
      "  self._warn(\n",
      "/Users/mpmay/Projects/MicroscopyControlAndProcessingMe/venv/lib/python3.10/site-packages/docstring_inheritance/docstring_inheritors/bases/inheritor.py:329: DocstringInheritanceWarning: File /Users/mpmay/Projects/MicroscopyControlAndProcessingMe/venv/lib/python3.10/site-packages/pycromanager/acquisitions.py:845: in MagellanAcquisition.__init__: section Parameters: the docstring for the argument 'event_generation_hook_fn' is missing.\n",
      "  self._warn(\n",
      "/Users/mpmay/Projects/MicroscopyControlAndProcessingMe/venv/lib/python3.10/site-packages/docstring_inheritance/docstring_inheritors/bases/inheritor.py:329: DocstringInheritanceWarning: File /Users/mpmay/Projects/MicroscopyControlAndProcessingMe/venv/lib/python3.10/site-packages/pycromanager/acquisitions.py:845: in MagellanAcquisition.__init__: section Parameters: the docstring for the argument 'pre_hardware_hook_fn' is missing.\n",
      "  self._warn(\n",
      "/Users/mpmay/Projects/MicroscopyControlAndProcessingMe/venv/lib/python3.10/site-packages/docstring_inheritance/docstring_inheritors/bases/inheritor.py:329: DocstringInheritanceWarning: File /Users/mpmay/Projects/MicroscopyControlAndProcessingMe/venv/lib/python3.10/site-packages/pycromanager/acquisitions.py:845: in MagellanAcquisition.__init__: section Parameters: the docstring for the argument 'post_hardware_hook_fn' is missing.\n",
      "  self._warn(\n",
      "/Users/mpmay/Projects/MicroscopyControlAndProcessingMe/venv/lib/python3.10/site-packages/docstring_inheritance/docstring_inheritors/bases/inheritor.py:329: DocstringInheritanceWarning: File /Users/mpmay/Projects/MicroscopyControlAndProcessingMe/venv/lib/python3.10/site-packages/pycromanager/acquisitions.py:845: in MagellanAcquisition.__init__: section Parameters: the docstring for the argument 'post_camera_hook_fn' is missing.\n",
      "  self._warn(\n",
      "/Users/mpmay/Projects/MicroscopyControlAndProcessingMe/venv/lib/python3.10/site-packages/docstring_inheritance/docstring_inheritors/bases/inheritor.py:329: DocstringInheritanceWarning: File /Users/mpmay/Projects/MicroscopyControlAndProcessingMe/venv/lib/python3.10/site-packages/pycromanager/acquisitions.py:845: in MagellanAcquisition.__init__: section Parameters: the docstring for the argument 'image_saved_fn' is missing.\n",
      "  self._warn(\n",
      "/Users/mpmay/Projects/MicroscopyControlAndProcessingMe/venv/lib/python3.10/site-packages/docstring_inheritance/docstring_inheritors/bases/inheritor.py:329: DocstringInheritanceWarning: File /Users/mpmay/Projects/MicroscopyControlAndProcessingMe/venv/lib/python3.10/site-packages/pycromanager/acquisitions.py:845: in MagellanAcquisition.__init__: section Parameters: the docstring for the argument 'timeout' is missing.\n",
      "  self._warn(\n",
      "/Users/mpmay/Projects/MicroscopyControlAndProcessingMe/venv/lib/python3.10/site-packages/docstring_inheritance/docstring_inheritors/bases/inheritor.py:329: DocstringInheritanceWarning: File /Users/mpmay/Projects/MicroscopyControlAndProcessingMe/venv/lib/python3.10/site-packages/pycromanager/acquisitions.py:845: in MagellanAcquisition.__init__: section Parameters: the docstring for the argument 'port' is missing.\n",
      "  self._warn(\n",
      "/Users/mpmay/Projects/MicroscopyControlAndProcessingMe/venv/lib/python3.10/site-packages/docstring_inheritance/docstring_inheritors/bases/inheritor.py:329: DocstringInheritanceWarning: File /Users/mpmay/Projects/MicroscopyControlAndProcessingMe/venv/lib/python3.10/site-packages/pycromanager/acquisitions.py:845: in MagellanAcquisition.__init__: section Parameters: the docstring for the argument 'debug' is missing.\n",
      "  self._warn(\n",
      "/Users/mpmay/Projects/MicroscopyControlAndProcessingMe/venv/lib/python3.10/site-packages/docstring_inheritance/docstring_inheritors/bases/inheritor.py:329: DocstringInheritanceWarning: File /Users/mpmay/Projects/MicroscopyControlAndProcessingMe/venv/lib/python3.10/site-packages/pycromanager/acquisitions.py:845: in MagellanAcquisition.__init__: section Parameters: the docstring for the argument 'core_log_debug' is missing.\n",
      "  self._warn(\n"
     ]
    },
    {
     "name": "stdout",
     "output_type": "stream",
     "text": [
      "Acquisition Complete\n"
     ]
    }
   ],
   "source": [
    "from source.apd import *\n",
    "apdSystem = APDSystem(configFileName='myConfig.cfg', rootDataFolder='') #local\n",
    "lib = AcquisitionPluginLibrary()\n",
    "xyzPositions=[[0,0,0],[1,2,3]]\n",
    "acquisition = lib.xyzSequence(xyzPositions)\n",
    "dataset=apdSystem.acquire(acquisition)"
   ]
  }
 ],
 "metadata": {
  "kernelspec": {
   "display_name": "venv",
   "language": "python",
   "name": "python3"
  },
  "language_info": {
   "codemirror_mode": {
    "name": "ipython",
    "version": 3
   },
   "file_extension": ".py",
   "mimetype": "text/x-python",
   "name": "python",
   "nbconvert_exporter": "python",
   "pygments_lexer": "ipython3",
   "version": "3.10.11"
  }
 },
 "nbformat": 4,
 "nbformat_minor": 2
}
