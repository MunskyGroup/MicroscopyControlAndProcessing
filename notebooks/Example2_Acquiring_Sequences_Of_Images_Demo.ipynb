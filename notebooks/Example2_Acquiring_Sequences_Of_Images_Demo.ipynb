{
 "cells": [
  {
   "cell_type": "markdown",
   "metadata": {},
   "source": [
    "# Notebook 2: More Advanced Acquistions\n"
   ]
  },
  {
   "cell_type": "code",
   "execution_count": null,
   "metadata": {},
   "outputs": [],
   "source": [
    "import sys,os\n",
    "sys.path.append('source')"
   ]
  },
  {
   "cell_type": "markdown",
   "metadata": {},
   "source": [
    "## Example 2.1: Using the xyLooseGrid\n",
    "\n",
    "In the first notebook AcquisitionPluginLibrary.xySequence was used to image a list of positions. In this example we extent to using a new function xyLooseGrid, which will take an x-Range and y-Range of positons and image a grid of points over the xy Range.\n",
    "\n",
    "**xyLooseGrid**(xRange,yRange,xyOrigin):\n",
    "* **xRange**: a list of (int/float) positions\n",
    "* **yRange**: a list of (int/float) positions\n",
    "* **xyOrigin**: an optional origin arguement. Defaults to [0,0] if none is provided\n"
   ]
  },
  {
   "cell_type": "code",
   "execution_count": null,
   "metadata": {},
   "outputs": [],
   "source": [
    "from source.apd import *\n",
    "apdSystem = APDSystem(configFileName='myConfig.cfg', rootDataFolder='') #local\n",
    "lib = AcquisitionPluginLibrary()\n",
    "xRange=[0,10,20]\n",
    "yRange=[-10,0,10]\n",
    "xyOrigin=[0,0]\n",
    "acquisition = lib.xyLooseGrid(xRange,yRange,xyOrigin)\n",
    "dataset=apdSystem.acquire(acquisition)"
   ]
  },
  {
   "cell_type": "markdown",
   "metadata": {},
   "source": [
    "## Example 2.2: xyzSequence\n",
    "\n",
    "xyzSequence uses (x,y,z) triplets instead of (x,y) pairs for its imaging sequence. This type of acquisition will image each item in the list of (x,y,z) positions. Z-Range arguements are not possible for this type of acquisition.\n",
    "\n",
    "**xyzPositions** : a list of (x,y,z) triplets\n",
    "\n"
   ]
  },
  {
   "cell_type": "code",
   "execution_count": null,
   "metadata": {},
   "outputs": [],
   "source": [
    "from source.apd import *\n",
    "apdSystem = APDSystem(configFileName='myConfig.cfg', rootDataFolder='') #local\n",
    "lib = AcquisitionPluginLibrary()\n",
    "xyzPositions=[[0,0,0],[1,2,3]]\n",
    "acquisition = lib.xyzSequence(xyzPositions)\n",
    "dataset=apdSystem.acquire(acquisition)"
   ]
  },
  {
   "cell_type": "markdown",
   "metadata": {},
   "source": [
    "## Example 2.3: Using the position calibrator\n",
    "\n",
    "Many image acqusitions are done using using stage positions as the (x,y,z) space to move in, but occasionally pixels space (or some other space) is also useful.\n",
    "\n",
    "Passing the **calibration** arguement uses a calibration to map xy stage positions to pixel positions for convenience.\n",
    "\n",
    "**calibrationStageToPixel** : a MatrixCalibation that performs position mapping from stage space to pixel space.\n",
    "\n",
    " Here is an example."
   ]
  },
  {
   "cell_type": "code",
   "execution_count": null,
   "metadata": {},
   "outputs": [],
   "source": [
    "from source.apd import *\n",
    "from source.calibration import MatrixCalibration\n",
    "apdSystem = APDSystem(configFileName='myConfig.cfg', rootDataFolder='') #local\n",
    "lib = AcquisitionPluginLibrary()\n",
    "xyzPositions=[[0,0,0],[1,2,3]]\n",
    "calibrationPixelToStage=MatrixCalibration(matrix=[[512,0],[0,512]],zero=[0,0])\n",
    "acquisition = lib.xyzSequence(xyzPositions,calibration=calibrationStageToPixel)\n",
    "dataset=apdSystem.acquire(acquisition)"
   ]
  },
  {
   "cell_type": "markdown",
   "metadata": {},
   "source": [
    "Calibrations used with Acquisition plugin libraries should convert an arbitrary (x,y) position to (x,y) stage position. Most calibrations are measured physically and require some system measurement to determine correctly."
   ]
  }
 ],
 "metadata": {
  "kernelspec": {
   "display_name": "venv",
   "language": "python",
   "name": "python3"
  },
  "language_info": {
   "codemirror_mode": {
    "name": "ipython",
    "version": 3
   },
   "file_extension": ".py",
   "mimetype": "text/x-python",
   "name": "python",
   "nbconvert_exporter": "python",
   "pygments_lexer": "ipython3",
   "version": "3.10.11"
  }
 },
 "nbformat": 4,
 "nbformat_minor": 2
}
