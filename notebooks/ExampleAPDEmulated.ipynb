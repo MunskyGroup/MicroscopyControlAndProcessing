{
 "cells": [
  {
   "cell_type": "markdown",
   "metadata": {},
   "source": [
    "An image emulator was developed to simulate a real microcope using a set of real images."
   ]
  },
  {
   "cell_type": "code",
   "execution_count": null,
   "metadata": {},
   "outputs": [],
   "source": [
    "from source.apd import *\n",
    "from source.image_emulator import ImageEmulator2Channel\n",
    "apdSystem = APDSystem(configFileName='myConfig.cfg', rootDataFolder='') #local\n",
    "lib = AcquisitionPluginLibrary()\n",
    "positions=[[0,0]] #a list of length 1 which will use the origin [0,0] only\n",
    "acquisition = lib.xySequence(positions)\n",
    "dataset=apdSystem.acquire(acquisition)"
   ]
  }
 ],
 "metadata": {
  "language_info": {
   "name": "python"
  }
 },
 "nbformat": 4,
 "nbformat_minor": 2
}
