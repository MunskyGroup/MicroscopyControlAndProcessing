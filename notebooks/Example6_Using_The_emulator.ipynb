{
 "cells": [
  {
   "cell_type": "markdown",
   "metadata": {},
   "source": [
    "# Notebook 6: Using the Image Emulator\n",
    "Image emulations were developed to create crealising microscopy images without the need for a real microscope"
   ]
  },
  {
   "cell_type": "code",
   "execution_count": null,
   "metadata": {},
   "outputs": [],
   "source": [
    "import sys,os\n",
    "sys.path.append('source')"
   ]
  },
  {
   "cell_type": "code",
   "execution_count": null,
   "metadata": {},
   "outputs": [],
   "source": [
    "from source.apd import *\n",
    "from source.image_emulator import ImageEmulator2Channel\n",
    "apdSystem = APDSystem(configFileName='myConfig.cfg', rootDataFolder='') #local\n",
    "lib = AcquisitionPluginLibrary()\n",
    "positions=[[0,0]] \n",
    "emulator=ImageEmulator2Channel()\n",
    "emulator.simulatePositions([1000,1000],10)\n",
    "acquisition = lib.xySequence(positions,emulator=emulator)\n",
    "dataset=apdSystem.acquire(acquisition)"
   ]
  }
 ],
 "metadata": {
  "kernelspec": {
   "display_name": "venv",
   "language": "python",
   "name": "python3"
  },
  "language_info": {
   "codemirror_mode": {
    "name": "ipython",
    "version": 3
   },
   "file_extension": ".py",
   "mimetype": "text/x-python",
   "name": "python",
   "nbconvert_exporter": "python",
   "pygments_lexer": "ipython3",
   "version": "3.10.11"
  }
 },
 "nbformat": 4,
 "nbformat_minor": 2
}
