{
 "cells": [
  {
   "cell_type": "markdown",
   "metadata": {},
   "source": [
    "# Notebook 1\n",
    "\n",
    "These two lines add the source folder to the path. These lines are specific to these notebooks and are not required in the example .py files."
   ]
  },
  {
   "cell_type": "code",
   "execution_count": null,
   "metadata": {},
   "outputs": [],
   "source": [
    "import sys,os\n",
    "sys.path.append('source')"
   ]
  },
  {
   "cell_type": "markdown",
   "metadata": {},
   "source": [
    "## Example 1.1: Getting Started\n",
    "\n",
    "Taking a singular image\n",
    "Run MicroManager and open port 4845 in the Options setting.\n",
    "Run an the acquisition of a single image at the origin [0,0] by taking a grid of images with no steps.\n",
    "\n",
    "* **myConfig.cfg** : An empty configuration plain text file for demo use\n",
    "\n",
    "* **rootDataFolder** : The location of the program home folder. Pointing this to a different locaiton will cause saving to that folder.\n",
    "\n",
    "* **positions** : A list of (x,y) float or int pairs\n",
    "\n",
    "AcqusitionPluginLibrary creates differnt types of acquistisions depending on the function used (Factory Design Pattern).\n",
    "\n",
    "AcqusitionPluginLibrary.xySequence(posittions) takes in at least a list of (x,y) positions, and returns an AcquisitionPlugin which cotains a wad of settings to image a sequence of (x,y) positions."
   ]
  },
  {
   "cell_type": "code",
   "execution_count": null,
   "id": "7c5560d5-3f6f-4aba-83cc-5b6ea5184dbd",
   "metadata": {},
   "outputs": [],
   "source": [
    "from source.apd import *\n",
    "apdSystem = APDSystem(configFileName='myConfig.cfg', rootDataFolder='') #local\n",
    "lib = AcquisitionPluginLibrary()\n",
    "positions=[[0,0]] #a list of length 1 which will use the origin [0,0] only\n",
    "acquisition = lib.xySequence(positions)\n",
    "dataset=apdSystem.acquire(acquisition)"
   ]
  },
  {
   "cell_type": "markdown",
   "metadata": {},
   "source": [
    "## Example 1.2: Add a Z-Stack \n",
    "Taking Stacks of images in the Z-Direction is often of interest. This can be performed by passing a the Z Range Keyword arguement which is a triplet of values given by : \n",
    " \n",
    "* **zRange** = [ **zStart** , **zEnd** , **zStepSize** ]\n",
    "**xStart** : The starting point of the Z-Stack\n",
    "**ZEnd** : The final point of the Z-Stack\n",
    "**ZStepStize** : The step size beween stacks.\n",
    "\n",
    "A Z-Range of [-1.,1.,0.5] would return the individual Z positions [-1.0,-0.5,0.0,0.5,1.0]."
   ]
  },
  {
   "cell_type": "code",
   "execution_count": null,
   "metadata": {},
   "outputs": [],
   "source": [
    "from source.apd import *\n",
    "import matplotlib.pyplot as plt\n",
    "apdSystem = APDSystem(configFileName='myConfig.cfg', rootDataFolder='') #local\n",
    "lib = AcquisitionPluginLibrary()\n",
    "positions=[[0,0]]\n",
    "acquisition = lib.xySequence(positions,zRange=[-1.,1.,.5])\n",
    "dataset=apdSystem.acquire(acquisition)\n",
    "plt.imshow(dataset[...])\n"
   ]
  },
  {
   "cell_type": "markdown",
   "metadata": {},
   "source": [
    "## Example 1.3: Add a Time Range \n",
    "Make A time Series of the Z Stacks by adding the time sereies keyword arguement\n",
    "\n",
    "* **timeRange**=[numTimePoints,timeInterval_Seconds]\n",
    "\n"
   ]
  },
  {
   "cell_type": "code",
   "execution_count": null,
   "metadata": {},
   "outputs": [],
   "source": [
    "from source.apd import *\n",
    "apdSystem = APDSystem(configFileName='myConfig.cfg', rootDataFolder='')\n",
    "lib = AcquisitionPluginLibrary()\n",
    "positions=[[0,0]]\n",
    "acquisition = lib.xySequence(positions,zRange=[-1.,1.,.5],timeRange=[3,3.5])\n",
    "dataset=apdSystem.acquire(acquisition)"
   ]
  },
  {
   "cell_type": "markdown",
   "metadata": {},
   "source": [
    "## Example 1.4: Add another position to image\n",
    "\n",
    "Image a nearby position by adding a position to the sequence by including annother (x,y) pair in the list of positions.\n"
   ]
  },
  {
   "cell_type": "code",
   "execution_count": null,
   "metadata": {},
   "outputs": [],
   "source": [
    "from source.apd import *\n",
    "apdSystem = APDSystem(configFileName='myConfig.cfg', rootDataFolder='') #local\n",
    "lib = AcquisitionPluginLibrary()\n",
    "positions=[[0,0],[0,50]]\n",
    "acquisition = lib.xySequence(positions,zRange=[-1.,1.,.5],timeRange=[3,3.5])\n",
    "dataset=apdSystem.acquire(acquisition)"
   ]
  },
  {
   "cell_type": "markdown",
   "metadata": {},
   "source": [
    "## Example 1.5: Image in multiple colors by adding an optional channelRange arguement\n",
    "Multi-Color images can be taken by changing the ChannelRange of the system:\n",
    "\n",
    "* **channelRange** = [ **ChannelName** , **ChannelNameItemsList** , **channelExposureTimeMS**]\n",
    "    * channelName : a string of the type of 'state' to increment over\n",
    "    * channelNameItemsList : list of items to change to\n",
    "    * channelExposureTimeList_MS: list of channel exposure times in milliseconds which is equal in length to the items names."
   ]
  },
  {
   "cell_type": "code",
   "execution_count": null,
   "metadata": {},
   "outputs": [],
   "source": [
    "from source.apd import *\n",
    "apdSystem = APDSystem(configFileName='myConfig.cfg', rootDataFolder='') #local\n",
    "lib = AcquisitionPluginLibrary()\n",
    "positions=[[0,0],[0,50]]\n",
    "acquisition = lib.xySequence(positions,zRange=[-1.,1.,.5],timeRange=[3,3.5],channelRange=['Channel',['DAPI','Cy5'],[100,100]])\n",
    "dataset=apdSystem.acquire(acquisition)"
   ]
  }
 ],
 "metadata": {
  "kernelspec": {
   "display_name": "Python 3 (ipykernel)",
   "language": "python",
   "name": "python3"
  },
  "language_info": {
   "codemirror_mode": {
    "name": "ipython",
    "version": 3
   },
   "file_extension": ".py",
   "mimetype": "text/x-python",
   "name": "python",
   "nbconvert_exporter": "python",
   "pygments_lexer": "ipython3",
   "version": "3.10.11"
  }
 },
 "nbformat": 4,
 "nbformat_minor": 5
}
