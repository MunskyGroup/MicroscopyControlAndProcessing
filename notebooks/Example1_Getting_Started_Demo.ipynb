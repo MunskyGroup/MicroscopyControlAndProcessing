{
 "cells": [
  {
   "cell_type": "markdown",
   "metadata": {},
   "source": [
    "# Notebook 1\n",
    "\n",
    "These two lines add the source folder to the path. These lines are specific to these notebooks and are not required in the example .py files."
   ]
  },
  {
   "cell_type": "code",
   "execution_count": 1,
   "metadata": {},
   "outputs": [],
   "source": [
    "import sys,os\n",
    "sys.path.append('source')"
   ]
  },
  {
   "cell_type": "markdown",
   "metadata": {},
   "source": [
    "## **Example 1.1**: Getting Started\n",
    "\n",
    "Taking a singular image\n",
    "Run MicroManager and open port 4845 in the Options setting.\n",
    "Run an the acquisition of a single image at the origin [0,0] by taking a grid of images with no steps.\n",
    "\n",
    "* **myConfig.cfg** : An empty configuration plain text file for demo use\n",
    "\n",
    "* **rootDataFolder** : The location of the program home folder. Pointing this to a different locaiton will cause saving to that folder.\n",
    "\n",
    "* **positions** : A list of (x,y) float or int pairs\n",
    "\n",
    "AcqusitionPluginLibrary creates differnt types of acquistisions depending on the function used (Factory Design Pattern).\n",
    "\n",
    "AcqusitionPluginLibrary.xySequence(posittions) takes in at least a list of (x,y) positions, and returns an AcquisitionPlugin which cotains a wad of settings to image a sequence of (x,y) positions."
   ]
  },
  {
   "cell_type": "code",
   "execution_count": 2,
   "id": "7c5560d5-3f6f-4aba-83cc-5b6ea5184dbd",
   "metadata": {},
   "outputs": [
    {
     "ename": "Exception",
     "evalue": "Couldn't create Core. Is Micro-Manager running and is the ZMQ server on {port} option enabled?",
     "output_type": "error",
     "traceback": [
      "\u001b[0;31m---------------------------------------------------------------------------\u001b[0m",
      "\u001b[0;31mException\u001b[0m                                 Traceback (most recent call last)",
      "File \u001b[0;32m~/Projects/MicroscopyControlAndProcessingMe/venv/lib/python3.10/site-packages/pycromanager/mm_java_classes.py:85\u001b[0m, in \u001b[0;36mCore.__new__\u001b[0;34m(cls, convert_camel_case, port, new_socket, debug, timeout)\u001b[0m\n\u001b[1;32m     84\u001b[0m \u001b[39mtry\u001b[39;00m:\n\u001b[0;32m---> 85\u001b[0m     \u001b[39mreturn\u001b[39;00m JavaObject(\u001b[39m\"\u001b[39;49m\u001b[39mmmcorej.CMMCore\u001b[39;49m\u001b[39m\"\u001b[39;49m, new_socket\u001b[39m=\u001b[39;49mnew_socket,\n\u001b[1;32m     86\u001b[0m               port\u001b[39m=\u001b[39;49mport, timeout\u001b[39m=\u001b[39;49mtimeout, convert_camel_case\u001b[39m=\u001b[39;49mconvert_camel_case, debug\u001b[39m=\u001b[39;49mdebug)\n\u001b[1;32m     87\u001b[0m \u001b[39mexcept\u001b[39;00m \u001b[39mException\u001b[39;00m \u001b[39mas\u001b[39;00m e:\n",
      "File \u001b[0;32m~/Projects/MicroscopyControlAndProcessingMe/venv/lib/python3.10/site-packages/pycromanager/zmq_bridge/wrappers.py:73\u001b[0m, in \u001b[0;36mJavaObject.__new__\u001b[0;34m(cls, classpath, args, port, timeout, new_socket, convert_camel_case, debug)\u001b[0m\n\u001b[1;32m     56\u001b[0m \u001b[39m\u001b[39m\u001b[39m\"\"\"\u001b[39;00m\n\u001b[1;32m     57\u001b[0m \u001b[39mclasspath: str\u001b[39;00m\n\u001b[1;32m     58\u001b[0m \u001b[39m    Full classpath of the java object\u001b[39;00m\n\u001b[0;32m   (...)\u001b[0m\n\u001b[1;32m     71\u001b[0m \u001b[39m    print debug messages\u001b[39;00m\n\u001b[1;32m     72\u001b[0m \u001b[39m\"\"\"\u001b[39;00m\n\u001b[0;32m---> 73\u001b[0m bridge \u001b[39m=\u001b[39m _Bridge(port\u001b[39m=\u001b[39;49mport, timeout\u001b[39m=\u001b[39;49mtimeout, convert_camel_case\u001b[39m=\u001b[39;49mconvert_camel_case, debug\u001b[39m=\u001b[39;49mdebug)\n\u001b[1;32m     74\u001b[0m \u001b[39mreturn\u001b[39;00m bridge\u001b[39m.\u001b[39m_construct_java_object(classpath, new_socket\u001b[39m=\u001b[39mnew_socket, args\u001b[39m=\u001b[39margs)\n",
      "File \u001b[0;32m~/Projects/MicroscopyControlAndProcessingMe/venv/lib/python3.10/site-packages/pycromanager/zmq_bridge/_bridge.py:294\u001b[0m, in \u001b[0;36m_Bridge.__init__\u001b[0;34m(self, port, convert_camel_case, debug, ip_address, timeout, iterate)\u001b[0m\n\u001b[1;32m    293\u001b[0m \u001b[39mif\u001b[39;00m reply_json \u001b[39mis\u001b[39;00m \u001b[39mNone\u001b[39;00m:\n\u001b[0;32m--> 294\u001b[0m      \u001b[39mraise\u001b[39;00m \u001b[39mException\u001b[39;00m(\n\u001b[1;32m    295\u001b[0m         \u001b[39mf\u001b[39m\u001b[39m\"\u001b[39m\u001b[39mSocket timed out after \u001b[39m\u001b[39m{\u001b[39;00mtimeout\u001b[39m}\u001b[39;00m\u001b[39m milliseconds\u001b[39m\u001b[39m\"\u001b[39m\n\u001b[1;32m    296\u001b[0m     )\n\u001b[1;32m    297\u001b[0m \u001b[39mif\u001b[39;00m reply_json[\u001b[39m\"\u001b[39m\u001b[39mtype\u001b[39m\u001b[39m\"\u001b[39m] \u001b[39m==\u001b[39m \u001b[39m\"\u001b[39m\u001b[39mexception\u001b[39m\u001b[39m\"\u001b[39m:\n",
      "\u001b[0;31mException\u001b[0m: Socket timed out after 500 milliseconds",
      "\nDuring handling of the above exception, another exception occurred:\n",
      "\u001b[0;31mException\u001b[0m                                 Traceback (most recent call last)",
      "\u001b[1;32m/Users/mpmay/Projects/MicroscopyControlAndProcessingMe/notebooks/Example1_Getting_Started_Demo.ipynb Cell 4\u001b[0m line \u001b[0;36m6\n\u001b[1;32m      <a href='vscode-notebook-cell:/Users/mpmay/Projects/MicroscopyControlAndProcessingMe/notebooks/Example1_Getting_Started_Demo.ipynb#W3sZmlsZQ%3D%3D?line=3'>4</a>\u001b[0m positions\u001b[39m=\u001b[39m[[\u001b[39m0\u001b[39m,\u001b[39m0\u001b[39m]] \u001b[39m#a list of length 1 which will use the origin [0,0] only\u001b[39;00m\n\u001b[1;32m      <a href='vscode-notebook-cell:/Users/mpmay/Projects/MicroscopyControlAndProcessingMe/notebooks/Example1_Getting_Started_Demo.ipynb#W3sZmlsZQ%3D%3D?line=4'>5</a>\u001b[0m acquisition \u001b[39m=\u001b[39m lib\u001b[39m.\u001b[39mxySequence(positions)\n\u001b[0;32m----> <a href='vscode-notebook-cell:/Users/mpmay/Projects/MicroscopyControlAndProcessingMe/notebooks/Example1_Getting_Started_Demo.ipynb#W3sZmlsZQ%3D%3D?line=5'>6</a>\u001b[0m dataset\u001b[39m=\u001b[39mapdSystem\u001b[39m.\u001b[39;49macquire(acquisition)\n",
      "File \u001b[0;32m~/Projects/MicroscopyControlAndProcessingMe/source/apd.py:101\u001b[0m, in \u001b[0;36mAPDSystem.acquire\u001b[0;34m(self, acquisition)\u001b[0m\n\u001b[1;32m    100\u001b[0m \u001b[39mdef\u001b[39;00m \u001b[39macquire\u001b[39m(\u001b[39mself\u001b[39m,acquisition):\n\u001b[0;32m--> 101\u001b[0m     dataset \u001b[39m=\u001b[39m \u001b[39mself\u001b[39;49m\u001b[39m.\u001b[39;49mbackend\u001b[39m.\u001b[39;49macquire(acquisition)\n\u001b[1;32m    102\u001b[0m     \u001b[39mreturn\u001b[39;00m dataset\n",
      "File \u001b[0;32m~/Projects/MicroscopyControlAndProcessingMe/source/environment.py:194\u001b[0m, in \u001b[0;36mBackend.acquire\u001b[0;34m(self, acquisition)\u001b[0m\n\u001b[1;32m    192\u001b[0m \u001b[39mif\u001b[39;00m acquisition\u001b[39m.\u001b[39msettings\u001b[39m.\u001b[39mdirectory \u001b[39m==\u001b[39m \u001b[39mNone\u001b[39;00m:\n\u001b[1;32m    193\u001b[0m     acquisition\u001b[39m.\u001b[39msettings\u001b[39m.\u001b[39mdirectory \u001b[39m=\u001b[39m \u001b[39mself\u001b[39m\u001b[39m.\u001b[39mglobals\u001b[39m.\u001b[39mDATA_ACQUISITION_PATH\n\u001b[0;32m--> 194\u001b[0m dataset \u001b[39m=\u001b[39m acquisition\u001b[39m.\u001b[39;49mrun()\n\u001b[1;32m    195\u001b[0m \u001b[39mself\u001b[39m\u001b[39m.\u001b[39mverbosity\u001b[39m.\u001b[39madd(\u001b[39m'\u001b[39m\u001b[39mAcquisition Complete\u001b[39m\u001b[39m'\u001b[39m)\n\u001b[1;32m    196\u001b[0m \u001b[39mself\u001b[39m\u001b[39m.\u001b[39mverbosity\u001b[39m.\u001b[39mprint()\n",
      "File \u001b[0;32m~/Projects/MicroscopyControlAndProcessingMe/source/acquisition.py:310\u001b[0m, in \u001b[0;36mAcquisitionPlugin.run\u001b[0;34m(self)\u001b[0m\n\u001b[1;32m    308\u001b[0m \u001b[39m#print('Number of events in schedule:{0}'.format(len(events)))\u001b[39;00m\n\u001b[1;32m    309\u001b[0m \u001b[39mif\u001b[39;00m \u001b[39mnot\u001b[39;00m \u001b[39mself\u001b[39m\u001b[39m.\u001b[39msettings\u001b[39m.\u001b[39mis_seeding:\n\u001b[0;32m--> 310\u001b[0m     \u001b[39mwith\u001b[39;00m  Acquisition(directory\u001b[39m=\u001b[39;49m\u001b[39mself\u001b[39;49m\u001b[39m.\u001b[39;49msettings\u001b[39m.\u001b[39;49mdirectory,\n\u001b[1;32m    311\u001b[0m                   name\u001b[39m=\u001b[39;49m\u001b[39mself\u001b[39;49m\u001b[39m.\u001b[39;49msettings\u001b[39m.\u001b[39;49mname,\n\u001b[1;32m    312\u001b[0m                   image_process_fn\u001b[39m=\u001b[39;49m\u001b[39mself\u001b[39;49m\u001b[39m.\u001b[39;49mhooks\u001b[39m.\u001b[39;49mhookImageProcess,\n\u001b[1;32m    313\u001b[0m                   \u001b[39m#event_generation_hook_fn=self.hooks.hookEventGeneration,\u001b[39;49;00m\n\u001b[1;32m    314\u001b[0m                   pre_hardware_hook_fn\u001b[39m=\u001b[39;49m\u001b[39mself\u001b[39;49m\u001b[39m.\u001b[39;49mhooks\u001b[39m.\u001b[39;49mhookPreHardware,\n\u001b[1;32m    315\u001b[0m                   post_hardware_hook_fn\u001b[39m=\u001b[39;49m\u001b[39mself\u001b[39;49m\u001b[39m.\u001b[39;49mhooks\u001b[39m.\u001b[39;49mhookPostHardware,\n\u001b[1;32m    316\u001b[0m                   post_camera_hook_fn\u001b[39m=\u001b[39;49m\u001b[39mself\u001b[39;49m\u001b[39m.\u001b[39;49mhooks\u001b[39m.\u001b[39;49mhookPostCamera,\n\u001b[1;32m    317\u001b[0m                   show_display\u001b[39m=\u001b[39;49m\u001b[39mself\u001b[39;49m\u001b[39m.\u001b[39;49msettings\u001b[39m.\u001b[39;49mshow_display,\n\u001b[1;32m    318\u001b[0m                   process\u001b[39m=\u001b[39;49m\u001b[39mself\u001b[39;49m\u001b[39m.\u001b[39;49msettings\u001b[39m.\u001b[39;49mprocess,\n\u001b[1;32m    319\u001b[0m                   saving_queue_size\u001b[39m=\u001b[39;49m\u001b[39mself\u001b[39;49m\u001b[39m.\u001b[39;49msettings\u001b[39m.\u001b[39;49msaving_queue_size,\n\u001b[1;32m    320\u001b[0m                   debug\u001b[39m=\u001b[39;49m\u001b[39mself\u001b[39;49m\u001b[39m.\u001b[39;49msettings\u001b[39m.\u001b[39;49mdebug,\n\u001b[1;32m    321\u001b[0m                   core_log_debug\u001b[39m=\u001b[39;49m\u001b[39mself\u001b[39;49m\u001b[39m.\u001b[39;49msettings\u001b[39m.\u001b[39;49mcore_log_debug,\n\u001b[1;32m    322\u001b[0m                   port\u001b[39m=\u001b[39;49m\u001b[39mself\u001b[39;49m\u001b[39m.\u001b[39;49msettings\u001b[39m.\u001b[39;49mport) \u001b[39mas\u001b[39;00m acq:\n\u001b[1;32m    323\u001b[0m         acq\u001b[39m.\u001b[39macquire(events)\n\u001b[1;32m    325\u001b[0m \u001b[39melse\u001b[39;00m:\n",
      "File \u001b[0;32m~/Projects/MicroscopyControlAndProcessingMe/venv/lib/python3.10/site-packages/pycromanager/acquisitions.py:324\u001b[0m, in \u001b[0;36mAcquisition.__init__\u001b[0;34m(self, directory, name, image_process_fn, event_generation_hook_fn, pre_hardware_hook_fn, post_hardware_hook_fn, post_camera_hook_fn, show_display, napari_viewer, image_saved_fn, process, saving_queue_size, timeout, port, debug, core_log_debug)\u001b[0m\n\u001b[1;32m    321\u001b[0m     named_args[\u001b[39m'\u001b[39m\u001b[39mdirectory\u001b[39m\u001b[39m'\u001b[39m] \u001b[39m=\u001b[39m os\u001b[39m.\u001b[39mpath\u001b[39m.\u001b[39mabspath(directory)\n\u001b[1;32m    323\u001b[0m \u001b[39mself\u001b[39m\u001b[39m.\u001b[39m_create_event_queue(\u001b[39m*\u001b[39m\u001b[39m*\u001b[39mnamed_args)\n\u001b[0;32m--> 324\u001b[0m \u001b[39mself\u001b[39;49m\u001b[39m.\u001b[39;49m_create_remote_acquisition(\u001b[39m*\u001b[39;49m\u001b[39m*\u001b[39;49mnamed_args)\n\u001b[1;32m    325\u001b[0m \u001b[39mself\u001b[39m\u001b[39m.\u001b[39m_initialize_image_processor(\u001b[39m*\u001b[39m\u001b[39m*\u001b[39mnamed_args)\n\u001b[1;32m    326\u001b[0m \u001b[39mself\u001b[39m\u001b[39m.\u001b[39m_initialize_hooks(\u001b[39m*\u001b[39m\u001b[39m*\u001b[39mnamed_args)\n",
      "File \u001b[0;32m~/Projects/MicroscopyControlAndProcessingMe/venv/lib/python3.10/site-packages/pycromanager/acquisitions.py:589\u001b[0m, in \u001b[0;36mAcquisition._create_remote_acquisition\u001b[0;34m(self, **kwargs)\u001b[0m\n\u001b[1;32m    588\u001b[0m \u001b[39mdef\u001b[39;00m \u001b[39m_create_remote_acquisition\u001b[39m(\u001b[39mself\u001b[39m, \u001b[39m*\u001b[39m\u001b[39m*\u001b[39mkwargs):\n\u001b[0;32m--> 589\u001b[0m     core \u001b[39m=\u001b[39m Core(port\u001b[39m=\u001b[39;49m\u001b[39mself\u001b[39;49m\u001b[39m.\u001b[39;49m_port, timeout\u001b[39m=\u001b[39;49m\u001b[39mself\u001b[39;49m\u001b[39m.\u001b[39;49m_timeout, debug\u001b[39m=\u001b[39;49m\u001b[39mself\u001b[39;49m\u001b[39m.\u001b[39;49m_debug)\n\u001b[1;32m    590\u001b[0m     acq_factory \u001b[39m=\u001b[39m JavaObject(\u001b[39m\"\u001b[39m\u001b[39morg.micromanager.remote.RemoteAcquisitionFactory\u001b[39m\u001b[39m\"\u001b[39m,\n\u001b[1;32m    591\u001b[0m         port\u001b[39m=\u001b[39m\u001b[39mself\u001b[39m\u001b[39m.\u001b[39m_port, args\u001b[39m=\u001b[39m[core], debug\u001b[39m=\u001b[39m\u001b[39mself\u001b[39m\u001b[39m.\u001b[39m_debug)\n\u001b[1;32m    592\u001b[0m     show_viewer \u001b[39m=\u001b[39m kwargs[\u001b[39m'\u001b[39m\u001b[39mshow_display\u001b[39m\u001b[39m'\u001b[39m] \u001b[39mis\u001b[39;00m \u001b[39mTrue\u001b[39;00m \u001b[39mand\u001b[39;00m\\\n\u001b[1;32m    593\u001b[0m                   kwargs[\u001b[39m'\u001b[39m\u001b[39mnapari_viewer\u001b[39m\u001b[39m'\u001b[39m] \u001b[39mis\u001b[39;00m \u001b[39mNone\u001b[39;00m \u001b[39mand\u001b[39;00m\\\n\u001b[1;32m    594\u001b[0m                   (kwargs[\u001b[39m'\u001b[39m\u001b[39mdirectory\u001b[39m\u001b[39m'\u001b[39m] \u001b[39mis\u001b[39;00m \u001b[39mnot\u001b[39;00m \u001b[39mNone\u001b[39;00m \u001b[39mand\u001b[39;00m kwargs[\u001b[39m'\u001b[39m\u001b[39mname\u001b[39m\u001b[39m'\u001b[39m] \u001b[39mis\u001b[39;00m \u001b[39mnot\u001b[39;00m \u001b[39mNone\u001b[39;00m)\n",
      "File \u001b[0;32m~/Projects/MicroscopyControlAndProcessingMe/venv/lib/python3.10/site-packages/pycromanager/mm_java_classes.py:88\u001b[0m, in \u001b[0;36mCore.__new__\u001b[0;34m(cls, convert_camel_case, port, new_socket, debug, timeout)\u001b[0m\n\u001b[1;32m     85\u001b[0m     \u001b[39mreturn\u001b[39;00m JavaObject(\u001b[39m\"\u001b[39m\u001b[39mmmcorej.CMMCore\u001b[39m\u001b[39m\"\u001b[39m, new_socket\u001b[39m=\u001b[39mnew_socket,\n\u001b[1;32m     86\u001b[0m               port\u001b[39m=\u001b[39mport, timeout\u001b[39m=\u001b[39mtimeout, convert_camel_case\u001b[39m=\u001b[39mconvert_camel_case, debug\u001b[39m=\u001b[39mdebug)\n\u001b[1;32m     87\u001b[0m \u001b[39mexcept\u001b[39;00m \u001b[39mException\u001b[39;00m \u001b[39mas\u001b[39;00m e:\n\u001b[0;32m---> 88\u001b[0m     \u001b[39mraise\u001b[39;00m \u001b[39mException\u001b[39;00m(\u001b[39m\"\u001b[39m\u001b[39mCouldn\u001b[39m\u001b[39m'\u001b[39m\u001b[39mt create Core. Is Micro-Manager running and is the ZMQ server on \u001b[39m\u001b[39m{port}\u001b[39;00m\u001b[39m option enabled?\u001b[39m\u001b[39m\"\u001b[39m)\n",
      "\u001b[0;31mException\u001b[0m: Couldn't create Core. Is Micro-Manager running and is the ZMQ server on {port} option enabled?"
     ]
    }
   ],
   "source": [
    "from source.apd import *\n",
    "apdSystem = APDSystem(configFileName='myConfig.cfg', rootDataFolder='') #local\n",
    "lib = AcquisitionPluginLibrary()\n",
    "positions=[[0,0]] #a list of length 1 which will use the origin [0,0] only\n",
    "acquisition = lib.xySequence(positions)\n",
    "dataset=apdSystem.acquire(acquisition)"
   ]
  },
  {
   "cell_type": "markdown",
   "metadata": {},
   "source": [
    "## Example 1.2: Add a Z-Stack \n",
    "Taking Stacks of images in the Z-Direction is often of interest. This can be performed by passing a the Z Range Keyword arguement which is a triplet of values given by : \n",
    " \n",
    "* **zRange** = [ **zStart** , **zEnd** , **zStepSize** ]\n",
    "* **xStart** : The starting point of the Z-Stack\n",
    "* **ZEnd** : The final point of the Z-Stack\n",
    "* **ZStepStize** : The step size beween stacks.\n",
    "\n",
    "A Z-Range of [-1.,1.,0.5] would return the individual Z positions [-1.0,-0.5,0.0,0.5,1.0]."
   ]
  },
  {
   "cell_type": "code",
   "execution_count": null,
   "metadata": {},
   "outputs": [],
   "source": [
    "from source.apd import *\n",
    "import matplotlib.pyplot as plt\n",
    "apdSystem = APDSystem(configFileName='myConfig.cfg', rootDataFolder='') #local\n",
    "lib = AcquisitionPluginLibrary()\n",
    "positions=[[0,0]]\n",
    "acquisition = lib.xySequence(positions,zRange=[-1.,1.,.5])\n",
    "dataset=apdSystem.acquire(acquisition)\n",
    "plt.imshow(dataset[...])\n"
   ]
  },
  {
   "cell_type": "markdown",
   "metadata": {},
   "source": [
    "## Example 1.3: Add a Time Range \n",
    "Make A time Series of the Z Stacks by adding the time sereies keyword arguement\n",
    "\n",
    "* **timeRange**=[numTimePoints,timeInterval_Seconds]\n",
    "\n"
   ]
  },
  {
   "cell_type": "code",
   "execution_count": null,
   "metadata": {},
   "outputs": [],
   "source": [
    "from source.apd import *\n",
    "apdSystem = APDSystem(configFileName='myConfig.cfg', rootDataFolder='')\n",
    "lib = AcquisitionPluginLibrary()\n",
    "positions=[[0,0]]\n",
    "acquisition = lib.xySequence(positions,zRange=[-1.,1.,.5],timeRange=[3,3.5])\n",
    "dataset=apdSystem.acquire(acquisition)"
   ]
  },
  {
   "cell_type": "markdown",
   "metadata": {},
   "source": [
    "## Example 1.4: Add another position to image\n",
    "\n",
    "Image a nearby position by adding a position to the sequence by including annother (x,y) pair in the list of positions.\n"
   ]
  },
  {
   "cell_type": "code",
   "execution_count": null,
   "metadata": {},
   "outputs": [],
   "source": [
    "from source.apd import *\n",
    "apdSystem = APDSystem(configFileName='myConfig.cfg', rootDataFolder='') #local\n",
    "lib = AcquisitionPluginLibrary()\n",
    "positions=[[0,0],[0,50]]\n",
    "acquisition = lib.xySequence(positions,zRange=[-1.,1.,.5],timeRange=[3,3.5])\n",
    "dataset=apdSystem.acquire(acquisition)"
   ]
  },
  {
   "cell_type": "markdown",
   "metadata": {},
   "source": [
    "## Example 1.5: Image in multiple colors by adding an optional channelRange arguement\n",
    "Multi-Color images can be taken by changing the ChannelRange of the system:\n",
    "\n",
    "* **channelRange** = [ **ChannelName** , **ChannelNameItemsList** , **channelExposureTimeMS**]\n",
    "    * channelName : a string of the type of 'state' to increment over\n",
    "    * channelNameItemsList : list of items to change to\n",
    "    * channelExposureTimeList_MS: list of channel exposure times in milliseconds which is equal in length to the items names."
   ]
  },
  {
   "cell_type": "code",
   "execution_count": null,
   "metadata": {},
   "outputs": [],
   "source": [
    "from source.apd import *\n",
    "apdSystem = APDSystem(configFileName='myConfig.cfg', rootDataFolder='') #local\n",
    "lib = AcquisitionPluginLibrary()\n",
    "positions=[[0,0],[0,50]]\n",
    "acquisition = lib.xySequence(positions,zRange=[-1.,1.,.5],timeRange=[3,3.5],channelRange=['Channel',['DAPI','Cy5'],[100,100]])\n",
    "dataset=apdSystem.acquire(acquisition)"
   ]
  }
 ],
 "metadata": {
  "kernelspec": {
   "display_name": "Python 3 (ipykernel)",
   "language": "python",
   "name": "python3"
  },
  "language_info": {
   "codemirror_mode": {
    "name": "ipython",
    "version": 3
   },
   "file_extension": ".py",
   "mimetype": "text/x-python",
   "name": "python",
   "nbconvert_exporter": "python",
   "pygments_lexer": "ipython3",
   "version": "3.10.11"
  }
 },
 "nbformat": 4,
 "nbformat_minor": 5
}
