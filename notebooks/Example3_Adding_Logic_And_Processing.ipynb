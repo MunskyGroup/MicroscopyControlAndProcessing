{
 "cells": [
  {
   "cell_type": "markdown",
   "metadata": {},
   "source": [
    "# Notebook 3: Adding Logic and Processing\n",
    "This Example code will walk you through the creation of PyroManager Hooks.\n",
    "\n",
    "These hooks are also called 'callback functions' which are functions passed into functions to be evaluated at different stages of the image acquisition loop.\n",
    "The stages are as follows:\n",
    "\n",
    "(1) Pre-Hardware Hook \n",
    "\n",
    "(2) Post Hardware Hook\n",
    "\n",
    "(3) Pre Camera Hook\n",
    "\n",
    "(4) Post Camera Hook\n",
    "\n",
    "(5) Image Processing Hook\n",
    "\n",
    "If a callback is used, the acqusition will cycle over (1~4) repeating for each image acquired. The image hook lives on its own thread.\n",
    "\n",
    "Each hook function requires the creation of a function with a very particular inputs, unique to each type of callback\n",
    "\n",
    "A HookSet is a wad of all the hook functions treated as a single object. Each hook is a variable of the HookSet."
   ]
  },
  {
   "cell_type": "markdown",
   "metadata": {},
   "source": [
    "Hello World Example:\n",
    "Below is an example of the creation of a Pre hardware hook that prints hello world after actuating the hardware"
   ]
  },
  {
   "cell_type": "code",
   "execution_count": 7,
   "metadata": {},
   "outputs": [],
   "source": [
    "import sys,os\n",
    "sys.path.append('source')"
   ]
  },
  {
   "cell_type": "markdown",
   "metadata": {},
   "source": [
    "## Example 3.1: The Hello World Hook Function\n",
    "todo "
   ]
  },
  {
   "cell_type": "code",
   "execution_count": 8,
   "metadata": {},
   "outputs": [
    {
     "name": "stdout",
     "output_type": "stream",
     "text": [
      "hello world from Pre-hardware Hook\n",
      "hello world from Post-hardware Hook\n",
      "Acquisition Complete\n",
      "Acquisition Complete\n",
      "Acquisition Complete\n",
      "Acquisition Complete\n",
      "Acquisition Complete\n",
      "Acquisition Complete\n"
     ]
    }
   ],
   "source": [
    "from source.apd import *\n",
    "from source.hooks import HookSet, Hook\n",
    "\n",
    "def helloWorldFunctionPrehardware(self,event,stack):\n",
    "    print('hello world from Pre-hardware Hook')\n",
    "    return event\n",
    "\n",
    "def helloWorldFunctionPostHardware(self,event,stack):\n",
    "    print('hello world from Post-hardware Hook')\n",
    "    return event\n",
    "\n",
    "hooks=HookSet()\n",
    "hooks.hookPreHardware=Hook(function=helloWorldFunctionPrehardware)\n",
    "hooks.hookPostHardware=Hook(function=helloWorldFunctionPostHardware)\n",
    "\n",
    "\n",
    "apdSystem = APDSystem(configFileName='myConfig.cfg', rootDataFolder='') #local\n",
    "lib = AcquisitionPluginLibrary()\n",
    "positions=[[0,0]] #a list of length 1 which will use the origin [0,0] only\n",
    "acquisition = lib.xySequence(positions)\n",
    "acquisition.hooks=hooks\n",
    "dataset=apdSystem.acquire(acquisition)"
   ]
  },
  {
   "cell_type": "code",
   "execution_count": 9,
   "metadata": {},
   "outputs": [
    {
     "name": "stdout",
     "output_type": "stream",
     "text": [
      "{'axes': {'z': 0, 'time': 0, 'position': 0}, 'x': 0, 'y': 0, 'z': -1}\n",
      "{'axes': {'z': 0, 'time': 0, 'position': 1}, 'x': 0, 'y': 1, 'z': -1}\n",
      "Acquisition Complete\n",
      "Acquisition Complete\n",
      "Acquisition Complete\n",
      "Acquisition Complete\n",
      "Acquisition Complete\n",
      "Acquisition Complete\n",
      "Acquisition Complete\n"
     ]
    }
   ],
   "source": [
    "from source.apd import *\n",
    "from source.hooks import HookSet, Hook\n",
    "\n",
    "def printEventInformation(self,event,stack):\n",
    "    print(event)\n",
    "    return event\n",
    "\n",
    "hooks=HookSet()\n",
    "hooks.hookPreHardware=Hook(function=printEventInformation)\n",
    "\n",
    "lib = AcquisitionPluginLibrary()\n",
    "positions=[[0,0],[0,1]] #a list of length 1 which will use the origin [0,0] only\n",
    "acquisition = lib.xySequence(positions,zRange=[-1.,1.,1.])\n",
    "acquisition.hooks=hooks\n",
    "\n",
    "apdSystem = APDSystem(configFileName='myConfig.cfg', rootDataFolder='') #local\n",
    "dataset = apdSystem.acquire(acquisition)"
   ]
  },
  {
   "cell_type": "markdown",
   "metadata": {},
   "source": [
    "## Example 3.X: Image Hook Functions\n",
    "Here is an example with an image processing hook that prints the dimensioins of the images.\n",
    "Image hooks use a different set of inputs than the others."
   ]
  },
  {
   "cell_type": "code",
   "execution_count": 11,
   "metadata": {},
   "outputs": [
    {
     "name": "stdout",
     "output_type": "stream",
     "text": [
      "<source.hooks.ImageHook object at 0x297421b40>\n",
      "[[ 3568  3572  3584 ...  3604  3584  3572]\n",
      " [ 3568  3573  3586 ...  3601  3582  3571]\n",
      " [ 3569  3574  3588 ...  3598  3580  3571]\n",
      " ...\n",
      " [16427 16746 17064 ... 15473 15791 16109]\n",
      " [16467 16786 17104 ... 15513 15830 16149]\n",
      " [16507 16826 17144 ... 15552 15870 16189]]\n",
      "Acquisition Complete\n",
      "Acquisition Complete\n",
      "Acquisition Complete\n",
      "Acquisition Complete\n",
      "Acquisition Complete\n",
      "Acquisition Complete\n",
      "Acquisition Complete\n",
      "Acquisition Complete\n"
     ]
    }
   ],
   "source": [
    "from source.hooks import ImageHook\n",
    "\n",
    "def imageProcessFunction(self,image,metadata,**kwargs):\n",
    "    print(self)\n",
    "    print(image)\n",
    "    return image,metadata\n",
    "\n",
    "hooks=HookSet()\n",
    "hooks.hookImageProcess=ImageHook(function=imageProcessFunction)\n",
    "\n",
    "apdSystem = APDSystem(configFileName='myConfig.cfg', rootDataFolder='') #local\n",
    "lib = AcquisitionPluginLibrary()\n",
    "positions=[[0,0]] \n",
    "acquisition = lib.xySequence(positions)\n",
    "acquisition.hooks=hooks\n",
    "acquisition.settings.show_display=True\n",
    "dataset=apdSystem.acquire(acquisition)"
   ]
  }
 ],
 "metadata": {
  "kernelspec": {
   "display_name": "venv",
   "language": "python",
   "name": "python3"
  },
  "language_info": {
   "codemirror_mode": {
    "name": "ipython",
    "version": 3
   },
   "file_extension": ".py",
   "mimetype": "text/x-python",
   "name": "python",
   "nbconvert_exporter": "python",
   "pygments_lexer": "ipython3",
   "version": "3.10.11"
  }
 },
 "nbformat": 4,
 "nbformat_minor": 2
}
