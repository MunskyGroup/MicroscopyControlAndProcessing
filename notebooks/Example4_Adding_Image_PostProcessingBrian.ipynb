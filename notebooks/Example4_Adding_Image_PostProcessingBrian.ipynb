{
 "cells": [
  {
   "cell_type": "markdown",
   "metadata": {},
   "source": [
    "# Notebook 4: Adding Image Post-Processing\n",
    "\n",
    "Example: Acquire Process Decide\n",
    "Acquisitions, Processes, and decisions cann be prebuilt from libraries and stiched \n",
    "\n",
    "The AcquisitonPLugin is a set of variables and callback functions that can be used to acquire a dataset.\n",
    "\n",
    "The PostProcesingPipeline takes a dataset and returns ProcessedData. \n",
    "\n",
    "The Deicision takes ProcessedData and returns an acquisition.\n",
    "\n",
    "This 3 step process enables advanced automation of image acquistion. "
   ]
  },
  {
   "cell_type": "code",
   "execution_count": 1,
   "metadata": {},
   "outputs": [
    {
     "name": "stderr",
     "output_type": "stream",
     "text": [
      "/Users/munsky/Dropbox/My Mac (ETSs-MacBook-Pro.local)/Documents/GitHub/MicroscopyControlAndProcessing/venv/lib/python3.11/site-packages/docstring_inheritance/docstring_inheritors/bases/inheritor.py:329: DocstringInheritanceWarning: File /Users/munsky/Dropbox/My Mac (ETSs-MacBook-Pro.local)/Documents/GitHub/MicroscopyControlAndProcessing/venv/lib/python3.11/site-packages/pycromanager/acquisitions.py:698: in XYTiledAcquisition.__init__: section Parameters: the docstring for the argument 'tile_overlap' is missing.\n",
      "  self._warn(\n",
      "/Users/munsky/Dropbox/My Mac (ETSs-MacBook-Pro.local)/Documents/GitHub/MicroscopyControlAndProcessing/venv/lib/python3.11/site-packages/docstring_inheritance/docstring_inheritors/bases/inheritor.py:329: DocstringInheritanceWarning: File /Users/munsky/Dropbox/My Mac (ETSs-MacBook-Pro.local)/Documents/GitHub/MicroscopyControlAndProcessing/venv/lib/python3.11/site-packages/pycromanager/acquisitions.py:698: in XYTiledAcquisition.__init__: section Parameters: the docstring for the argument 'directory' is missing.\n",
      "  self._warn(\n",
      "/Users/munsky/Dropbox/My Mac (ETSs-MacBook-Pro.local)/Documents/GitHub/MicroscopyControlAndProcessing/venv/lib/python3.11/site-packages/docstring_inheritance/docstring_inheritors/bases/inheritor.py:329: DocstringInheritanceWarning: File /Users/munsky/Dropbox/My Mac (ETSs-MacBook-Pro.local)/Documents/GitHub/MicroscopyControlAndProcessing/venv/lib/python3.11/site-packages/pycromanager/acquisitions.py:698: in XYTiledAcquisition.__init__: section Parameters: the docstring for the argument 'name' is missing.\n",
      "  self._warn(\n",
      "/Users/munsky/Dropbox/My Mac (ETSs-MacBook-Pro.local)/Documents/GitHub/MicroscopyControlAndProcessing/venv/lib/python3.11/site-packages/docstring_inheritance/docstring_inheritors/bases/inheritor.py:329: DocstringInheritanceWarning: File /Users/munsky/Dropbox/My Mac (ETSs-MacBook-Pro.local)/Documents/GitHub/MicroscopyControlAndProcessing/venv/lib/python3.11/site-packages/pycromanager/acquisitions.py:698: in XYTiledAcquisition.__init__: section Parameters: the docstring for the argument 'max_multi_res_index' is missing.\n",
      "  self._warn(\n",
      "/Users/munsky/Dropbox/My Mac (ETSs-MacBook-Pro.local)/Documents/GitHub/MicroscopyControlAndProcessing/venv/lib/python3.11/site-packages/docstring_inheritance/docstring_inheritors/bases/inheritor.py:329: DocstringInheritanceWarning: File /Users/munsky/Dropbox/My Mac (ETSs-MacBook-Pro.local)/Documents/GitHub/MicroscopyControlAndProcessing/venv/lib/python3.11/site-packages/pycromanager/acquisitions.py:698: in XYTiledAcquisition.__init__: section Parameters: the docstring for the argument 'image_process_fn' is missing.\n",
      "  self._warn(\n",
      "/Users/munsky/Dropbox/My Mac (ETSs-MacBook-Pro.local)/Documents/GitHub/MicroscopyControlAndProcessing/venv/lib/python3.11/site-packages/docstring_inheritance/docstring_inheritors/bases/inheritor.py:329: DocstringInheritanceWarning: File /Users/munsky/Dropbox/My Mac (ETSs-MacBook-Pro.local)/Documents/GitHub/MicroscopyControlAndProcessing/venv/lib/python3.11/site-packages/pycromanager/acquisitions.py:698: in XYTiledAcquisition.__init__: section Parameters: the docstring for the argument 'pre_hardware_hook_fn' is missing.\n",
      "  self._warn(\n",
      "/Users/munsky/Dropbox/My Mac (ETSs-MacBook-Pro.local)/Documents/GitHub/MicroscopyControlAndProcessing/venv/lib/python3.11/site-packages/docstring_inheritance/docstring_inheritors/bases/inheritor.py:329: DocstringInheritanceWarning: File /Users/munsky/Dropbox/My Mac (ETSs-MacBook-Pro.local)/Documents/GitHub/MicroscopyControlAndProcessing/venv/lib/python3.11/site-packages/pycromanager/acquisitions.py:698: in XYTiledAcquisition.__init__: section Parameters: the docstring for the argument 'post_hardware_hook_fn' is missing.\n",
      "  self._warn(\n",
      "/Users/munsky/Dropbox/My Mac (ETSs-MacBook-Pro.local)/Documents/GitHub/MicroscopyControlAndProcessing/venv/lib/python3.11/site-packages/docstring_inheritance/docstring_inheritors/bases/inheritor.py:329: DocstringInheritanceWarning: File /Users/munsky/Dropbox/My Mac (ETSs-MacBook-Pro.local)/Documents/GitHub/MicroscopyControlAndProcessing/venv/lib/python3.11/site-packages/pycromanager/acquisitions.py:698: in XYTiledAcquisition.__init__: section Parameters: the docstring for the argument 'post_camera_hook_fn' is missing.\n",
      "  self._warn(\n",
      "/Users/munsky/Dropbox/My Mac (ETSs-MacBook-Pro.local)/Documents/GitHub/MicroscopyControlAndProcessing/venv/lib/python3.11/site-packages/docstring_inheritance/docstring_inheritors/bases/inheritor.py:329: DocstringInheritanceWarning: File /Users/munsky/Dropbox/My Mac (ETSs-MacBook-Pro.local)/Documents/GitHub/MicroscopyControlAndProcessing/venv/lib/python3.11/site-packages/pycromanager/acquisitions.py:698: in XYTiledAcquisition.__init__: section Parameters: the docstring for the argument 'show_display' is missing.\n",
      "  self._warn(\n",
      "/Users/munsky/Dropbox/My Mac (ETSs-MacBook-Pro.local)/Documents/GitHub/MicroscopyControlAndProcessing/venv/lib/python3.11/site-packages/docstring_inheritance/docstring_inheritors/bases/inheritor.py:329: DocstringInheritanceWarning: File /Users/munsky/Dropbox/My Mac (ETSs-MacBook-Pro.local)/Documents/GitHub/MicroscopyControlAndProcessing/venv/lib/python3.11/site-packages/pycromanager/acquisitions.py:698: in XYTiledAcquisition.__init__: section Parameters: the docstring for the argument 'image_saved_fn' is missing.\n",
      "  self._warn(\n",
      "/Users/munsky/Dropbox/My Mac (ETSs-MacBook-Pro.local)/Documents/GitHub/MicroscopyControlAndProcessing/venv/lib/python3.11/site-packages/docstring_inheritance/docstring_inheritors/bases/inheritor.py:329: DocstringInheritanceWarning: File /Users/munsky/Dropbox/My Mac (ETSs-MacBook-Pro.local)/Documents/GitHub/MicroscopyControlAndProcessing/venv/lib/python3.11/site-packages/pycromanager/acquisitions.py:698: in XYTiledAcquisition.__init__: section Parameters: the docstring for the argument 'process' is missing.\n",
      "  self._warn(\n",
      "/Users/munsky/Dropbox/My Mac (ETSs-MacBook-Pro.local)/Documents/GitHub/MicroscopyControlAndProcessing/venv/lib/python3.11/site-packages/docstring_inheritance/docstring_inheritors/bases/inheritor.py:329: DocstringInheritanceWarning: File /Users/munsky/Dropbox/My Mac (ETSs-MacBook-Pro.local)/Documents/GitHub/MicroscopyControlAndProcessing/venv/lib/python3.11/site-packages/pycromanager/acquisitions.py:698: in XYTiledAcquisition.__init__: section Parameters: the docstring for the argument 'saving_queue_size' is missing.\n",
      "  self._warn(\n",
      "/Users/munsky/Dropbox/My Mac (ETSs-MacBook-Pro.local)/Documents/GitHub/MicroscopyControlAndProcessing/venv/lib/python3.11/site-packages/docstring_inheritance/docstring_inheritors/bases/inheritor.py:329: DocstringInheritanceWarning: File /Users/munsky/Dropbox/My Mac (ETSs-MacBook-Pro.local)/Documents/GitHub/MicroscopyControlAndProcessing/venv/lib/python3.11/site-packages/pycromanager/acquisitions.py:698: in XYTiledAcquisition.__init__: section Parameters: the docstring for the argument 'timeout' is missing.\n",
      "  self._warn(\n",
      "/Users/munsky/Dropbox/My Mac (ETSs-MacBook-Pro.local)/Documents/GitHub/MicroscopyControlAndProcessing/venv/lib/python3.11/site-packages/docstring_inheritance/docstring_inheritors/bases/inheritor.py:329: DocstringInheritanceWarning: File /Users/munsky/Dropbox/My Mac (ETSs-MacBook-Pro.local)/Documents/GitHub/MicroscopyControlAndProcessing/venv/lib/python3.11/site-packages/pycromanager/acquisitions.py:698: in XYTiledAcquisition.__init__: section Parameters: the docstring for the argument 'port' is missing.\n",
      "  self._warn(\n",
      "/Users/munsky/Dropbox/My Mac (ETSs-MacBook-Pro.local)/Documents/GitHub/MicroscopyControlAndProcessing/venv/lib/python3.11/site-packages/docstring_inheritance/docstring_inheritors/bases/inheritor.py:329: DocstringInheritanceWarning: File /Users/munsky/Dropbox/My Mac (ETSs-MacBook-Pro.local)/Documents/GitHub/MicroscopyControlAndProcessing/venv/lib/python3.11/site-packages/pycromanager/acquisitions.py:698: in XYTiledAcquisition.__init__: section Parameters: the docstring for the argument 'debug' is missing.\n",
      "  self._warn(\n",
      "/Users/munsky/Dropbox/My Mac (ETSs-MacBook-Pro.local)/Documents/GitHub/MicroscopyControlAndProcessing/venv/lib/python3.11/site-packages/docstring_inheritance/docstring_inheritors/bases/inheritor.py:329: DocstringInheritanceWarning: File /Users/munsky/Dropbox/My Mac (ETSs-MacBook-Pro.local)/Documents/GitHub/MicroscopyControlAndProcessing/venv/lib/python3.11/site-packages/pycromanager/acquisitions.py:698: in XYTiledAcquisition.__init__: section Parameters: the docstring for the argument 'core_log_debug' is missing.\n",
      "  self._warn(\n",
      "/Users/munsky/Dropbox/My Mac (ETSs-MacBook-Pro.local)/Documents/GitHub/MicroscopyControlAndProcessing/venv/lib/python3.11/site-packages/docstring_inheritance/docstring_inheritors/bases/inheritor.py:329: DocstringInheritanceWarning: File /Users/munsky/Dropbox/My Mac (ETSs-MacBook-Pro.local)/Documents/GitHub/MicroscopyControlAndProcessing/venv/lib/python3.11/site-packages/pycromanager/acquisitions.py:775: in ExploreAcquisition.__init__: section Parameters: the docstring for the argument 'directory' is missing.\n",
      "  self._warn(\n",
      "/Users/munsky/Dropbox/My Mac (ETSs-MacBook-Pro.local)/Documents/GitHub/MicroscopyControlAndProcessing/venv/lib/python3.11/site-packages/docstring_inheritance/docstring_inheritors/bases/inheritor.py:329: DocstringInheritanceWarning: File /Users/munsky/Dropbox/My Mac (ETSs-MacBook-Pro.local)/Documents/GitHub/MicroscopyControlAndProcessing/venv/lib/python3.11/site-packages/pycromanager/acquisitions.py:775: in ExploreAcquisition.__init__: section Parameters: the docstring for the argument 'name' is missing.\n",
      "  self._warn(\n",
      "/Users/munsky/Dropbox/My Mac (ETSs-MacBook-Pro.local)/Documents/GitHub/MicroscopyControlAndProcessing/venv/lib/python3.11/site-packages/docstring_inheritance/docstring_inheritors/bases/inheritor.py:329: DocstringInheritanceWarning: File /Users/munsky/Dropbox/My Mac (ETSs-MacBook-Pro.local)/Documents/GitHub/MicroscopyControlAndProcessing/venv/lib/python3.11/site-packages/pycromanager/acquisitions.py:775: in ExploreAcquisition.__init__: section Parameters: the docstring for the argument 'z_step_um' is missing.\n",
      "  self._warn(\n",
      "/Users/munsky/Dropbox/My Mac (ETSs-MacBook-Pro.local)/Documents/GitHub/MicroscopyControlAndProcessing/venv/lib/python3.11/site-packages/docstring_inheritance/docstring_inheritors/bases/inheritor.py:329: DocstringInheritanceWarning: File /Users/munsky/Dropbox/My Mac (ETSs-MacBook-Pro.local)/Documents/GitHub/MicroscopyControlAndProcessing/venv/lib/python3.11/site-packages/pycromanager/acquisitions.py:775: in ExploreAcquisition.__init__: section Parameters: the docstring for the argument 'tile_overlap' is missing.\n",
      "  self._warn(\n",
      "/Users/munsky/Dropbox/My Mac (ETSs-MacBook-Pro.local)/Documents/GitHub/MicroscopyControlAndProcessing/venv/lib/python3.11/site-packages/docstring_inheritance/docstring_inheritors/bases/inheritor.py:329: DocstringInheritanceWarning: File /Users/munsky/Dropbox/My Mac (ETSs-MacBook-Pro.local)/Documents/GitHub/MicroscopyControlAndProcessing/venv/lib/python3.11/site-packages/pycromanager/acquisitions.py:775: in ExploreAcquisition.__init__: section Parameters: the docstring for the argument 'channel_group' is missing.\n",
      "  self._warn(\n",
      "/Users/munsky/Dropbox/My Mac (ETSs-MacBook-Pro.local)/Documents/GitHub/MicroscopyControlAndProcessing/venv/lib/python3.11/site-packages/docstring_inheritance/docstring_inheritors/bases/inheritor.py:329: DocstringInheritanceWarning: File /Users/munsky/Dropbox/My Mac (ETSs-MacBook-Pro.local)/Documents/GitHub/MicroscopyControlAndProcessing/venv/lib/python3.11/site-packages/pycromanager/acquisitions.py:775: in ExploreAcquisition.__init__: section Parameters: the docstring for the argument 'image_process_fn' is missing.\n",
      "  self._warn(\n",
      "/Users/munsky/Dropbox/My Mac (ETSs-MacBook-Pro.local)/Documents/GitHub/MicroscopyControlAndProcessing/venv/lib/python3.11/site-packages/docstring_inheritance/docstring_inheritors/bases/inheritor.py:329: DocstringInheritanceWarning: File /Users/munsky/Dropbox/My Mac (ETSs-MacBook-Pro.local)/Documents/GitHub/MicroscopyControlAndProcessing/venv/lib/python3.11/site-packages/pycromanager/acquisitions.py:775: in ExploreAcquisition.__init__: section Parameters: the docstring for the argument 'pre_hardware_hook_fn' is missing.\n",
      "  self._warn(\n",
      "/Users/munsky/Dropbox/My Mac (ETSs-MacBook-Pro.local)/Documents/GitHub/MicroscopyControlAndProcessing/venv/lib/python3.11/site-packages/docstring_inheritance/docstring_inheritors/bases/inheritor.py:329: DocstringInheritanceWarning: File /Users/munsky/Dropbox/My Mac (ETSs-MacBook-Pro.local)/Documents/GitHub/MicroscopyControlAndProcessing/venv/lib/python3.11/site-packages/pycromanager/acquisitions.py:775: in ExploreAcquisition.__init__: section Parameters: the docstring for the argument 'post_hardware_hook_fn' is missing.\n",
      "  self._warn(\n",
      "/Users/munsky/Dropbox/My Mac (ETSs-MacBook-Pro.local)/Documents/GitHub/MicroscopyControlAndProcessing/venv/lib/python3.11/site-packages/docstring_inheritance/docstring_inheritors/bases/inheritor.py:329: DocstringInheritanceWarning: File /Users/munsky/Dropbox/My Mac (ETSs-MacBook-Pro.local)/Documents/GitHub/MicroscopyControlAndProcessing/venv/lib/python3.11/site-packages/pycromanager/acquisitions.py:775: in ExploreAcquisition.__init__: section Parameters: the docstring for the argument 'post_camera_hook_fn' is missing.\n",
      "  self._warn(\n",
      "/Users/munsky/Dropbox/My Mac (ETSs-MacBook-Pro.local)/Documents/GitHub/MicroscopyControlAndProcessing/venv/lib/python3.11/site-packages/docstring_inheritance/docstring_inheritors/bases/inheritor.py:329: DocstringInheritanceWarning: File /Users/munsky/Dropbox/My Mac (ETSs-MacBook-Pro.local)/Documents/GitHub/MicroscopyControlAndProcessing/venv/lib/python3.11/site-packages/pycromanager/acquisitions.py:775: in ExploreAcquisition.__init__: section Parameters: the docstring for the argument 'show_display' is missing.\n",
      "  self._warn(\n",
      "/Users/munsky/Dropbox/My Mac (ETSs-MacBook-Pro.local)/Documents/GitHub/MicroscopyControlAndProcessing/venv/lib/python3.11/site-packages/docstring_inheritance/docstring_inheritors/bases/inheritor.py:329: DocstringInheritanceWarning: File /Users/munsky/Dropbox/My Mac (ETSs-MacBook-Pro.local)/Documents/GitHub/MicroscopyControlAndProcessing/venv/lib/python3.11/site-packages/pycromanager/acquisitions.py:775: in ExploreAcquisition.__init__: section Parameters: the docstring for the argument 'image_saved_fn' is missing.\n",
      "  self._warn(\n",
      "/Users/munsky/Dropbox/My Mac (ETSs-MacBook-Pro.local)/Documents/GitHub/MicroscopyControlAndProcessing/venv/lib/python3.11/site-packages/docstring_inheritance/docstring_inheritors/bases/inheritor.py:329: DocstringInheritanceWarning: File /Users/munsky/Dropbox/My Mac (ETSs-MacBook-Pro.local)/Documents/GitHub/MicroscopyControlAndProcessing/venv/lib/python3.11/site-packages/pycromanager/acquisitions.py:775: in ExploreAcquisition.__init__: section Parameters: the docstring for the argument 'process' is missing.\n",
      "  self._warn(\n",
      "/Users/munsky/Dropbox/My Mac (ETSs-MacBook-Pro.local)/Documents/GitHub/MicroscopyControlAndProcessing/venv/lib/python3.11/site-packages/docstring_inheritance/docstring_inheritors/bases/inheritor.py:329: DocstringInheritanceWarning: File /Users/munsky/Dropbox/My Mac (ETSs-MacBook-Pro.local)/Documents/GitHub/MicroscopyControlAndProcessing/venv/lib/python3.11/site-packages/pycromanager/acquisitions.py:775: in ExploreAcquisition.__init__: section Parameters: the docstring for the argument 'saving_queue_size' is missing.\n",
      "  self._warn(\n",
      "/Users/munsky/Dropbox/My Mac (ETSs-MacBook-Pro.local)/Documents/GitHub/MicroscopyControlAndProcessing/venv/lib/python3.11/site-packages/docstring_inheritance/docstring_inheritors/bases/inheritor.py:329: DocstringInheritanceWarning: File /Users/munsky/Dropbox/My Mac (ETSs-MacBook-Pro.local)/Documents/GitHub/MicroscopyControlAndProcessing/venv/lib/python3.11/site-packages/pycromanager/acquisitions.py:775: in ExploreAcquisition.__init__: section Parameters: the docstring for the argument 'timeout' is missing.\n",
      "  self._warn(\n",
      "/Users/munsky/Dropbox/My Mac (ETSs-MacBook-Pro.local)/Documents/GitHub/MicroscopyControlAndProcessing/venv/lib/python3.11/site-packages/docstring_inheritance/docstring_inheritors/bases/inheritor.py:329: DocstringInheritanceWarning: File /Users/munsky/Dropbox/My Mac (ETSs-MacBook-Pro.local)/Documents/GitHub/MicroscopyControlAndProcessing/venv/lib/python3.11/site-packages/pycromanager/acquisitions.py:775: in ExploreAcquisition.__init__: section Parameters: the docstring for the argument 'port' is missing.\n",
      "  self._warn(\n",
      "/Users/munsky/Dropbox/My Mac (ETSs-MacBook-Pro.local)/Documents/GitHub/MicroscopyControlAndProcessing/venv/lib/python3.11/site-packages/docstring_inheritance/docstring_inheritors/bases/inheritor.py:329: DocstringInheritanceWarning: File /Users/munsky/Dropbox/My Mac (ETSs-MacBook-Pro.local)/Documents/GitHub/MicroscopyControlAndProcessing/venv/lib/python3.11/site-packages/pycromanager/acquisitions.py:775: in ExploreAcquisition.__init__: section Parameters: the docstring for the argument 'debug' is missing.\n",
      "  self._warn(\n",
      "/Users/munsky/Dropbox/My Mac (ETSs-MacBook-Pro.local)/Documents/GitHub/MicroscopyControlAndProcessing/venv/lib/python3.11/site-packages/docstring_inheritance/docstring_inheritors/bases/inheritor.py:329: DocstringInheritanceWarning: File /Users/munsky/Dropbox/My Mac (ETSs-MacBook-Pro.local)/Documents/GitHub/MicroscopyControlAndProcessing/venv/lib/python3.11/site-packages/pycromanager/acquisitions.py:775: in ExploreAcquisition.__init__: section Parameters: the docstring for the argument 'core_log_debug' is missing.\n",
      "  self._warn(\n",
      "/Users/munsky/Dropbox/My Mac (ETSs-MacBook-Pro.local)/Documents/GitHub/MicroscopyControlAndProcessing/venv/lib/python3.11/site-packages/docstring_inheritance/docstring_inheritors/bases/inheritor.py:329: DocstringInheritanceWarning: File /Users/munsky/Dropbox/My Mac (ETSs-MacBook-Pro.local)/Documents/GitHub/MicroscopyControlAndProcessing/venv/lib/python3.11/site-packages/pycromanager/acquisitions.py:845: in MagellanAcquisition.__init__: section Parameters: the docstring for the argument 'magellan_acq_index' is missing.\n",
      "  self._warn(\n",
      "/Users/munsky/Dropbox/My Mac (ETSs-MacBook-Pro.local)/Documents/GitHub/MicroscopyControlAndProcessing/venv/lib/python3.11/site-packages/docstring_inheritance/docstring_inheritors/bases/inheritor.py:329: DocstringInheritanceWarning: File /Users/munsky/Dropbox/My Mac (ETSs-MacBook-Pro.local)/Documents/GitHub/MicroscopyControlAndProcessing/venv/lib/python3.11/site-packages/pycromanager/acquisitions.py:845: in MagellanAcquisition.__init__: section Parameters: the docstring for the argument 'magellan_explore' is missing.\n",
      "  self._warn(\n",
      "/Users/munsky/Dropbox/My Mac (ETSs-MacBook-Pro.local)/Documents/GitHub/MicroscopyControlAndProcessing/venv/lib/python3.11/site-packages/docstring_inheritance/docstring_inheritors/bases/inheritor.py:329: DocstringInheritanceWarning: File /Users/munsky/Dropbox/My Mac (ETSs-MacBook-Pro.local)/Documents/GitHub/MicroscopyControlAndProcessing/venv/lib/python3.11/site-packages/pycromanager/acquisitions.py:845: in MagellanAcquisition.__init__: section Parameters: the docstring for the argument 'image_process_fn' is missing.\n",
      "  self._warn(\n",
      "/Users/munsky/Dropbox/My Mac (ETSs-MacBook-Pro.local)/Documents/GitHub/MicroscopyControlAndProcessing/venv/lib/python3.11/site-packages/docstring_inheritance/docstring_inheritors/bases/inheritor.py:329: DocstringInheritanceWarning: File /Users/munsky/Dropbox/My Mac (ETSs-MacBook-Pro.local)/Documents/GitHub/MicroscopyControlAndProcessing/venv/lib/python3.11/site-packages/pycromanager/acquisitions.py:845: in MagellanAcquisition.__init__: section Parameters: the docstring for the argument 'event_generation_hook_fn' is missing.\n",
      "  self._warn(\n",
      "/Users/munsky/Dropbox/My Mac (ETSs-MacBook-Pro.local)/Documents/GitHub/MicroscopyControlAndProcessing/venv/lib/python3.11/site-packages/docstring_inheritance/docstring_inheritors/bases/inheritor.py:329: DocstringInheritanceWarning: File /Users/munsky/Dropbox/My Mac (ETSs-MacBook-Pro.local)/Documents/GitHub/MicroscopyControlAndProcessing/venv/lib/python3.11/site-packages/pycromanager/acquisitions.py:845: in MagellanAcquisition.__init__: section Parameters: the docstring for the argument 'pre_hardware_hook_fn' is missing.\n",
      "  self._warn(\n",
      "/Users/munsky/Dropbox/My Mac (ETSs-MacBook-Pro.local)/Documents/GitHub/MicroscopyControlAndProcessing/venv/lib/python3.11/site-packages/docstring_inheritance/docstring_inheritors/bases/inheritor.py:329: DocstringInheritanceWarning: File /Users/munsky/Dropbox/My Mac (ETSs-MacBook-Pro.local)/Documents/GitHub/MicroscopyControlAndProcessing/venv/lib/python3.11/site-packages/pycromanager/acquisitions.py:845: in MagellanAcquisition.__init__: section Parameters: the docstring for the argument 'post_hardware_hook_fn' is missing.\n",
      "  self._warn(\n",
      "/Users/munsky/Dropbox/My Mac (ETSs-MacBook-Pro.local)/Documents/GitHub/MicroscopyControlAndProcessing/venv/lib/python3.11/site-packages/docstring_inheritance/docstring_inheritors/bases/inheritor.py:329: DocstringInheritanceWarning: File /Users/munsky/Dropbox/My Mac (ETSs-MacBook-Pro.local)/Documents/GitHub/MicroscopyControlAndProcessing/venv/lib/python3.11/site-packages/pycromanager/acquisitions.py:845: in MagellanAcquisition.__init__: section Parameters: the docstring for the argument 'post_camera_hook_fn' is missing.\n",
      "  self._warn(\n",
      "/Users/munsky/Dropbox/My Mac (ETSs-MacBook-Pro.local)/Documents/GitHub/MicroscopyControlAndProcessing/venv/lib/python3.11/site-packages/docstring_inheritance/docstring_inheritors/bases/inheritor.py:329: DocstringInheritanceWarning: File /Users/munsky/Dropbox/My Mac (ETSs-MacBook-Pro.local)/Documents/GitHub/MicroscopyControlAndProcessing/venv/lib/python3.11/site-packages/pycromanager/acquisitions.py:845: in MagellanAcquisition.__init__: section Parameters: the docstring for the argument 'image_saved_fn' is missing.\n",
      "  self._warn(\n",
      "/Users/munsky/Dropbox/My Mac (ETSs-MacBook-Pro.local)/Documents/GitHub/MicroscopyControlAndProcessing/venv/lib/python3.11/site-packages/docstring_inheritance/docstring_inheritors/bases/inheritor.py:329: DocstringInheritanceWarning: File /Users/munsky/Dropbox/My Mac (ETSs-MacBook-Pro.local)/Documents/GitHub/MicroscopyControlAndProcessing/venv/lib/python3.11/site-packages/pycromanager/acquisitions.py:845: in MagellanAcquisition.__init__: section Parameters: the docstring for the argument 'timeout' is missing.\n",
      "  self._warn(\n",
      "/Users/munsky/Dropbox/My Mac (ETSs-MacBook-Pro.local)/Documents/GitHub/MicroscopyControlAndProcessing/venv/lib/python3.11/site-packages/docstring_inheritance/docstring_inheritors/bases/inheritor.py:329: DocstringInheritanceWarning: File /Users/munsky/Dropbox/My Mac (ETSs-MacBook-Pro.local)/Documents/GitHub/MicroscopyControlAndProcessing/venv/lib/python3.11/site-packages/pycromanager/acquisitions.py:845: in MagellanAcquisition.__init__: section Parameters: the docstring for the argument 'port' is missing.\n",
      "  self._warn(\n",
      "/Users/munsky/Dropbox/My Mac (ETSs-MacBook-Pro.local)/Documents/GitHub/MicroscopyControlAndProcessing/venv/lib/python3.11/site-packages/docstring_inheritance/docstring_inheritors/bases/inheritor.py:329: DocstringInheritanceWarning: File /Users/munsky/Dropbox/My Mac (ETSs-MacBook-Pro.local)/Documents/GitHub/MicroscopyControlAndProcessing/venv/lib/python3.11/site-packages/pycromanager/acquisitions.py:845: in MagellanAcquisition.__init__: section Parameters: the docstring for the argument 'debug' is missing.\n",
      "  self._warn(\n",
      "/Users/munsky/Dropbox/My Mac (ETSs-MacBook-Pro.local)/Documents/GitHub/MicroscopyControlAndProcessing/venv/lib/python3.11/site-packages/docstring_inheritance/docstring_inheritors/bases/inheritor.py:329: DocstringInheritanceWarning: File /Users/munsky/Dropbox/My Mac (ETSs-MacBook-Pro.local)/Documents/GitHub/MicroscopyControlAndProcessing/venv/lib/python3.11/site-packages/pycromanager/acquisitions.py:845: in MagellanAcquisition.__init__: section Parameters: the docstring for the argument 'core_log_debug' is missing.\n",
      "  self._warn(\n"
     ]
    }
   ],
   "source": [
    "import sys,os\n",
    "import warnings\n",
    "import copy\n",
    "sys.path.append('source')\n",
    "from source.apd import *\n",
    "from source.postprocessors import PostProcessPipeline as PostProcessPipeline\n",
    "from source.postprocessors import PostProcessNode\n",
    "\n",
    "from source.hooks import HookSet, Hook\n",
    "from source.hooks import ImageHook"
   ]
  },
  {
   "cell_type": "code",
   "execution_count": 15,
   "metadata": {},
   "outputs": [],
   "source": [
    "# Function to create a grid of initial imaging positions\n",
    "def makeGrid(xRange,yRange):\n",
    "    grid = []\n",
    "    for x in xRange:\n",
    "        if x % 2 == 0:\n",
    "            yr = yRange\n",
    "        else:\n",
    "            yr = yRange[::-1]\n",
    "        for y in yr:\n",
    "            grid.append([x,y])\n",
    "    return grid"
   ]
  },
  {
   "cell_type": "code",
   "execution_count": 16,
   "metadata": {},
   "outputs": [],
   "source": [
    "# Set up the INITIAL aquisition object.  This will define which positions to acquire at.\n",
    "lib = AcquisitionPluginLibrary()\n",
    "positions = makeGrid(np.linspace(0,3,5),np.linspace(0,3,5))\n",
    "acquisition = lib.xySequence(positions)\n",
    "acquisition.settings.show_display=False\n",
    "\n",
    "# Define an image processing routine, which returns the processed image and metadata.\n",
    "# This code is meant to run immediatedly after the image is acquired, so it should be fast.\n",
    "def imageProcessFunction(self,image,metadata,**kwargs):\n",
    "    image = image[200:300,200:300]\n",
    "    # add random noise to the image\n",
    "    image = image + np.random.normal(0,100,image.shape).astype(np.uint16)\n",
    "    metadata['Height'], metadata['Width'] = image.shape\n",
    "    return image, metadata\n",
    "\n",
    "# Attaching the image processing function to the acquisition object\n",
    "hooks=HookSet()\n",
    "hooks.hookImageProcess=ImageHook(function=imageProcessFunction)\n",
    "acquisition.hooks=hooks\n",
    "\n",
    "# Define an image post-processing routine, which returns a dictionary of data chunks and their processed data.\n",
    "# This code is meant to run after all images have been acquired, so it can be slow.\n",
    "def computeMean(self,chunks,acq,*args,**kwargs):\n",
    "    output={'chunkMean':[chunk.mean() for chunk in chunks]}\n",
    "    return (chunks,output)\n",
    "\n",
    "# Putting the post process function into the Acquisition/Process pipeline\n",
    "process=PostProcessPipeline()\n",
    "process.addNode(PostProcessNode(function=computeMean))\n",
    "\n",
    "# Define a function to generate new acquisition object based on the processed data.\n",
    "def acquisitionDownSelect(processedData,acquisition):\n",
    "    # Parse the processed data into a readable list.\n",
    "    dataMetric = parseProcessedData(processedData[0],dataFields=['chunkMean'])[:,2]\n",
    "    # find the n brightest images and return the corresponding acquisition object for just those positions\n",
    "    n = int(len(dataMetric)/2)\n",
    "    brightestIndices = np.argsort(dataMetric)[-n:].tolist()\n",
    "    newAcquisition = copy.deepcopy(acquisition)\n",
    "    newAcquisition.events.xy_positions = [newAcquisition.events.xy_positions[i] for i in brightestIndices]\n",
    "    return newAcquisition   "
   ]
  },
  {
   "cell_type": "code",
   "execution_count": 21,
   "metadata": {},
   "outputs": [],
   "source": [
    "#Set up and run the Initial Acquisition and Process Routine\n",
    "apdSystem = APDSystem(configFileName='myConfig.cfg', rootDataFolder='') #local\n",
    "apdSystem.linkAPD(acquisition=acquisition,process=process,decision=[])\n",
    "processedData = apdSystem.run()\n",
    "\n",
    "# Parse the processed data into a readable list.\n",
    "#parsedList = parseProcessedData(processedData[0],dataFields=['chunkMean'])\n",
    "#print(f'Initial parsed list is {parsedList}')"
   ]
  },
  {
   "cell_type": "code",
   "execution_count": 22,
   "metadata": {},
   "outputs": [],
   "source": [
    "# Generate the new acquisition object\n",
    "newAcquisition = acquisitionDownSelect(processedData,acquisition)\n",
    "\n",
    "# Set up and run the Subsequent Acquisition and Process Routine\n",
    "apdSystem = APDSystem(configFileName='myConfig.cfg', rootDataFolder='') #local\n",
    "apdSystem.linkAPD(acquisition=newAcquisition,process=process,decision=[])\n",
    "processedData = apdSystem.run()\n",
    "#parsedList = parseProcessedData(processedData[0],dataFields=['chunkMean'])\n",
    "#print(f'Final parsed list is {parsedList}')"
   ]
  },
  {
   "cell_type": "code",
   "execution_count": 25,
   "metadata": {},
   "outputs": [
    {
     "name": "stdout",
     "output_type": "stream",
     "text": [
      "Initial parsed list is [[0.00000000e+00 0.00000000e+00 5.20929853e+04]\n",
      " [1.00000000e+00 0.00000000e+00 4.89106715e+04]\n",
      " [2.00000000e+00 0.00000000e+00 3.62732405e+04]\n",
      " [3.00000000e+00 0.00000000e+00 2.15789403e+04]\n",
      " [4.00000000e+00 0.00000000e+00 1.34401241e+04]\n",
      " [5.00000000e+00 0.00000000e+00 1.66221491e+04]\n",
      " [6.00000000e+00 0.00000000e+00 2.92604768e+04]\n",
      " [7.00000000e+00 0.00000000e+00 4.39523672e+04]\n",
      " [8.00000000e+00 0.00000000e+00 5.20916806e+04]]\n",
      "\n",
      "Final parsed list is [[0.00000000e+00 0.00000000e+00 4.89115149e+04]\n",
      " [1.00000000e+00 0.00000000e+00 3.62729734e+04]\n",
      " [2.00000000e+00 0.00000000e+00 2.15822169e+04]\n",
      " [3.00000000e+00 0.00000000e+00 1.34381503e+04]]\n"
     ]
    },
    {
     "data": {
      "text/plain": [
       "[[<source.postprocessors.OutputMapper at 0x14cee1090>]]"
      ]
     },
     "execution_count": 25,
     "metadata": {},
     "output_type": "execute_result"
    }
   ],
   "source": [
    "def runSequence(Inital,Subsequent):\n",
    "    \n",
    "    # Set up the INITIAL aquisition object.  This will define which positions to acquire at.\n",
    "    lib = AcquisitionPluginLibrary()\n",
    "    positions = Initial['acquisition']['positions']\n",
    "    acquisition = lib.xySequence(positions)\n",
    "    acquisition.settings.show_display=False\n",
    "\n",
    "    # Attaching the image processing function to the acquisition object\n",
    "    hooks=HookSet()\n",
    "    hooks.hookImageProcess=ImageHook(function=Initial['acquisition']['imageProcessFunction'])\n",
    "    acquisition.hooks=hooks\n",
    "\n",
    "    # Putting the post process function into the Acquisition/Process pipeline\n",
    "    process=PostProcessPipeline()\n",
    "    process.addNode(PostProcessNode(function=Initial['process']))\n",
    "\n",
    "    #Set up and run the Initial Acquisition and Process Routine\n",
    "    apdSystem = APDSystem(configFileName='myConfig.cfg', rootDataFolder='') #local\n",
    "    apdSystem.linkAPD(acquisition=acquisition,process=process,decision=[])\n",
    "    processedData = apdSystem.run()\n",
    "\n",
    "    parsedList = parseProcessedData(processedData[0],dataFields=['chunkMean'])\n",
    "    print(f'Initial parsed list is {parsedList}')\n",
    "    \n",
    "    for subseq in Subsequent:\n",
    "        # Generate the new acquisition object\n",
    "        newAcquisition = subseq['acquisitionDownSelect'](processedData,acquisition)\n",
    "\n",
    "        # Attaching the image processing function to the acquisition object\n",
    "        hooks=HookSet()\n",
    "        hooks.hookImageProcess=ImageHook(function=subseq['imageProcessFunction'])\n",
    "        acquisition.hooks=hooks\n",
    "        \n",
    "        # Set up and run the Subsequent Acquisition and Process Routine\n",
    "        apdSystem = APDSystem(configFileName='myConfig.cfg', rootDataFolder='')\n",
    "        apdSystem.linkAPD(acquisition=newAcquisition,process=subseq['process'] ,decision=[])\n",
    "        processedData = apdSystem.run()\n",
    "\n",
    "        parsedList = parseProcessedData(processedData[0],dataFields=['chunkMean'])\n",
    "        print(f'\\nFinal parsed list is {parsedList}')\n",
    " \n",
    "    return processedData\n",
    "\n",
    "positions = makeGrid(np.linspace(0,3,3),np.linspace(0,3,3))\n",
    "Initial = {'acquisition':{'positions':positions,'imageProcessFunction':imageProcessFunction},\n",
    "           'process':computeMean}\n",
    "Subsequent = [{'acquisitionDownSelect':acquisitionDownSelect,'imageProcessFunction':imageProcessFunction,\n",
    "            'process':process}]\n",
    "\n",
    "runSequence(Initial,Subsequent)"
   ]
  },
  {
   "cell_type": "code",
   "execution_count": null,
   "metadata": {},
   "outputs": [],
   "source": []
  },
  {
   "cell_type": "code",
   "execution_count": null,
   "metadata": {},
   "outputs": [],
   "source": []
  },
  {
   "cell_type": "markdown",
   "metadata": {},
   "source": [
    "## Example 4.1: Using the APD System to run an AcquisitionPlugin-PostProcessPipeline-Decision (APD)"
   ]
  },
  {
   "cell_type": "markdown",
   "metadata": {},
   "source": [
    "## Example 4.X: Writing your own PostProcess to print Hello World\n",
    "\n",
    "This section describes how to make your own PostProcessNode using a function callback.\n",
    "\n",
    "The first section describes the callback schema for process node functions, and the secon section shows how to run the callbacks.\n"
   ]
  },
  {
   "cell_type": "code",
   "execution_count": null,
   "metadata": {},
   "outputs": [],
   "source": [
    "import copy\n",
    "\n",
    "print((acquisition.events.xy_positions))\n",
    "# copy acquisition to newAcquisition\n",
    "\n",
    "newAcquisition=copy.deepcopy(acquisition)\n",
    "newAcquisition.events.xy_positions = newAcquisition.events.xy_positions[0:2]\n",
    "print(newAcquisition.events.xy_positions)\n",
    "print(acquisition.events.xy_positions)\n",
    "\n"
   ]
  },
  {
   "cell_type": "code",
   "execution_count": null,
   "metadata": {},
   "outputs": [],
   "source": [
    "from source.apd import *\n",
    "acqLibrary=AcquisitionPluginLibrary()\n",
    "acquisition=acqLibrary.xySequence([[0,0]])\n",
    "\n",
    "process=PostProcessPipeline()\n",
    "process.add('mean')\n",
    "\n",
    "decision=DecisionRepeatAcquisition()\n",
    "\n",
    "apdSystem = APDSystem(configFileName='myConfig.cfg', rootDataFolder='') \n",
    "apdSystem.linkAPD(acquisition=acquisition,process=process,decision=DecisionRepeatAcquisition())\n",
    "apdSystem.run()\n"
   ]
  },
  {
   "cell_type": "code",
   "execution_count": null,
   "metadata": {},
   "outputs": [],
   "source": [
    "print(dataset)"
   ]
  },
  {
   "cell_type": "code",
   "execution_count": null,
   "metadata": {},
   "outputs": [],
   "source": [
    "newApdSystem = APDSystem(configFileName='myConfig.cfg', rootDataFolder='') #local\n",
    "newApdSystem.linkAPD(acquisition=newAcquisition,process=process,decision=decision)\n",
    "newApdSystem.run()"
   ]
  },
  {
   "cell_type": "code",
   "execution_count": null,
   "metadata": {},
   "outputs": [],
   "source": [
    "def cropImage(self,chunks,acq,*args,**kwargs):\n",
    "    output={}\n",
    "    for i in range(len(chunks)):\n",
    "        chunks[i]=chunks[i][10:,:-10] \n",
    "    return (chunks,output)\n",
    "\n",
    "def averageImageValue(self,chunks,acq,*args,**kwargs):\n",
    "    output={}\n",
    "    for i in range(len(chunks)):\n",
    "        print(chunks[i].shape)\n",
    "        output['averageImageValue']=np.mean(chunks[i])\n",
    "    return (chunks,output)\n",
    "\n",
    "\n",
    "# Putting the functions into the pipeline and running it\n",
    "\n",
    "processors=PostProcessPipeline()\n",
    "processors.addNode(PostProcessNode(function=cropImage))\n",
    "processors.addNode(PostProcessNode(function=averageImageValue))\n",
    "\n",
    "# Running the function. <data> and <acq> are just arbitrary things needed to get the callback to work in this particular scenario.\n",
    "\n",
    "data=NDTiffDataset('data/core/xyLooseGrid_1') # Load Sample dataset\n",
    "acq=AcquisitionPlugin() #make an empty acquisition to pass into for testing\n",
    "processors.process(data,acq)"
   ]
  },
  {
   "cell_type": "markdown",
   "metadata": {},
   "source": [
    "## Example X.X: Using Cell Detection on Two Color Images"
   ]
  },
  {
   "cell_type": "code",
   "execution_count": null,
   "metadata": {},
   "outputs": [],
   "source": [
    "def detectCells(self,chunks,acq,*args,**kwargs):\n",
    "    output={}\n",
    "    detector=CellDetectorCellMask()\n",
    "    for i in range(len(chunks)):\n",
    "        print(chunks[i].shape)\n",
    "        output['averageImageValue']=detector.process(chunks[i])\n",
    "    return (chunks,output)\n",
    "\n",
    "# Putting the functions into the pipeline and running it\n",
    "\n",
    "processors=PostProcessPipeline()\n",
    "processors.addNode(PostProcessNode(function=detectCells,squish_axes='channel')) # squish_axes combines images long the channel dimension\n",
    "\n",
    "# Running the function. <data> and <acq> are just arbitrary things needed to get the callback to work in this particular scenario.\n",
    "\n",
    "data=NDTiffDataset('data/core/xyLooseGrid_5') # Load Sample dataset thats is 2 channel\n",
    "acq=AcquisitionPlugin() #make an empty acquisition to pass into for testing\n",
    "processedData=processors.process(data,acq)"
   ]
  },
  {
   "cell_type": "markdown",
   "metadata": {},
   "source": [
    "ADD DISTRIBUTED COMPUTING!!!!!\n",
    "\n",
    "TRANSFRER runners to BRIANS "
   ]
  }
 ],
 "metadata": {
  "kernelspec": {
   "display_name": "venv",
   "language": "python",
   "name": "python3"
  },
  "language_info": {
   "codemirror_mode": {
    "name": "ipython",
    "version": 3
   },
   "file_extension": ".py",
   "mimetype": "text/x-python",
   "name": "python",
   "nbconvert_exporter": "python",
   "pygments_lexer": "ipython3",
   "version": "3.11.5"
  }
 },
 "nbformat": 4,
 "nbformat_minor": 2
}
