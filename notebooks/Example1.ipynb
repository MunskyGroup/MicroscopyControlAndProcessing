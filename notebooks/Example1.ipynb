{
 "cells": [
  {
   "cell_type": "markdown",
   "metadata": {},
   "source": [
    "These two lines add the source folder to the path. These lines are specific to these notebooks and are not required in the example .py files."
   ]
  },
  {
   "cell_type": "code",
   "execution_count": null,
   "metadata": {},
   "outputs": [],
   "source": [
    "import sys,os\n",
    "sys.path.append('source')"
   ]
  },
  {
   "cell_type": "markdown",
   "metadata": {},
   "source": [
    "Example 1: Taking a singular image\n",
    "Run MicroManager and open port 4845 in the Options setting.\n",
    "Run an the acquisition of a single image at the origin [0,0] by taking a grid of images with no steps."
   ]
  },
  {
   "cell_type": "code",
   "execution_count": null,
   "id": "7c5560d5-3f6f-4aba-83cc-5b6ea5184dbd",
   "metadata": {},
   "outputs": [],
   "source": [
    "from source.apd import *\n",
    "apdSystem = APDSystem(configFileName='myConfig.cfg', rootDataFolder='') #local\n",
    "lib = AcquisitionPluginLibrary()\n",
    "positions=[[0,0]] #a list of length 1 which will use the origin [0,0] only\n",
    "acquisition = lib.xySequence(positions)\n",
    "dataset=apdSystem.acquire(acquisition)"
   ]
  },
  {
   "cell_type": "markdown",
   "metadata": {},
   "source": [
    "Add a Z-Stack by including the optional arguement zRange=[zStart, zEnd, zStepSize]"
   ]
  },
  {
   "cell_type": "code",
   "execution_count": null,
   "metadata": {},
   "outputs": [],
   "source": [
    "from source.apd import *\n",
    "apdSystem = APDSystem(configFileName='myConfig.cfg', rootDataFolder='') #local\n",
    "lib = AcquisitionPluginLibrary()\n",
    "positions=[[0,0]]\n",
    "acquisition = lib.xySequence(positions,zRange=[-1.,1.,.5])\n",
    "dataset=apdSystem.acquire(acquisition)"
   ]
  },
  {
   "cell_type": "markdown",
   "metadata": {},
   "source": [
    "Make A time Series of the Z Stacks by adding the time sereies arguement timeRange=[numTimePoints,timeInterval_Seconds]."
   ]
  },
  {
   "cell_type": "code",
   "execution_count": null,
   "metadata": {},
   "outputs": [],
   "source": [
    "from source.apd import *\n",
    "apdSystem = APDSystem(configFileName='myConfig.cfg', rootDataFolder='') #local\n",
    "lib = AcquisitionPluginLibrary()\n",
    "positions=[[0,0]]\n",
    "acquisition = lib.xySequence(positions,zRange=[-1.,1.,.5],timeRange=[3,3.5])\n",
    "dataset=apdSystem.acquire(acquisition)"
   ]
  },
  {
   "cell_type": "markdown",
   "metadata": {},
   "source": [
    "Image a nearby position by adding a position to the sequence"
   ]
  },
  {
   "cell_type": "code",
   "execution_count": null,
   "metadata": {},
   "outputs": [],
   "source": [
    "from source.apd import *\n",
    "apdSystem = APDSystem(configFileName='myConfig.cfg', rootDataFolder='') #local\n",
    "lib = AcquisitionPluginLibrary()\n",
    "positions=[[0,0],[0,50]]\n",
    "acquisition = lib.xySequence(positions,zRange=[-1.,1.,.5],timeRange=[3,3.5])\n",
    "dataset=apdSystem.acquire(acquisition)"
   ]
  },
  {
   "cell_type": "markdown",
   "metadata": {},
   "source": [
    "Image in multiple colors by adding an optional channelRange arguement"
   ]
  },
  {
   "cell_type": "code",
   "execution_count": null,
   "metadata": {},
   "outputs": [],
   "source": [
    "from source.apd import *\n",
    "apdSystem = APDSystem(configFileName='myConfig.cfg', rootDataFolder='') #local\n",
    "lib = AcquisitionPluginLibrary()\n",
    "positions=[[0,0],[0,50]]\n",
    "acquisition = lib.xySequence(positions,zRange=[-1.,1.,.5],timeRange=[3,3.5],channelRange=['Channel',['DAPI','Cy5'],[100,100]])\n",
    "dataset=apdSystem.acquire(acquisition)"
   ]
  }
 ],
 "metadata": {
  "kernelspec": {
   "display_name": "Python 3 (ipykernel)",
   "language": "python",
   "name": "python3"
  },
  "language_info": {
   "codemirror_mode": {
    "name": "ipython",
    "version": 3
   },
   "file_extension": ".py",
   "mimetype": "text/x-python",
   "name": "python",
   "nbconvert_exporter": "python",
   "pygments_lexer": "ipython3",
   "version": "3.10.11"
  }
 },
 "nbformat": 4,
 "nbformat_minor": 5
}
