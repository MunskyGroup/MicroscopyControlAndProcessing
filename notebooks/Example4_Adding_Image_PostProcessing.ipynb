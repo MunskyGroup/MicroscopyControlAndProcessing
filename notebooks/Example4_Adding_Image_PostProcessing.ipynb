{
 "cells": [
  {
   "cell_type": "markdown",
   "metadata": {},
   "source": [
    "# Notebook 4: Adding Image Post-Processing\n",
    "\n",
    "Example: Acquire Process Decide\n",
    "Acquisitions, Processes, and decisions cann be prebuilt from libraries and stiched \n",
    "\n",
    "The AcquisitonPLugin is a set of variables and callback functions that can be used to acquire a dataset.\n",
    "\n",
    "The PostProcesingPipeline takes a dataset and returns ProcessedData. \n",
    "\n",
    "The Deicision takes ProcessedData and returns an acquisition.\n",
    "\n",
    "This 3 step process enables advanced automation of image acquistion. "
   ]
  },
  {
   "cell_type": "code",
   "execution_count": null,
   "metadata": {},
   "outputs": [],
   "source": [
    "import sys,os\n",
    "sys.path.append('source')"
   ]
  },
  {
   "cell_type": "code",
   "execution_count": null,
   "metadata": {},
   "outputs": [],
   "source": [
    "from source.apd import *"
   ]
  },
  {
   "cell_type": "markdown",
   "metadata": {},
   "source": [
    "## Example 4.1: Using the APD System to run an AcquisitionPlugin-PostProcessPipeline-Decision (APD)"
   ]
  },
  {
   "cell_type": "code",
   "execution_count": null,
   "metadata": {},
   "outputs": [],
   "source": [
    "from source.apd import *\n",
    "acqLibrary=AcquisitionPluginLibrary()\n",
    "acquisition=acqLibrary.xySequence([[0,0]])\n",
    "\n",
    "process=PostProcessPipeline()\n",
    "process.add('mean')\n",
    "\n",
    "decision=DecisionRepeatAcquisition()\n",
    "\n",
    "apdSystem = APDSystem(configFileName='myConfig.cfg', rootDataFolder='') \n",
    "apdSystem.linkAPD(acquisition=acquisition,process=process,decision=DecisionRepeatAcquisition())\n",
    "apdSystem.run()\n"
   ]
  },
  {
   "cell_type": "markdown",
   "metadata": {},
   "source": [
    "## Example 4.X: Writing your own PostProcess to print Hello World\n",
    "\n",
    "This section describes how to make your own PostProcessNode using a function callback.\n",
    "\n",
    "The first section describes the callback schema for process node functions, and the secon section shows how to run the callbacks.\n"
   ]
  },
  {
   "cell_type": "code",
   "execution_count": 3,
   "metadata": {},
   "outputs": [],
   "source": [
    "# First, we will create an aquisition from the last notebook.\n",
    "import sys,os\n",
    "sys.path.append('source')\n",
    "from source.apd import *\n",
    "from source.postprocessors import PostProcessPipeline as PostProcessPipeline\n",
    "from source.postprocessors import PostProcessNode\n",
    "\n",
    "from source.hooks import HookSet, Hook\n",
    "from source.hooks import ImageHook\n",
    "\n",
    "def imageProcessFunction(self,image,metadata,**kwargs):\n",
    "    #print(self)\n",
    "    #print(metadata)\n",
    "    print(image.shape)\n",
    "    image = image[:250,:]\n",
    "    metadata['Height'], metadata['Width'] = image.shape\n",
    "    return image, metadata\n",
    "\n",
    "hooks=HookSet()\n",
    "hooks.hookImageProcess=ImageHook(function=imageProcessFunction)\n",
    "\n",
    "apdSystem = APDSystem(configFileName='myConfig.cfg', rootDataFolder='') #local\n",
    "lib = AcquisitionPluginLibrary()\n",
    "positions=[[0,0],[1,0],[0,1]] \n",
    "acquisition = lib.xySequence(positions)\n",
    "acquisition.hooks=hooks\n",
    "acquisition.settings.show_display=False"
   ]
  },
  {
   "cell_type": "code",
   "execution_count": 5,
   "metadata": {},
   "outputs": [
    {
     "name": "stdout",
     "output_type": "stream",
     "text": [
      "(512, 512)\n",
      "(512, 512)\n",
      "(512, 512)\n",
      "{frozenset({('position', 0), ('time', 0)}): [{'position': 0, 'time': 0}]}\n",
      "{frozenset({('position', 0), ('time', 0)}): [{'position': 0, 'time': 0}], frozenset({('position', 1), ('time', 0)}): [{'position': 1, 'time': 0}]}\n",
      "{frozenset({('position', 0), ('time', 0)}): [{'position': 0, 'time': 0}], frozenset({('position', 1), ('time', 0)}): [{'position': 1, 'time': 0}], frozenset({('position', 2), ('time', 0)}): [{'time': 0, 'position': 2}]}\n",
      "Hello \n"
     ]
    },
    {
     "ename": "AttributeError",
     "evalue": "'list' object has no attribute 'shape'",
     "output_type": "error",
     "traceback": [
      "\u001b[0;31m---------------------------------------------------------------------------\u001b[0m",
      "\u001b[0;31mAttributeError\u001b[0m                            Traceback (most recent call last)",
      "Cell \u001b[0;32mIn[5], line 25\u001b[0m\n\u001b[1;32m     23\u001b[0m apdSystem \u001b[38;5;241m=\u001b[39m APDSystem(configFileName\u001b[38;5;241m=\u001b[39m\u001b[38;5;124m'\u001b[39m\u001b[38;5;124mmyConfig.cfg\u001b[39m\u001b[38;5;124m'\u001b[39m, rootDataFolder\u001b[38;5;241m=\u001b[39m\u001b[38;5;124m'\u001b[39m\u001b[38;5;124m'\u001b[39m) \u001b[38;5;66;03m#local\u001b[39;00m\n\u001b[1;32m     24\u001b[0m apdSystem\u001b[38;5;241m.\u001b[39mlinkAPD(acquisition\u001b[38;5;241m=\u001b[39macquisition,process\u001b[38;5;241m=\u001b[39mprocess,decision\u001b[38;5;241m=\u001b[39mdecision)\n\u001b[0;32m---> 25\u001b[0m \u001b[43mapdSystem\u001b[49m\u001b[38;5;241;43m.\u001b[39;49m\u001b[43mrun\u001b[49m\u001b[43m(\u001b[49m\u001b[43m)\u001b[49m\n\u001b[1;32m     27\u001b[0m \u001b[38;5;66;03m#dataset=apdSystem.acquire(acquisition)\u001b[39;00m\n\u001b[1;32m     28\u001b[0m \n\u001b[1;32m     29\u001b[0m \u001b[38;5;66;03m# Running the function. <data> and <acq> are just arbitrary things needed to get the callback to work in this particular scenario.\u001b[39;00m\n\u001b[1;32m     30\u001b[0m \n\u001b[1;32m     31\u001b[0m \u001b[38;5;66;03m#data=NDTiffDataset('data/core/xyLooseGrid_1') # Load Sample dataset\u001b[39;00m\n\u001b[1;32m     32\u001b[0m \u001b[38;5;66;03m#acq=AcquisitionPlugin() #make an empty acquisition to pass into for testing\u001b[39;00m\n",
      "File \u001b[0;32m~/Dropbox/My Mac (ETSs-MacBook-Pro.local)/Documents/GitHub/MicroscopyControlAndProcessing/source/apd.py:90\u001b[0m, in \u001b[0;36mAPDSystem.run\u001b[0;34m(self)\u001b[0m\n\u001b[1;32m     88\u001b[0m \u001b[38;5;28;01mif\u001b[39;00m settings[\u001b[38;5;124m'\u001b[39m\u001b[38;5;124msaveInitialImages\u001b[39m\u001b[38;5;124m'\u001b[39m]:\n\u001b[1;32m     89\u001b[0m     \u001b[38;5;28mself\u001b[39m\u001b[38;5;241m.\u001b[39mbackend\u001b[38;5;241m.\u001b[39mdatamanager\u001b[38;5;241m.\u001b[39mput(images,settings[\u001b[38;5;124m'\u001b[39m\u001b[38;5;124msaveInitialImages\u001b[39m\u001b[38;5;124m'\u001b[39m])\n\u001b[0;32m---> 90\u001b[0m dataset\u001b[38;5;241m=\u001b[39m\u001b[43mprocessor\u001b[49m\u001b[38;5;241;43m.\u001b[39;49m\u001b[43mprocess\u001b[49m\u001b[43m(\u001b[49m\u001b[43mimages\u001b[49m\u001b[43m,\u001b[49m\u001b[43macquisition\u001b[49m\u001b[43m)\u001b[49m\n\u001b[1;32m     91\u001b[0m \u001b[38;5;28mprint\u001b[39m(dataset)\n\u001b[1;32m     92\u001b[0m \u001b[38;5;28;01mif\u001b[39;00m settings[\u001b[38;5;124m'\u001b[39m\u001b[38;5;124msaveDataset\u001b[39m\u001b[38;5;124m'\u001b[39m]:\n",
      "File \u001b[0;32m~/Dropbox/My Mac (ETSs-MacBook-Pro.local)/Documents/GitHub/MicroscopyControlAndProcessing/source/postprocessors.py:93\u001b[0m, in \u001b[0;36mPostProcessPipeline.process\u001b[0;34m(self, data, acq)\u001b[0m\n\u001b[1;32m     91\u001b[0m outputs\u001b[38;5;241m=\u001b[39m[]\n\u001b[1;32m     92\u001b[0m \u001b[38;5;28;01mfor\u001b[39;00m i \u001b[38;5;129;01min\u001b[39;00m \u001b[38;5;28mrange\u001b[39m(\u001b[38;5;28mlen\u001b[39m(\u001b[38;5;28mself\u001b[39m\u001b[38;5;241m.\u001b[39mnode)):\n\u001b[0;32m---> 93\u001b[0m     (data,output)\u001b[38;5;241m=\u001b[39m\u001b[38;5;28;43mself\u001b[39;49m\u001b[38;5;241;43m.\u001b[39;49m\u001b[43mnode\u001b[49m\u001b[43m[\u001b[49m\u001b[43mi\u001b[49m\u001b[43m]\u001b[49m\u001b[38;5;241;43m.\u001b[39;49m\u001b[43mprocess\u001b[49m\u001b[43m(\u001b[49m\u001b[43mdata\u001b[49m\u001b[43m,\u001b[49m\u001b[43m \u001b[49m\u001b[43macq\u001b[49m\u001b[43m)\u001b[49m\n\u001b[1;32m     94\u001b[0m     outputs\u001b[38;5;241m.\u001b[39mappend(output)\n\u001b[1;32m     95\u001b[0m \u001b[38;5;28;01mreturn\u001b[39;00m outputs\n",
      "File \u001b[0;32m~/Dropbox/My Mac (ETSs-MacBook-Pro.local)/Documents/GitHub/MicroscopyControlAndProcessing/source/postprocessors.py:137\u001b[0m, in \u001b[0;36mPostProcessNode.process\u001b[0;34m(self, dataset, acq, *args, **kwargs)\u001b[0m\n\u001b[1;32m    135\u001b[0m         metadatas\u001b[38;5;241m.\u001b[39mappend(metadata)\n\u001b[1;32m    136\u001b[0m     task \u001b[38;5;241m=\u001b[39m Task(\u001b[38;5;28mself\u001b[39m\u001b[38;5;241m.\u001b[39mfunction,\u001b[38;5;28mself\u001b[39m,chunks,metadatas,hashed_items[i])\n\u001b[0;32m--> 137\u001b[0m     (chunk, chunk_output) \u001b[38;5;241m=\u001b[39m \u001b[43mtask\u001b[49m\u001b[43m(\u001b[49m\u001b[43m)\u001b[49m\n\u001b[1;32m    138\u001b[0m     output[i]\u001b[38;5;241m=\u001b[39mchunk_output\n\u001b[1;32m    139\u001b[0m \u001b[38;5;28mprint\u001b[39m(output)\n",
      "File \u001b[0;32m~/Dropbox/My Mac (ETSs-MacBook-Pro.local)/Documents/GitHub/MicroscopyControlAndProcessing/source/distributed_computing.py:32\u001b[0m, in \u001b[0;36mTask.__call__\u001b[0;34m(self)\u001b[0m\n\u001b[1;32m     31\u001b[0m \u001b[38;5;28;01mdef\u001b[39;00m \u001b[38;5;21m__call__\u001b[39m(\u001b[38;5;28mself\u001b[39m):\n\u001b[0;32m---> 32\u001b[0m     \u001b[38;5;28;01mreturn\u001b[39;00m \u001b[38;5;28;43mself\u001b[39;49m\u001b[38;5;241;43m.\u001b[39;49m\u001b[43mfunction\u001b[49m\u001b[43m(\u001b[49m\u001b[38;5;241;43m*\u001b[39;49m\u001b[38;5;28;43mself\u001b[39;49m\u001b[38;5;241;43m.\u001b[39;49m\u001b[43margs\u001b[49m\u001b[43m,\u001b[49m\u001b[38;5;241;43m*\u001b[39;49m\u001b[38;5;241;43m*\u001b[39;49m\u001b[38;5;28;43mself\u001b[39;49m\u001b[38;5;241;43m.\u001b[39;49m\u001b[43mkwargs\u001b[49m\u001b[43m)\u001b[49m\n",
      "Cell \u001b[0;32mIn[5], line 6\u001b[0m, in \u001b[0;36mhello\u001b[0;34m(self, chunks, acq, *args, **kwargs)\u001b[0m\n\u001b[1;32m      4\u001b[0m output\u001b[38;5;241m=\u001b[39m{}\n\u001b[1;32m      5\u001b[0m \u001b[38;5;28mprint\u001b[39m(\u001b[38;5;124m'\u001b[39m\u001b[38;5;124mHello \u001b[39m\u001b[38;5;124m'\u001b[39m)\n\u001b[0;32m----> 6\u001b[0m \u001b[38;5;28mprint\u001b[39m(\u001b[43mchunks\u001b[49m\u001b[38;5;241;43m.\u001b[39;49m\u001b[43mshape\u001b[49m)\n\u001b[1;32m      7\u001b[0m \u001b[38;5;28;01mreturn\u001b[39;00m (chunks,output)\n",
      "\u001b[0;31mAttributeError\u001b[0m: 'list' object has no attribute 'shape'"
     ]
    }
   ],
   "source": [
    "# Section 1: making the Hello and World callback functions\n",
    "\n",
    "def hello(self,chunks,acq,*args,**kwargs):\n",
    "    output={}\n",
    "    print('Hello ')\n",
    "    print([chunk.shape for chunk in chunks])\n",
    "    return (chunks,output)\n",
    "\n",
    "def world(self,chunks,acq,*args,**kwargs):\n",
    "    output={}\n",
    "    print('World ')\n",
    "    return (chunks, output)\n",
    "\n",
    "# Putting the functions into the pipeline and running it\n",
    "\n",
    "process=PostProcessPipeline()\n",
    "process.addNode(PostProcessNode(function=hello))\n",
    "#process.addNode(PostProcessNode(function=world))\n",
    "\n",
    "decision=DecisionRepeatAcquisition()\n",
    "\n",
    "#apdSystem.linkAPD(acquisition=acquisition,process=processors,decision=DecisionRepeatAcquisition())\n",
    "apdSystem = APDSystem(configFileName='myConfig.cfg', rootDataFolder='') #local\n",
    "apdSystem.linkAPD(acquisition=acquisition,process=process,decision=decision)\n",
    "apdSystem.run()\n",
    "\n",
    "#dataset=apdSystem.acquire(acquisition)\n",
    "\n",
    "# Running the function. <data> and <acq> are just arbitrary things needed to get the callback to work in this particular scenario.\n",
    "\n",
    "#data=NDTiffDataset('data/core/xyLooseGrid_1') # Load Sample dataset\n",
    "#acq=AcquisitionPlugin() #make an empty acquisition to pass into for testing\n",
    "\n",
    "\n"
   ]
  },
  {
   "cell_type": "code",
   "execution_count": null,
   "metadata": {},
   "outputs": [],
   "source": []
  },
  {
   "cell_type": "code",
   "execution_count": null,
   "metadata": {},
   "outputs": [],
   "source": [
    "def cropImage(self,chunks,acq,*args,**kwargs):\n",
    "    output={}\n",
    "    for i in range(len(chunks)):\n",
    "        chunks[i]=chunks[i][10:,:-10] \n",
    "    return (chunks,output)\n",
    "\n",
    "def averageImageValue(self,chunks,acq,*args,**kwargs):\n",
    "    output={}\n",
    "    for i in range(len(chunks)):\n",
    "        print(chunks[i].shape)\n",
    "        output['averageImageValue']=np.mean(chunks[i])\n",
    "    return (chunks,output)\n",
    "\n",
    "\n",
    "# Putting the functions into the pipeline and running it\n",
    "\n",
    "processors=PostProcessPipeline()\n",
    "processors.addNode(PostProcessNode(function=cropImage))\n",
    "processors.addNode(PostProcessNode(function=averageImageValue))\n",
    "\n",
    "# Running the function. <data> and <acq> are just arbitrary things needed to get the callback to work in this particular scenario.\n",
    "\n",
    "data=NDTiffDataset('data/core/xyLooseGrid_1') # Load Sample dataset\n",
    "acq=AcquisitionPlugin() #make an empty acquisition to pass into for testing\n",
    "processors.process(data,acq)"
   ]
  },
  {
   "cell_type": "markdown",
   "metadata": {},
   "source": [
    "## Example X.X: Using Cell Detection on Two Color Images"
   ]
  },
  {
   "cell_type": "code",
   "execution_count": null,
   "metadata": {},
   "outputs": [],
   "source": [
    "def detectCells(self,chunks,acq,*args,**kwargs):\n",
    "    output={}\n",
    "    detector=CellDetectorCellMask()\n",
    "    for i in range(len(chunks)):\n",
    "        print(chunks[i].shape)\n",
    "        output['averageImageValue']=detector.process(chunks[i])\n",
    "    return (chunks,output)\n",
    "\n",
    "# Putting the functions into the pipeline and running it\n",
    "\n",
    "processors=PostProcessPipeline()\n",
    "processors.addNode(PostProcessNode(function=detectCells,squish_axes='channel')) # squish_axes combines images long the channel dimension\n",
    "\n",
    "# Running the function. <data> and <acq> are just arbitrary things needed to get the callback to work in this particular scenario.\n",
    "\n",
    "data=NDTiffDataset('data/core/xyLooseGrid_5') # Load Sample dataset thats is 2 channel\n",
    "acq=AcquisitionPlugin() #make an empty acquisition to pass into for testing\n",
    "processedData=processors.process(data,acq)"
   ]
  },
  {
   "cell_type": "markdown",
   "metadata": {},
   "source": [
    "ADD DISTRIBUTED COMPUTING!!!!!\n",
    "\n",
    "TRANSFRER runners to BRIANS "
   ]
  }
 ],
 "metadata": {
  "kernelspec": {
   "display_name": "venv",
   "language": "python",
   "name": "python3"
  },
  "language_info": {
   "codemirror_mode": {
    "name": "ipython",
    "version": 3
   },
   "file_extension": ".py",
   "mimetype": "text/x-python",
   "name": "python",
   "nbconvert_exporter": "python",
   "pygments_lexer": "ipython3",
   "version": "3.11.5"
  }
 },
 "nbformat": 4,
 "nbformat_minor": 2
}
