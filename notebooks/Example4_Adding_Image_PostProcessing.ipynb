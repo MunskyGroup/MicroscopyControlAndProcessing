{
 "cells": [
  {
   "cell_type": "markdown",
   "metadata": {},
   "source": [
    "# Notebook 4: Adding Image Post-Processing\n",
    "\n",
    "Example: Acquire Process Decide\n",
    "Acquisitions, Processes, and decisions cann be prebuilt from libraries and stiched \n",
    "\n",
    "The AcquisitonPLugin is a set of variables and callback functions that can be used to acquire a dataset.\n",
    "\n",
    "The PostProcesingPipeline takes a dataset and returns ProcessedData. \n",
    "\n",
    "The Deicision takes ProcessedData and returns an acquisition.\n",
    "\n",
    "This 3 step process enables advanced automation of image acquistion. "
   ]
  },
  {
   "cell_type": "code",
   "execution_count": 4,
   "metadata": {},
   "outputs": [],
   "source": [
    "import sys,os\n",
    "sys.path.append('source')"
   ]
  },
  {
   "cell_type": "code",
   "execution_count": 5,
   "metadata": {},
   "outputs": [],
   "source": [
    "from source.apd import *"
   ]
  },
  {
   "cell_type": "markdown",
   "metadata": {},
   "source": [
    "## Example 4.1: Using the APD System to run an AcquisitionPlugin-PostProcessPipeline-Decision (APD)"
   ]
  },
  {
   "cell_type": "code",
   "execution_count": 6,
   "metadata": {},
   "outputs": [
    {
     "ename": "Exception",
     "evalue": "Couldn't create Core. Is Micro-Manager running and is the ZMQ server on {port} option enabled?",
     "output_type": "error",
     "traceback": [
      "\u001b[0;31m---------------------------------------------------------------------------\u001b[0m",
      "\u001b[0;31mZMQError\u001b[0m                                  Traceback (most recent call last)",
      "File \u001b[0;32m~/Projects/MicroscopyControlAndProcessingMe/venv/lib/python3.10/site-packages/pycromanager/mm_java_classes.py:85\u001b[0m, in \u001b[0;36mCore.__new__\u001b[0;34m(cls, convert_camel_case, port, new_socket, debug, timeout)\u001b[0m\n\u001b[1;32m     84\u001b[0m \u001b[39mtry\u001b[39;00m:\n\u001b[0;32m---> 85\u001b[0m     \u001b[39mreturn\u001b[39;00m JavaObject(\u001b[39m\"\u001b[39;49m\u001b[39mmmcorej.CMMCore\u001b[39;49m\u001b[39m\"\u001b[39;49m, new_socket\u001b[39m=\u001b[39;49mnew_socket,\n\u001b[1;32m     86\u001b[0m               port\u001b[39m=\u001b[39;49mport, timeout\u001b[39m=\u001b[39;49mtimeout, convert_camel_case\u001b[39m=\u001b[39;49mconvert_camel_case, debug\u001b[39m=\u001b[39;49mdebug)\n\u001b[1;32m     87\u001b[0m \u001b[39mexcept\u001b[39;00m \u001b[39mException\u001b[39;00m \u001b[39mas\u001b[39;00m e:\n",
      "File \u001b[0;32m~/Projects/MicroscopyControlAndProcessingMe/venv/lib/python3.10/site-packages/pycromanager/zmq_bridge/wrappers.py:74\u001b[0m, in \u001b[0;36mJavaObject.__new__\u001b[0;34m(cls, classpath, args, port, timeout, new_socket, convert_camel_case, debug)\u001b[0m\n\u001b[1;32m     73\u001b[0m bridge \u001b[39m=\u001b[39m _Bridge(port\u001b[39m=\u001b[39mport, timeout\u001b[39m=\u001b[39mtimeout, convert_camel_case\u001b[39m=\u001b[39mconvert_camel_case, debug\u001b[39m=\u001b[39mdebug)\n\u001b[0;32m---> 74\u001b[0m \u001b[39mreturn\u001b[39;00m bridge\u001b[39m.\u001b[39;49m_construct_java_object(classpath, new_socket\u001b[39m=\u001b[39;49mnew_socket, args\u001b[39m=\u001b[39;49margs)\n",
      "File \u001b[0;32m~/Projects/MicroscopyControlAndProcessingMe/venv/lib/python3.10/site-packages/pycromanager/zmq_bridge/_bridge.py:373\u001b[0m, in \u001b[0;36m_Bridge._construct_java_object\u001b[0;34m(self, classpath, new_socket, args, debug)\u001b[0m\n\u001b[1;32m    372\u001b[0m message \u001b[39m=\u001b[39m {\u001b[39m\"\u001b[39m\u001b[39mcommand\u001b[39m\u001b[39m\"\u001b[39m: \u001b[39m\"\u001b[39m\u001b[39mget-constructors\u001b[39m\u001b[39m\"\u001b[39m, \u001b[39m\"\u001b[39m\u001b[39mclasspath\u001b[39m\u001b[39m\"\u001b[39m: classpath}\n\u001b[0;32m--> 373\u001b[0m \u001b[39mself\u001b[39;49m\u001b[39m.\u001b[39;49m_main_socket\u001b[39m.\u001b[39;49msend(message)\n\u001b[1;32m    374\u001b[0m constructors \u001b[39m=\u001b[39m \u001b[39mself\u001b[39m\u001b[39m.\u001b[39m_main_socket\u001b[39m.\u001b[39mreceive()[\u001b[39m\"\u001b[39m\u001b[39mapi\u001b[39m\u001b[39m\"\u001b[39m]\n",
      "File \u001b[0;32m~/Projects/MicroscopyControlAndProcessingMe/venv/lib/python3.10/site-packages/pycromanager/zmq_bridge/_bridge.py:122\u001b[0m, in \u001b[0;36m_DataSocket.send\u001b[0;34m(self, message, timeout, suppress_debug_message)\u001b[0m\n\u001b[1;32m    121\u001b[0m \u001b[39mif\u001b[39;00m timeout \u001b[39m==\u001b[39m \u001b[39m0\u001b[39m \u001b[39mor\u001b[39;00m timeout \u001b[39mis\u001b[39;00m \u001b[39mNone\u001b[39;00m:\n\u001b[0;32m--> 122\u001b[0m     \u001b[39mself\u001b[39;49m\u001b[39m.\u001b[39;49m_socket\u001b[39m.\u001b[39;49msend_multipart(message_parts)\n\u001b[1;32m    123\u001b[0m \u001b[39melse\u001b[39;00m:\n",
      "File \u001b[0;32m~/Projects/MicroscopyControlAndProcessingMe/venv/lib/python3.10/site-packages/zmq/sugar/socket.py:753\u001b[0m, in \u001b[0;36mSocket.send_multipart\u001b[0;34m(self, msg_parts, flags, copy, track, **kwargs)\u001b[0m\n\u001b[1;32m    752\u001b[0m \u001b[39m# Send the last part without the extra SNDMORE flag.\u001b[39;00m\n\u001b[0;32m--> 753\u001b[0m \u001b[39mreturn\u001b[39;00m \u001b[39mself\u001b[39;49m\u001b[39m.\u001b[39;49msend(msg_parts[\u001b[39m-\u001b[39;49m\u001b[39m1\u001b[39;49m], flags, copy\u001b[39m=\u001b[39;49mcopy, track\u001b[39m=\u001b[39;49mtrack)\n",
      "File \u001b[0;32m~/Projects/MicroscopyControlAndProcessingMe/venv/lib/python3.10/site-packages/zmq/sugar/socket.py:696\u001b[0m, in \u001b[0;36mSocket.send\u001b[0;34m(self, data, flags, copy, track, routing_id, group)\u001b[0m\n\u001b[1;32m    695\u001b[0m     data\u001b[39m.\u001b[39mgroup \u001b[39m=\u001b[39m group\n\u001b[0;32m--> 696\u001b[0m \u001b[39mreturn\u001b[39;00m \u001b[39msuper\u001b[39;49m()\u001b[39m.\u001b[39;49msend(data, flags\u001b[39m=\u001b[39;49mflags, copy\u001b[39m=\u001b[39;49mcopy, track\u001b[39m=\u001b[39;49mtrack)\n",
      "File \u001b[0;32mzmq/backend/cython/socket.pyx:742\u001b[0m, in \u001b[0;36mzmq.backend.cython.socket.Socket.send\u001b[0;34m()\u001b[0m\n",
      "File \u001b[0;32mzmq/backend/cython/socket.pyx:789\u001b[0m, in \u001b[0;36mzmq.backend.cython.socket.Socket.send\u001b[0;34m()\u001b[0m\n",
      "File \u001b[0;32mzmq/backend/cython/socket.pyx:255\u001b[0m, in \u001b[0;36mzmq.backend.cython.socket._send_copy\u001b[0;34m()\u001b[0m\n",
      "File \u001b[0;32mzmq/backend/cython/socket.pyx:250\u001b[0m, in \u001b[0;36mzmq.backend.cython.socket._send_copy\u001b[0;34m()\u001b[0m\n",
      "File \u001b[0;32m~/Projects/MicroscopyControlAndProcessingMe/venv/lib/python3.10/site-packages/zmq/backend/cython/checkrc.pxd:28\u001b[0m, in \u001b[0;36mzmq.backend.cython.checkrc._check_rc\u001b[0;34m()\u001b[0m\n",
      "\u001b[0;31mZMQError\u001b[0m: Operation cannot be accomplished in current state",
      "\nDuring handling of the above exception, another exception occurred:\n",
      "\u001b[0;31mException\u001b[0m                                 Traceback (most recent call last)",
      "\u001b[1;32m/Users/mpmay/Projects/MicroscopyControlAndProcessingMe/notebooks/Example4_Adding_Image_PostProcessing.ipynb Cell 5\u001b[0m line \u001b[0;36m1\n\u001b[1;32m     <a href='vscode-notebook-cell:/Users/mpmay/Projects/MicroscopyControlAndProcessingMe/notebooks/Example4_Adding_Image_PostProcessing.ipynb#W4sZmlsZQ%3D%3D?line=9'>10</a>\u001b[0m apdSystem \u001b[39m=\u001b[39m APDSystem(configFileName\u001b[39m=\u001b[39m\u001b[39m'\u001b[39m\u001b[39mmyConfig.cfg\u001b[39m\u001b[39m'\u001b[39m, rootDataFolder\u001b[39m=\u001b[39m\u001b[39m'\u001b[39m\u001b[39m'\u001b[39m) \n\u001b[1;32m     <a href='vscode-notebook-cell:/Users/mpmay/Projects/MicroscopyControlAndProcessingMe/notebooks/Example4_Adding_Image_PostProcessing.ipynb#W4sZmlsZQ%3D%3D?line=10'>11</a>\u001b[0m apdSystem\u001b[39m.\u001b[39mlinkAPD(acquisition\u001b[39m=\u001b[39macquisition,process\u001b[39m=\u001b[39mprocess,decision\u001b[39m=\u001b[39mDecisionRepeatAcquisition())\n\u001b[0;32m---> <a href='vscode-notebook-cell:/Users/mpmay/Projects/MicroscopyControlAndProcessingMe/notebooks/Example4_Adding_Image_PostProcessing.ipynb#W4sZmlsZQ%3D%3D?line=11'>12</a>\u001b[0m apdSystem\u001b[39m.\u001b[39;49mrun()\n",
      "File \u001b[0;32m~/Projects/MicroscopyControlAndProcessingMe/source/apd.py:87\u001b[0m, in \u001b[0;36mAPDSystem.run\u001b[0;34m(self)\u001b[0m\n\u001b[1;32m     85\u001b[0m \u001b[39mfor\u001b[39;00m i \u001b[39min\u001b[39;00m \u001b[39mrange\u001b[39m(\u001b[39mlen\u001b[39m(\u001b[39mself\u001b[39m\u001b[39m.\u001b[39mchain)):\n\u001b[1;32m     86\u001b[0m     [acquisition, processor, decision,settings]\u001b[39m=\u001b[39m\u001b[39mself\u001b[39m\u001b[39m.\u001b[39mchain[i]\n\u001b[0;32m---> 87\u001b[0m     images\u001b[39m=\u001b[39m\u001b[39mself\u001b[39;49m\u001b[39m.\u001b[39;49macquire(acquisition)\n\u001b[1;32m     88\u001b[0m     \u001b[39mif\u001b[39;00m settings[\u001b[39m'\u001b[39m\u001b[39msaveInitialImages\u001b[39m\u001b[39m'\u001b[39m]:\n\u001b[1;32m     89\u001b[0m         \u001b[39mself\u001b[39m\u001b[39m.\u001b[39mbackend\u001b[39m.\u001b[39mdatamanager\u001b[39m.\u001b[39mput(images,settings[\u001b[39m'\u001b[39m\u001b[39msaveInitialImages\u001b[39m\u001b[39m'\u001b[39m])\n",
      "File \u001b[0;32m~/Projects/MicroscopyControlAndProcessingMe/source/apd.py:101\u001b[0m, in \u001b[0;36mAPDSystem.acquire\u001b[0;34m(self, acquisition)\u001b[0m\n\u001b[1;32m    100\u001b[0m \u001b[39mdef\u001b[39;00m \u001b[39macquire\u001b[39m(\u001b[39mself\u001b[39m,acquisition):\n\u001b[0;32m--> 101\u001b[0m     dataset \u001b[39m=\u001b[39m \u001b[39mself\u001b[39;49m\u001b[39m.\u001b[39;49mbackend\u001b[39m.\u001b[39;49macquire(acquisition)\n\u001b[1;32m    102\u001b[0m     \u001b[39mreturn\u001b[39;00m dataset\n",
      "File \u001b[0;32m~/Projects/MicroscopyControlAndProcessingMe/source/environment.py:194\u001b[0m, in \u001b[0;36mBackend.acquire\u001b[0;34m(self, acquisition)\u001b[0m\n\u001b[1;32m    192\u001b[0m \u001b[39mif\u001b[39;00m acquisition\u001b[39m.\u001b[39msettings\u001b[39m.\u001b[39mdirectory \u001b[39m==\u001b[39m \u001b[39mNone\u001b[39;00m:\n\u001b[1;32m    193\u001b[0m     acquisition\u001b[39m.\u001b[39msettings\u001b[39m.\u001b[39mdirectory \u001b[39m=\u001b[39m \u001b[39mself\u001b[39m\u001b[39m.\u001b[39mglobals\u001b[39m.\u001b[39mDATA_ACQUISITION_PATH\n\u001b[0;32m--> 194\u001b[0m dataset \u001b[39m=\u001b[39m acquisition\u001b[39m.\u001b[39;49mrun()\n\u001b[1;32m    195\u001b[0m \u001b[39mself\u001b[39m\u001b[39m.\u001b[39mverbosity\u001b[39m.\u001b[39madd(\u001b[39m'\u001b[39m\u001b[39mAcquisition Complete\u001b[39m\u001b[39m'\u001b[39m)\n\u001b[1;32m    196\u001b[0m \u001b[39mself\u001b[39m\u001b[39m.\u001b[39mverbosity\u001b[39m.\u001b[39mprint()\n",
      "File \u001b[0;32m~/Projects/MicroscopyControlAndProcessingMe/source/acquisition.py:310\u001b[0m, in \u001b[0;36mAcquisitionPlugin.run\u001b[0;34m(self)\u001b[0m\n\u001b[1;32m    308\u001b[0m \u001b[39m#print('Number of events in schedule:{0}'.format(len(events)))\u001b[39;00m\n\u001b[1;32m    309\u001b[0m \u001b[39mif\u001b[39;00m \u001b[39mnot\u001b[39;00m \u001b[39mself\u001b[39m\u001b[39m.\u001b[39msettings\u001b[39m.\u001b[39mis_seeding:\n\u001b[0;32m--> 310\u001b[0m     \u001b[39mwith\u001b[39;00m  Acquisition(directory\u001b[39m=\u001b[39;49m\u001b[39mself\u001b[39;49m\u001b[39m.\u001b[39;49msettings\u001b[39m.\u001b[39;49mdirectory,\n\u001b[1;32m    311\u001b[0m                   name\u001b[39m=\u001b[39;49m\u001b[39mself\u001b[39;49m\u001b[39m.\u001b[39;49msettings\u001b[39m.\u001b[39;49mname,\n\u001b[1;32m    312\u001b[0m                   image_process_fn\u001b[39m=\u001b[39;49m\u001b[39mself\u001b[39;49m\u001b[39m.\u001b[39;49mhooks\u001b[39m.\u001b[39;49mhookImageProcess,\n\u001b[1;32m    313\u001b[0m                   \u001b[39m#event_generation_hook_fn=self.hooks.hookEventGeneration,\u001b[39;49;00m\n\u001b[1;32m    314\u001b[0m                   pre_hardware_hook_fn\u001b[39m=\u001b[39;49m\u001b[39mself\u001b[39;49m\u001b[39m.\u001b[39;49mhooks\u001b[39m.\u001b[39;49mhookPreHardware,\n\u001b[1;32m    315\u001b[0m                   post_hardware_hook_fn\u001b[39m=\u001b[39;49m\u001b[39mself\u001b[39;49m\u001b[39m.\u001b[39;49mhooks\u001b[39m.\u001b[39;49mhookPostHardware,\n\u001b[1;32m    316\u001b[0m                   post_camera_hook_fn\u001b[39m=\u001b[39;49m\u001b[39mself\u001b[39;49m\u001b[39m.\u001b[39;49mhooks\u001b[39m.\u001b[39;49mhookPostCamera,\n\u001b[1;32m    317\u001b[0m                   show_display\u001b[39m=\u001b[39;49m\u001b[39mself\u001b[39;49m\u001b[39m.\u001b[39;49msettings\u001b[39m.\u001b[39;49mshow_display,\n\u001b[1;32m    318\u001b[0m                   process\u001b[39m=\u001b[39;49m\u001b[39mself\u001b[39;49m\u001b[39m.\u001b[39;49msettings\u001b[39m.\u001b[39;49mprocess,\n\u001b[1;32m    319\u001b[0m                   saving_queue_size\u001b[39m=\u001b[39;49m\u001b[39mself\u001b[39;49m\u001b[39m.\u001b[39;49msettings\u001b[39m.\u001b[39;49msaving_queue_size,\n\u001b[1;32m    320\u001b[0m                   debug\u001b[39m=\u001b[39;49m\u001b[39mself\u001b[39;49m\u001b[39m.\u001b[39;49msettings\u001b[39m.\u001b[39;49mdebug,\n\u001b[1;32m    321\u001b[0m                   core_log_debug\u001b[39m=\u001b[39;49m\u001b[39mself\u001b[39;49m\u001b[39m.\u001b[39;49msettings\u001b[39m.\u001b[39;49mcore_log_debug,\n\u001b[1;32m    322\u001b[0m                   port\u001b[39m=\u001b[39;49m\u001b[39mself\u001b[39;49m\u001b[39m.\u001b[39;49msettings\u001b[39m.\u001b[39;49mport) \u001b[39mas\u001b[39;00m acq:\n\u001b[1;32m    323\u001b[0m         acq\u001b[39m.\u001b[39macquire(events)\n\u001b[1;32m    325\u001b[0m \u001b[39melse\u001b[39;00m:\n",
      "File \u001b[0;32m~/Projects/MicroscopyControlAndProcessingMe/venv/lib/python3.10/site-packages/pycromanager/acquisitions.py:324\u001b[0m, in \u001b[0;36mAcquisition.__init__\u001b[0;34m(self, directory, name, image_process_fn, event_generation_hook_fn, pre_hardware_hook_fn, post_hardware_hook_fn, post_camera_hook_fn, show_display, napari_viewer, image_saved_fn, process, saving_queue_size, timeout, port, debug, core_log_debug)\u001b[0m\n\u001b[1;32m    321\u001b[0m     named_args[\u001b[39m'\u001b[39m\u001b[39mdirectory\u001b[39m\u001b[39m'\u001b[39m] \u001b[39m=\u001b[39m os\u001b[39m.\u001b[39mpath\u001b[39m.\u001b[39mabspath(directory)\n\u001b[1;32m    323\u001b[0m \u001b[39mself\u001b[39m\u001b[39m.\u001b[39m_create_event_queue(\u001b[39m*\u001b[39m\u001b[39m*\u001b[39mnamed_args)\n\u001b[0;32m--> 324\u001b[0m \u001b[39mself\u001b[39;49m\u001b[39m.\u001b[39;49m_create_remote_acquisition(\u001b[39m*\u001b[39;49m\u001b[39m*\u001b[39;49mnamed_args)\n\u001b[1;32m    325\u001b[0m \u001b[39mself\u001b[39m\u001b[39m.\u001b[39m_initialize_image_processor(\u001b[39m*\u001b[39m\u001b[39m*\u001b[39mnamed_args)\n\u001b[1;32m    326\u001b[0m \u001b[39mself\u001b[39m\u001b[39m.\u001b[39m_initialize_hooks(\u001b[39m*\u001b[39m\u001b[39m*\u001b[39mnamed_args)\n",
      "File \u001b[0;32m~/Projects/MicroscopyControlAndProcessingMe/venv/lib/python3.10/site-packages/pycromanager/acquisitions.py:589\u001b[0m, in \u001b[0;36mAcquisition._create_remote_acquisition\u001b[0;34m(self, **kwargs)\u001b[0m\n\u001b[1;32m    588\u001b[0m \u001b[39mdef\u001b[39;00m \u001b[39m_create_remote_acquisition\u001b[39m(\u001b[39mself\u001b[39m, \u001b[39m*\u001b[39m\u001b[39m*\u001b[39mkwargs):\n\u001b[0;32m--> 589\u001b[0m     core \u001b[39m=\u001b[39m Core(port\u001b[39m=\u001b[39;49m\u001b[39mself\u001b[39;49m\u001b[39m.\u001b[39;49m_port, timeout\u001b[39m=\u001b[39;49m\u001b[39mself\u001b[39;49m\u001b[39m.\u001b[39;49m_timeout, debug\u001b[39m=\u001b[39;49m\u001b[39mself\u001b[39;49m\u001b[39m.\u001b[39;49m_debug)\n\u001b[1;32m    590\u001b[0m     acq_factory \u001b[39m=\u001b[39m JavaObject(\u001b[39m\"\u001b[39m\u001b[39morg.micromanager.remote.RemoteAcquisitionFactory\u001b[39m\u001b[39m\"\u001b[39m,\n\u001b[1;32m    591\u001b[0m         port\u001b[39m=\u001b[39m\u001b[39mself\u001b[39m\u001b[39m.\u001b[39m_port, args\u001b[39m=\u001b[39m[core], debug\u001b[39m=\u001b[39m\u001b[39mself\u001b[39m\u001b[39m.\u001b[39m_debug)\n\u001b[1;32m    592\u001b[0m     show_viewer \u001b[39m=\u001b[39m kwargs[\u001b[39m'\u001b[39m\u001b[39mshow_display\u001b[39m\u001b[39m'\u001b[39m] \u001b[39mis\u001b[39;00m \u001b[39mTrue\u001b[39;00m \u001b[39mand\u001b[39;00m\\\n\u001b[1;32m    593\u001b[0m                   kwargs[\u001b[39m'\u001b[39m\u001b[39mnapari_viewer\u001b[39m\u001b[39m'\u001b[39m] \u001b[39mis\u001b[39;00m \u001b[39mNone\u001b[39;00m \u001b[39mand\u001b[39;00m\\\n\u001b[1;32m    594\u001b[0m                   (kwargs[\u001b[39m'\u001b[39m\u001b[39mdirectory\u001b[39m\u001b[39m'\u001b[39m] \u001b[39mis\u001b[39;00m \u001b[39mnot\u001b[39;00m \u001b[39mNone\u001b[39;00m \u001b[39mand\u001b[39;00m kwargs[\u001b[39m'\u001b[39m\u001b[39mname\u001b[39m\u001b[39m'\u001b[39m] \u001b[39mis\u001b[39;00m \u001b[39mnot\u001b[39;00m \u001b[39mNone\u001b[39;00m)\n",
      "File \u001b[0;32m~/Projects/MicroscopyControlAndProcessingMe/venv/lib/python3.10/site-packages/pycromanager/mm_java_classes.py:88\u001b[0m, in \u001b[0;36mCore.__new__\u001b[0;34m(cls, convert_camel_case, port, new_socket, debug, timeout)\u001b[0m\n\u001b[1;32m     85\u001b[0m     \u001b[39mreturn\u001b[39;00m JavaObject(\u001b[39m\"\u001b[39m\u001b[39mmmcorej.CMMCore\u001b[39m\u001b[39m\"\u001b[39m, new_socket\u001b[39m=\u001b[39mnew_socket,\n\u001b[1;32m     86\u001b[0m               port\u001b[39m=\u001b[39mport, timeout\u001b[39m=\u001b[39mtimeout, convert_camel_case\u001b[39m=\u001b[39mconvert_camel_case, debug\u001b[39m=\u001b[39mdebug)\n\u001b[1;32m     87\u001b[0m \u001b[39mexcept\u001b[39;00m \u001b[39mException\u001b[39;00m \u001b[39mas\u001b[39;00m e:\n\u001b[0;32m---> 88\u001b[0m     \u001b[39mraise\u001b[39;00m \u001b[39mException\u001b[39;00m(\u001b[39m\"\u001b[39m\u001b[39mCouldn\u001b[39m\u001b[39m'\u001b[39m\u001b[39mt create Core. Is Micro-Manager running and is the ZMQ server on \u001b[39m\u001b[39m{port}\u001b[39;00m\u001b[39m option enabled?\u001b[39m\u001b[39m\"\u001b[39m)\n",
      "\u001b[0;31mException\u001b[0m: Couldn't create Core. Is Micro-Manager running and is the ZMQ server on {port} option enabled?"
     ]
    }
   ],
   "source": [
    "from source.apd import *\n",
    "acqLibrary=AcquisitionPluginLibrary()\n",
    "acquisition=acqLibrary.xySequence([[0,0]])\n",
    "\n",
    "process=PostProcessPipeline()\n",
    "process.add('mean')\n",
    "\n",
    "decision=DecisionRepeatAcquisition()\n",
    "\n",
    "apdSystem = APDSystem(configFileName='myConfig.cfg', rootDataFolder='') \n",
    "apdSystem.linkAPD(acquisition=acquisition,process=process,decision=DecisionRepeatAcquisition())\n",
    "apdSystem.run()\n"
   ]
  },
  {
   "cell_type": "markdown",
   "metadata": {},
   "source": [
    "## Example 4.X: Writing your own PostProcess to print Hello World\n",
    "\n",
    "This section describes how to make your own PostProcessNode using a function callback.\n",
    "\n",
    "The first section describes the callback schema for process node functions, and the secon section shows how to run the callbacks.\n"
   ]
  },
  {
   "cell_type": "code",
   "execution_count": 11,
   "metadata": {},
   "outputs": [
    {
     "name": "stdout",
     "output_type": "stream",
     "text": [
      "Dataset opened                 \n",
      "{frozenset({('position', 0), ('time', 0)}): [{'position': 0, 'time': 0}]}\n",
      "Hello \n",
      "{frozenset({('position', 0), ('time', 0)}): [{'position': 0, 'time': 0}]}\n",
      "World\n"
     ]
    },
    {
     "data": {
      "text/plain": [
       "[<source.postprocessors.ProcessedData at 0x29b7999c0>,\n",
       " <source.postprocessors.ProcessedData at 0x29c264730>]"
      ]
     },
     "execution_count": 11,
     "metadata": {},
     "output_type": "execute_result"
    }
   ],
   "source": [
    "from source.postprocessors import *\n",
    "\n",
    "# Section 1: making the Hello and World callback functions\n",
    "\n",
    "def hello(self,chunks,acq,*args,**kwargs):\n",
    "    output={}\n",
    "    return (chunks,output)\n",
    "\n",
    "def world(self,chunks,acq,*args,**kwargs):\n",
    "    output={}\n",
    "    print('World ')\n",
    "    return (chunks, output)\n",
    "\n",
    "# Putting the functions into the pipeline and running it\n",
    "\n",
    "processors=PostProcessPipeline()\n",
    "processors.addNode(PostProcessNode(function=hello))\n",
    "processors.addNode(PostProcessNode(function=world))\n",
    "\n",
    "# Running the function. <data> and <acq> are just arbitrary things needed to get the callback to work in this particular scenario.\n",
    "\n",
    "data=NDTiffDataset('data/core/xyLooseGrid_1') # Load Sample dataset\n",
    "acq=AcquisitionPlugin() #make an empty acquisition to pass into for testing\n",
    "\n",
    "apdSystem=\n",
    "\n"
   ]
  },
  {
   "cell_type": "code",
   "execution_count": null,
   "metadata": {},
   "outputs": [],
   "source": []
  },
  {
   "cell_type": "code",
   "execution_count": 22,
   "metadata": {},
   "outputs": [
    {
     "name": "stdout",
     "output_type": "stream",
     "text": [
      "Dataset opened                 \n",
      "{frozenset({('position', 0), ('time', 0)}): [{'position': 0, 'time': 0}]}\n",
      "{frozenset({('position', 0), ('time', 0)}): [{'position': 0, 'time': 0}]}\n",
      "(512, 512)\n"
     ]
    },
    {
     "data": {
      "text/plain": [
       "[<source.postprocessors.ProcessedData at 0x29c4d12d0>,\n",
       " <source.postprocessors.ProcessedData at 0x29c39e800>]"
      ]
     },
     "execution_count": 22,
     "metadata": {},
     "output_type": "execute_result"
    }
   ],
   "source": [
    "def cropImage(self,chunks,acq,*args,**kwargs):\n",
    "    output={}\n",
    "    for i in range(len(chunks)):\n",
    "        chunks[i]=chunks[i][10:,:-10] \n",
    "    return (chunks,output)\n",
    "\n",
    "def averageImageValue(self,chunks,acq,*args,**kwargs):\n",
    "    output={}\n",
    "    for i in range(len(chunks)):\n",
    "        print(chunks[i].shape)\n",
    "        output['averageImageValue']=np.mean(chunks[i])\n",
    "    return (chunks,output)\n",
    "\n",
    "\n",
    "# Putting the functions into the pipeline and running it\n",
    "\n",
    "processors=PostProcessPipeline()\n",
    "processors.addNode(PostProcessNode(function=cropImage))\n",
    "processors.addNode(PostProcessNode(function=averageImageValue))\n",
    "\n",
    "# Running the function. <data> and <acq> are just arbitrary things needed to get the callback to work in this particular scenario.\n",
    "\n",
    "data=NDTiffDataset('data/core/xyLooseGrid_1') # Load Sample dataset\n",
    "acq=AcquisitionPlugin() #make an empty acquisition to pass into for testing\n",
    "processors.process(data,acq)"
   ]
  },
  {
   "cell_type": "markdown",
   "metadata": {},
   "source": [
    "## Example X.X: Using Cell Detection on Two Color Images"
   ]
  },
  {
   "cell_type": "code",
   "execution_count": null,
   "metadata": {},
   "outputs": [
    {
     "name": "stdout",
     "output_type": "stream",
     "text": [
      "Dataset opened                 \n",
      "{frozenset({('position', 0), ('z', 0)}): [{'position': 0, 'z': 0, 'channel': 'DAPI'}]}\n",
      "{frozenset({('position', 0), ('z', 0)}): [{'position': 0, 'z': 0, 'channel': 'DAPI'}, {'channel': 'Cy5', 'position': 0, 'z': 0}]}\n",
      "(512, 512)\n",
      "(512, 512)\n"
     ]
    },
    {
     "data": {
      "text/plain": [
       "[<source.postprocessors.ProcessedData at 0x29b5b25c0>]"
      ]
     },
     "execution_count": 26,
     "metadata": {},
     "output_type": "execute_result"
    }
   ],
   "source": [
    "def detectCells(self,chunks,acq,*args,**kwargs):\n",
    "    output={}\n",
    "    detector=CellDetectorCellMask()\n",
    "    for i in range(len(chunks)):\n",
    "        print(chunks[i].shape)\n",
    "        output['averageImageValue']=detector.process(chunks[i])\n",
    "    return (chunks,output)\n",
    "\n",
    "# Putting the functions into the pipeline and running it\n",
    "\n",
    "processors=PostProcessPipeline()\n",
    "processors.addNode(PostProcessNode(function=detectCells,squish_axes='channel')) # squish_axes combines images long the channel dimension\n",
    "\n",
    "# Running the function. <data> and <acq> are just arbitrary things needed to get the callback to work in this particular scenario.\n",
    "\n",
    "data=NDTiffDataset('data/core/xyLooseGrid_5') # Load Sample dataset thats is 2 channel\n",
    "acq=AcquisitionPlugin() #make an empty acquisition to pass into for testing\n",
    "processedData=processors.process(data,acq)"
   ]
  },
  {
   "cell_type": "markdown",
   "metadata": {},
   "source": [
    "ADD DISTRIBUTED COMPUTING!!!!!\n",
    "\n",
    "TRANSFRER runners to BRIANS "
   ]
  }
 ],
 "metadata": {
  "kernelspec": {
   "display_name": "venv",
   "language": "python",
   "name": "python3"
  },
  "language_info": {
   "codemirror_mode": {
    "name": "ipython",
    "version": 3
   },
   "file_extension": ".py",
   "mimetype": "text/x-python",
   "name": "python",
   "nbconvert_exporter": "python",
   "pygments_lexer": "ipython3",
   "version": "3.10.11"
  }
 },
 "nbformat": 4,
 "nbformat_minor": 2
}
