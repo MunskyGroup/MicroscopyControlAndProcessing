{
 "cells": [
  {
   "cell_type": "markdown",
   "metadata": {},
   "source": [
    "This Example code will walk you through the creation of PyroManager Hooks.\n",
    "\n",
    "These hooks are also called 'callback functions' which are functions passed into functions to be evaluated at different stages of the image acquisition loop.\n",
    "The stages are as follows:\n",
    "\n",
    "(1) Pre-Hardware Hook \n",
    "\n",
    "(2) Post Hardware Hook\n",
    "\n",
    "(3) Pre Camera Hook\n",
    "\n",
    "(4) Post Camera Hook\n",
    "\n",
    "(5) Image Processing Hook\n",
    "\n",
    "If a callback is used, the acqusition will cycle over (1~4) repeating for each image acquired. The image hook lives on its own thread.\n",
    "\n",
    "Each hook function requires the creation of a function with a very particular inputs, unique to each type of callback\n",
    "\n",
    "A HookSet is a wad of all the hook functions treated as a single object. Each hook is a variable of the HookSet."
   ]
  },
  {
   "cell_type": "markdown",
   "metadata": {},
   "source": [
    "Hello World Example:\n",
    "Below is an example of the creation of a Pre hardware hook that prints hello world after actuating the hardware"
   ]
  },
  {
   "cell_type": "code",
   "execution_count": 1,
   "metadata": {},
   "outputs": [],
   "source": [
    "import sys,os\n",
    "sys.path.append('source')"
   ]
  },
  {
   "cell_type": "code",
   "execution_count": 5,
   "metadata": {},
   "outputs": [
    {
     "name": "stdout",
     "output_type": "stream",
     "text": [
      "hello world\n",
      "Acquisition Complete\n",
      "Acquisition Complete\n"
     ]
    }
   ],
   "source": [
    "from source.apd import *\n",
    "from source.hooks import HookSet, Hook\n",
    "\n",
    "def helloWorldFunction(self,event,stack,**kwargs):\n",
    "    print('hello world')\n",
    "hooks=HookSet()\n",
    "hooks.hookPostHardware=Hook(function=helloWorldFunction)\n",
    "\n",
    "\n",
    "apdSystem = APDSystem(configFileName='myConfig.cfg', rootDataFolder='') #local\n",
    "lib = AcquisitionPluginLibrary()\n",
    "positions=[[0,0]] #a list of length 1 which will use the origin [0,0] only\n",
    "acquisition = lib.xySequence(positions)\n",
    "acquisition.hooks=hooks\n",
    "dataset=apdSystem.acquire(acquisition)"
   ]
  }
 ],
 "metadata": {
  "kernelspec": {
   "display_name": "venv",
   "language": "python",
   "name": "python3"
  },
  "language_info": {
   "codemirror_mode": {
    "name": "ipython",
    "version": 3
   },
   "file_extension": ".py",
   "mimetype": "text/x-python",
   "name": "python",
   "nbconvert_exporter": "python",
   "pygments_lexer": "ipython3",
   "version": "3.10.11"
  }
 },
 "nbformat": 4,
 "nbformat_minor": 2
}
