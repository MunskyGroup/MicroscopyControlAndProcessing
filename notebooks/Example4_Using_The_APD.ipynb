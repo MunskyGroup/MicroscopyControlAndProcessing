{
 "cells": [
  {
   "cell_type": "markdown",
   "metadata": {},
   "source": [
    "# Notebook 4: Accelerating Analysis using the PostProcessing and Decisions\n",
    "Example: Acquire Process Decide\n",
    "Acquisitions, Processes, and decisions cann be prebuilt from libraries and stiched \n",
    "\n",
    "The AcquisitonPLugin is a set of variables and callback functions that can be used to acquire a dataset.\n",
    "\n",
    "The PostProcesingPipeline takes a dataset and returns ProcessedData. \n",
    "\n",
    "The Deicision takes ProcessedData and returns an acquisition.\n",
    "\n",
    "This 3 step process enables advanced automation of image acquistion. "
   ]
  },
  {
   "cell_type": "code",
   "execution_count": 1,
   "metadata": {},
   "outputs": [],
   "source": [
    "import sys,os\n",
    "sys.path.append('source')"
   ]
  },
  {
   "cell_type": "code",
   "execution_count": 2,
   "metadata": {},
   "outputs": [],
   "source": [
    "from source.apd import *"
   ]
  },
  {
   "cell_type": "markdown",
   "metadata": {},
   "source": [
    "## Example 4.1: Using the APD System to run an AcquisitionPlugin-PostProcessPipeline-Decision (APD)"
   ]
  },
  {
   "cell_type": "code",
   "execution_count": 15,
   "metadata": {},
   "outputs": [
    {
     "ename": "TypeError",
     "evalue": "APDSystem.run() takes 1 positional argument but 2 were given",
     "output_type": "error",
     "traceback": [
      "\u001b[0;31m---------------------------------------------------------------------------\u001b[0m",
      "\u001b[0;31mTypeError\u001b[0m                                 Traceback (most recent call last)",
      "\u001b[1;32m/Users/mpmay/Projects/MicroscopyControlAndProcessingMe/notebooks/Example4_Using_The_APD.ipynb Cell 5\u001b[0m line \u001b[0;36m1\n\u001b[1;32m      <a href='vscode-notebook-cell:/Users/mpmay/Projects/MicroscopyControlAndProcessingMe/notebooks/Example4_Using_The_APD.ipynb#W4sZmlsZQ%3D%3D?line=7'>8</a>\u001b[0m decision\u001b[39m=\u001b[39mDecisionRepeatAcquisition()\n\u001b[1;32m     <a href='vscode-notebook-cell:/Users/mpmay/Projects/MicroscopyControlAndProcessingMe/notebooks/Example4_Using_The_APD.ipynb#W4sZmlsZQ%3D%3D?line=9'>10</a>\u001b[0m apdSystem \u001b[39m=\u001b[39m APDSystem(configFileName\u001b[39m=\u001b[39m\u001b[39m'\u001b[39m\u001b[39mmyConfig.cfg\u001b[39m\u001b[39m'\u001b[39m, rootDataFolder\u001b[39m=\u001b[39m\u001b[39m'\u001b[39m\u001b[39m'\u001b[39m) \n\u001b[0;32m---> <a href='vscode-notebook-cell:/Users/mpmay/Projects/MicroscopyControlAndProcessingMe/notebooks/Example4_Using_The_APD.ipynb#W4sZmlsZQ%3D%3D?line=10'>11</a>\u001b[0m apdSystem\u001b[39m.\u001b[39;49mrun(acquisition)\n",
      "\u001b[0;31mTypeError\u001b[0m: APDSystem.run() takes 1 positional argument but 2 were given"
     ]
    }
   ],
   "source": [
    "from source.apd import *\n",
    "acqLibrary=AcquisitionPluginLibrary()\n",
    "acquisition=acqLibrary.xySequence([[0,0]])\n",
    "\n",
    "process=PostProcessPipeline()\n",
    "process.add('mean')\n",
    "\n",
    "decision=DecisionRepeatAcquisition()\n",
    "\n",
    "apdSystem = APDSystem(configFileName='myConfig.cfg', rootDataFolder='') \n",
    "apdSystem.run(acquisition)\n"
   ]
  },
  {
   "cell_type": "markdown",
   "metadata": {},
   "source": [
    "## Example 4.X: Writing your own PostProcess to print Hello World\n",
    "\n",
    "This section describes how to make your own PostProcessNode using a function callback.\n"
   ]
  },
  {
   "cell_type": "code",
   "execution_count": 4,
   "metadata": {},
   "outputs": [
    {
     "data": {
      "text/plain": [
       "['install',\n",
       " '.DS_Store',\n",
       " 'report.log',\n",
       " 'requirements.txt',\n",
       " 'test',\n",
       " 'config.txt',\n",
       " 'shell',\n",
       " 'users.csv',\n",
       " 'source',\n",
       " 'content',\n",
       " '__pycache__',\n",
       " 'signiature.py',\n",
       " 'README.md',\n",
       " 'idea',\n",
       " '.env',\n",
       " 'scripts',\n",
       " '.github',\n",
       " '.ipynb_checkpoints',\n",
       " 'venv',\n",
       " 'external',\n",
       " '.git',\n",
       " '.vscode',\n",
       " 'data',\n",
       " 'test.sh',\n",
       " 'notebooks',\n",
       " 'authentication.csv',\n",
       " 'test.cmd',\n",
       " '.idea']"
      ]
     },
     "execution_count": 4,
     "metadata": {},
     "output_type": "execute_result"
    }
   ],
   "source": [
    "os.getcwd()\n",
    "os.listdir()"
   ]
  },
  {
   "cell_type": "code",
   "execution_count": 10,
   "metadata": {},
   "outputs": [
    {
     "name": "stdout",
     "output_type": "stream",
     "text": [
      "Dataset opened                 \n",
      "{frozenset({('position', 0), ('time', 0)}): [{'position': 0, 'time': 0}]}\n",
      "Hello \n",
      "{frozenset({('position', 0), ('time', 0)}): [{'position': 0, 'time': 0}]}\n",
      "World\n"
     ]
    },
    {
     "data": {
      "text/plain": [
       "[<source.postprocessors.ProcessedData at 0x29b7b9690>,\n",
       " <source.postprocessors.ProcessedData at 0x29b7b9780>]"
      ]
     },
     "execution_count": 10,
     "metadata": {},
     "output_type": "execute_result"
    }
   ],
   "source": [
    "from source.postprocessors import *\n",
    "sys.path.append('data')\n",
    "\n",
    "os.getcwd()\n",
    "os.listdir()\n",
    "\n",
    "def hello(self,chunks,acq,*args,**kwargs):\n",
    "    output={}\n",
    "    print('Hello ')\n",
    "    return (chunks,output)\n",
    "\n",
    "def world(self,chunks,acq,*args,**kwargs):\n",
    "    output={}\n",
    "    print('World')\n",
    "    return (chunks, output)\n",
    "\n",
    "processors=PostProcessPipeline()\n",
    "processors.addNode(PostProcessNode(function=hello))\n",
    "processors.addNode(PostProcessNode(function=world))\n",
    "\n",
    "data=NDTiffDataset('data/core/xyLooseGrid_1')\n",
    "acq=AcquisitionPlugin() #make an empty acquisition to pass into for testing\n",
    "processors.process(data,acq)\n",
    "\n"
   ]
  }
 ],
 "metadata": {
  "kernelspec": {
   "display_name": "venv",
   "language": "python",
   "name": "python3"
  },
  "language_info": {
   "codemirror_mode": {
    "name": "ipython",
    "version": 3
   },
   "file_extension": ".py",
   "mimetype": "text/x-python",
   "name": "python",
   "nbconvert_exporter": "python",
   "pygments_lexer": "ipython3",
   "version": "3.10.11"
  }
 },
 "nbformat": 4,
 "nbformat_minor": 2
}
